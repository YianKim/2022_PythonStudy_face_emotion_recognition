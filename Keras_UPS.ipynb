{
  "cells": [
    {
      "cell_type": "markdown",
      "metadata": {
        "id": "view-in-github",
        "colab_type": "text"
      },
      "source": [
        "<a href=\"https://colab.research.google.com/github/YianKim/2022_uncertainty_aware_semisupervise/blob/main/Keras_UPS.ipynb\" target=\"_parent\"><img src=\"https://colab.research.google.com/assets/colab-badge.svg\" alt=\"Open In Colab\"/></a>"
      ]
    },
    {
      "cell_type": "code",
      "execution_count": null,
      "metadata": {
        "id": "Ik7Qx5iO8lQ_"
      },
      "outputs": [],
      "source": [
        "import matplotlib.pyplot as plt\n",
        "from tensorflow import keras\n",
        "import numpy as np\n",
        "from sklearn.model_selection import train_test_split\n",
        "from tensorflow.keras.models import clone_model\n",
        "\n",
        "import PIL\n",
        "from PIL import Image\n",
        "\n",
        "import pickle\n",
        "import random\n",
        "from tqdm import tqdm\n",
        "from collections import Counter\n",
        "\n",
        "from keras.layers.core import Lambda\n",
        "from keras import backend as K\n",
        "\n",
        "from keras.models import Sequential\n",
        "from keras.layers import Conv2D\n",
        "from keras.layers import BatchNormalization\n",
        "from keras.regularizers import l2\n",
        "from keras.layers import Activation\n",
        "from keras.layers import Dropout\n",
        "from keras.layers import MaxPooling2D, AveragePooling2D\n",
        "from keras.layers import Flatten\n",
        "from keras.layers import Dense\n",
        "from keras.layers import Reshape\n",
        "from keras import optimizers\n",
        "from keras.callbacks import *\n",
        "from sklearn.metrics import *\n",
        "from keras.models import load_model\n",
        "import tensorflow_addons as tfa\n",
        "\n",
        "from torchvision import transforms\n",
        "\n",
        "import tensorflow as tf\n",
        "import tensorflow.keras.backend as backend\n",
        "import math\n",
        "import gc"
      ]
    },
    {
      "cell_type": "markdown",
      "metadata": {
        "id": "2A3-ednCG7ZL"
      },
      "source": [
        "# cifar10 dataset"
      ]
    },
    {
      "cell_type": "code",
      "execution_count": null,
      "metadata": {
        "id": "LAzGxvve8pgp"
      },
      "outputs": [],
      "source": [
        "cifar10 = keras.datasets.cifar10 \n",
        "(train_images, train_labels), (test_images, test_labels) = cifar10.load_data()\n",
        "train_images = train_images/255\n",
        "test_images = test_images/255"
      ]
    },
    {
      "cell_type": "code",
      "execution_count": null,
      "metadata": {
        "id": "zqUm92WTGW3p"
      },
      "outputs": [],
      "source": [
        "def dummy_labels(labels):\n",
        "  zero_labels = np.zeros([labels.shape[0], 10], np.int8)  \n",
        "  for i in range(labels.shape[0]):\n",
        "    zero_labels[i][labels[i]] = 1\n",
        "  return(zero_labels)"
      ]
    },
    {
      "cell_type": "code",
      "execution_count": null,
      "metadata": {
        "id": "vFVXfHQNGtmq"
      },
      "outputs": [],
      "source": [
        "train_labels = dummy_labels(train_labels)\n",
        "test_labels = dummy_labels(test_labels)"
      ]
    },
    {
      "cell_type": "code",
      "execution_count": null,
      "metadata": {
        "id": "WOqDJtXCG2ov"
      },
      "outputs": [],
      "source": [
        "# 1000 labeled, 49000 unlabeled\n",
        "random.seed(10)\n",
        "indx = random.sample(range(train_labels.shape[0]),train_labels.shape[0])\n",
        "\n",
        "lbl_train_images = train_images[indx[:1000]]\n",
        "ubl_train_images = train_images[indx[1000:]]\n",
        "\n",
        "lbl_train_labels = train_labels[indx[:1000]]\n",
        "ubl_train_labels = train_labels[indx[1000:]]\n",
        "\n",
        "# valids1 =  train_images[indx[800:1000]]\n",
        "# valids2 =  train_labels[indx[800:1000]]"
      ]
    },
    {
      "cell_type": "markdown",
      "metadata": {
        "id": "CqLLHcZLuZmP"
      },
      "source": [
        "# pseudo labeling"
      ]
    },
    {
      "cell_type": "code",
      "execution_count": null,
      "metadata": {
        "id": "BDTIOPkuQ8mV"
      },
      "outputs": [],
      "source": [
        "def basic_augmentation(imagearray):\n",
        "  image = Image.fromarray(imagearray)\n",
        "  tr1 = transforms.RandomHorizontalFlip()\n",
        "  tr2 = transforms.RandomRotation(10)\n",
        "  tr3 = transforms.ColorJitter(brightness=0.2, contrast=0.2, saturation=0.2)\n",
        "  tr4 = transforms.RandomAffine(0, shear=10, scale=(0.8, 1.2))\n",
        "  image = tr1(tr2(tr3(tr4(image))))\n",
        "  return(np.array(image))\n",
        "\n",
        "def makeaugs(n, input):\n",
        "  augs = []\n",
        "  for j in range(n):\n",
        "    for i in input:\n",
        "      augs.append(basic_augmentation(np.array(i*255, np.uint8)))\n",
        "  return(np.array(augs)/255)"
      ]
    },
    {
      "cell_type": "markdown",
      "metadata": {
        "id": "Hwy4DFT_BI1i"
      },
      "source": [
        "### Mixup Augmentation\n"
      ]
    },
    {
      "cell_type": "code",
      "execution_count": null,
      "metadata": {
        "id": "EpmSPXnnBLyT"
      },
      "outputs": [],
      "source": [
        "def sample_beta_distribution(size, concentration_0=0.2, concentration_1=0.2):\n",
        "    gamma_1_sample = tf.random.gamma(shape=[size], alpha=concentration_1)\n",
        "    gamma_2_sample = tf.random.gamma(shape=[size], alpha=concentration_0)\n",
        "    return gamma_1_sample / (gamma_1_sample + gamma_2_sample)\n",
        "\n",
        "def mixup (size, data, alpha = 0.2):\n",
        "  image, label = data\n",
        "  L = sample_beta_distribution(size, alpha, alpha)\n",
        "  XL = tf.reshape(L, (size, 1, 1, 1))\n",
        "  YL = tf.reshape(L, (size, 1))\n",
        "  IND1 = np.random.choice(len(label), size)\n",
        "  IND2 = np.random.choice(len(label), size)\n",
        "  newimage = XL*image[IND1] + (1-XL)*image[IND2]\n",
        "  newlabel = YL*label[IND1] + (1-YL)*label[IND2]\n",
        "  return (newimage, newlabel)"
      ]
    },
    {
      "cell_type": "markdown",
      "metadata": {
        "id": "ewpemDXc8nEY"
      },
      "source": [
        "### 스케줄러"
      ]
    },
    {
      "cell_type": "code",
      "execution_count": null,
      "metadata": {
        "id": "iKyn6Njs7vqa"
      },
      "outputs": [],
      "source": [
        "class SGDR(Callback):\n",
        "\n",
        "    def __init__(self, min_lr=0.0, max_lr=0.03, base_epochs=20, mul_epochs=2):\n",
        "        super(SGDR, self).__init__()\n",
        "\n",
        "        self.min_lr = min_lr\n",
        "        self.max_lr = max_lr\n",
        "        self.base_epochs = base_epochs\n",
        "        self.mul_epochs = mul_epochs\n",
        "\n",
        "        self.cycles = 0.\n",
        "        self.cycle_iterations = 0.\n",
        "        self.trn_iterations = 0.\n",
        "\n",
        "        self._reset()\n",
        "\n",
        "    def _reset(self, new_min_lr=None, new_max_lr=None,\n",
        "               new_base_epochs=None, new_mul_epochs=None):\n",
        "        \"\"\"Resets cycle iterations.\"\"\"\n",
        "        \n",
        "        if new_min_lr != None:\n",
        "            self.min_lr = new_min_lr\n",
        "        if new_max_lr != None:\n",
        "            self.max_lr = new_max_lr\n",
        "        if new_base_epochs != None:\n",
        "            self.base_epochs = new_base_epochs\n",
        "        if new_mul_epochs != None:\n",
        "            self.mul_epochs = new_mul_epochs\n",
        "        self.cycles = 0.\n",
        "        self.cycle_iterations = 0.\n",
        "        \n",
        "    def sgdr(self):\n",
        "        \n",
        "        cycle_epochs = self.base_epochs * (self.mul_epochs ** self.cycles)\n",
        "        tide = ((self.cycles == 0) * 1) * (self.cycle_iterations*self.max_lr + (self.base_epochs - self.cycle_iterations)*self.min_lr) / self.base_epochs + ((self.cycles != 0) * 1)*(self.min_lr + 0.5 * (self.max_lr - self.min_lr) * (1 + np.cos(np.pi * (self.cycle_iterations + 1) / cycle_epochs)))\n",
        "        return tide\n",
        "        \n",
        "    def on_train_begin(self, logs=None):\n",
        "        \n",
        "        if self.cycle_iterations == 0:\n",
        "            K.set_value(self.model.optimizer.lr, self.max_lr)\n",
        "        else:\n",
        "            K.set_value(self.model.optimizer.lr, self.sgdr())\n",
        "            \n",
        "    def on_epoch_end(self, epoch, logs=None):\n",
        "        \n",
        "        logs = logs or {}\n",
        "        logs['lr'] = K.get_value(self.model.optimizer.lr)\n",
        "        \n",
        "        self.trn_iterations += 1\n",
        "        self.cycle_iterations += 1\n",
        "        if self.cycle_iterations >= self.base_epochs * (self.mul_epochs ** self.cycles):\n",
        "            self.cycles += 1\n",
        "            self.cycle_iterations = 0\n",
        "            K.set_value(self.model.optimizer.lr, self.max_lr)\n",
        "        else:\n",
        "            K.set_value(self.model.optimizer.lr, self.sgdr())"
      ]
    },
    {
      "cell_type": "markdown",
      "metadata": {
        "id": "DjpoH_dl8qPt"
      },
      "source": [
        "### main"
      ]
    },
    {
      "cell_type": "code",
      "execution_count": null,
      "metadata": {
        "id": "YRCDNliwfudJ"
      },
      "outputs": [],
      "source": [
        "def PermaDropout(rate):\n",
        "    return Lambda(lambda x: K.dropout(x, level=rate))\n",
        "\n",
        "def create_cnn_13():\n",
        "  conv1a = Conv2D(128, (3,3), padding = 'same')\n",
        "  bn1a = BatchNormalization()\n",
        "  conv1b = Conv2D(128, (3,3), padding = 'same')\n",
        "  bn1b = BatchNormalization()\n",
        "  conv1c = Conv2D(128, (3,3), padding = 'same')\n",
        "  bn1c = BatchNormalization()\n",
        "  pl1 = MaxPooling2D(2, 2)\n",
        "  MCdrop1 = PermaDropout(0.5)\n",
        "\n",
        "  conv2a = Conv2D(256, (3,3), padding = 'same')\n",
        "  bn2a = BatchNormalization()\n",
        "  conv2b = Conv2D(256, (3,3), padding = 'same')\n",
        "  bn2b = BatchNormalization()\n",
        "  conv2c = Conv2D(256, (3,3), padding = 'same')\n",
        "  bn2c = BatchNormalization()\n",
        "  pl2 = MaxPooling2D(2, 2)\n",
        "  MCdrop2 = PermaDropout(0.5)\n",
        "\n",
        "  conv3a = Conv2D(512, (3,3))\n",
        "  bn3a = BatchNormalization()\n",
        "  conv3b = Conv2D(256, (1,1))\n",
        "  bn3b = BatchNormalization()\n",
        "  conv3c = Conv2D(128, (1,1))\n",
        "  bn3c = BatchNormalization()\n",
        "  pl3 = AveragePooling2D(6, 2)\n",
        "\n",
        "  fc = Dense(10)\n",
        "  activ = keras.layers.LeakyReLU(0.1)\n",
        "\n",
        "  model = Sequential([\n",
        "                      keras.Input(shape=(32, 32, 3)), \n",
        "                      tfa.layers.WeightNormalization(conv1a), bn1a, activ,\n",
        "                      tfa.layers.WeightNormalization(conv1b), bn1b, activ,\n",
        "                      tfa.layers.WeightNormalization(conv1c), bn1c, activ,\n",
        "                      pl1, MCdrop1,\n",
        "\n",
        "                      tfa.layers.WeightNormalization(conv2a), bn2a, activ,\n",
        "                      tfa.layers.WeightNormalization(conv2b), bn2b, activ,\n",
        "                      tfa.layers.WeightNormalization(conv2c), bn2c, activ,\n",
        "                      pl2, MCdrop2,\n",
        "\n",
        "                      tfa.layers.WeightNormalization(conv3a), bn3a, activ,\n",
        "                      tfa.layers.WeightNormalization(conv3b), bn3b, activ,\n",
        "                      tfa.layers.WeightNormalization(conv3c), bn3c, activ,\n",
        "                      pl3, Flatten(),\n",
        "                      \n",
        "                      fc\n",
        "                      ])\n",
        "  \n",
        "  return model\n",
        "\n",
        "def compile_cnn_13(model):\n",
        "\n",
        "  opt = keras.optimizers.SGD(0.03, momentum=0.9)\n",
        "\n",
        "  model.compile(\n",
        "    optimizer = opt,\n",
        "    loss=keras.losses.CategoricalCrossentropy(from_logits=True),\n",
        "    metrics=['accuracy']\n",
        "  )\n",
        "\n",
        "  return model\n",
        "\n",
        "def cnn_13():\n",
        "\n",
        "  model = create_cnn_13()\n",
        "  model = compile_cnn_13(model)\n",
        "\n",
        "  return model\n",
        "\n",
        "def fit_and_labeling_cnn_13(Epoch, Batch):\n",
        "\n",
        "  X = lbl_train_images\n",
        "  y = lbl_train_labels\n",
        "\n",
        "  lr_reducer = ReduceLROnPlateau(monitor='val_loss', factor=0.9, patience=3)\n",
        "  early_stopper = EarlyStopping(monitor='val_loss', min_delta=0, patience=30, mode='auto')\n",
        "  sgdr = SGDR(min_lr=0.0, max_lr=0.03, base_epochs=20) #스케줄러\n",
        "  \n",
        "  size = len(y) * 3\n",
        "  newimage, newlabel = mixup(size, (X, y))\n",
        "  augimage, auglabel = makeaugs(3, X), np.concatenate((y,y,y))\n",
        "  X = np.concatenate((X, newimage, augimage))\n",
        "  y = np.concatenate((y, newlabel, auglabel))\n",
        "  del newimage, newlabel\n",
        "\n",
        "  model.fit(\n",
        "      x=X,\n",
        "      y=y,\n",
        "      epochs=Epoch,\n",
        "      verbose=0,\n",
        "#       validation_data = (valids1, valids2),\n",
        "      batch_size=Batch,\n",
        "#       callbacks=[sgdr, early_stopper]\n",
        "      callbacks=[sgdr]\n",
        "  )\n",
        "    \n",
        "  model_test_eval(model, test_images, test_labels)\n",
        "  T = 1\n",
        "\n",
        "  for predsamples in (range(10)):\n",
        "    if predsamples == 0 :\n",
        "      predictions = np.array(tf.nn.softmax(model.predict(ubl_train_images)/T))\n",
        "      predictions = predictions.reshape((1,) + predictions.shape)\n",
        "    else:\n",
        "      pred = np.array(tf.nn.softmax(model.predict(ubl_train_images)/T))\n",
        "      pred = pred.reshape((1,) + pred.shape)\n",
        "      predictions = np.concatenate((predictions, pred))\n",
        "\n",
        "  return predictions\n",
        "\n",
        "def model_test_eval(model, test_images, test_labels):\n",
        "  T = 1\n",
        "  pred = np.array(tf.nn.softmax(model.predict(test_images)/T))\n",
        "  for i in range(1,10):\n",
        "    pred += np.array(tf.nn.softmax(model.predict(test_images)))\n",
        "  acc = (np.argmax(pred,axis=1) == np.argmax(test_labels,axis=1))*1\n",
        "  acc = sum(acc)/len(acc)\n",
        "  print(\"test set 성능 : \" + str(acc))"
      ]
    },
    {
      "cell_type": "code",
      "execution_count": null,
      "metadata": {
        "id": "EEBsyUAAg-W2"
      },
      "outputs": [],
      "source": [
        "def label_selecting():\n",
        "  K_conf = 0.9\n",
        "  K_uncert = 0.05\n",
        "\n",
        "  pseudo = np.argmax(np.mean(predictions, axis=0), axis=1)\n",
        "  conf = np.max(np.mean(predictions, axis=0), axis=1)\n",
        "  uncert = np.std(predictions, axis=0)\n",
        "  uncert = np.array([uncert[i][pseudo[i]] for i in range(len(pseudo))])\n",
        "\n",
        "  select_pseudo = (1*(conf > K_conf)) * (1*(uncert < K_uncert))\n",
        "\n",
        "  labels = []\n",
        "  for i in pseudo:\n",
        "    temp = [0,0,0,0,0,0,0,0,0,0]\n",
        "    temp[i] = 1\n",
        "    labels.append(temp)\n",
        "  pseudo = np.array(labels)\n",
        "#   pseudo = np.mean(predictions, axis=0)\n",
        "\n",
        "  lbl_idx = []\n",
        "  ubl_idx = []\n",
        "  k = 0\n",
        "  for i in select_pseudo:\n",
        "    if i == 1:\n",
        "      lbl_idx.append(k)\n",
        "    if i == 0:\n",
        "      ubl_idx.append(k)\n",
        "    k += 1\n",
        "\n",
        "    \n",
        "  ubl_append = ubl_train_images[lbl_idx]\n",
        "  pseudo_append = pseudo[lbl_idx]\n",
        "    \n",
        "  if itr < 20:\n",
        "      try: \n",
        "        numsamples = np.min(list(Counter(np.argmax(pseudo_append, axis=1)).values()))\n",
        "      except:\n",
        "        numsamples = 0\n",
        "      multlabel = np.argmax(pseudo_append, axis=1)\n",
        "      sufindx = random.sample(range(len(multlabel)), len(multlabel))\n",
        "\n",
        "      idxcounter = [0,0,0,0,0,0,0,0,0,0]\n",
        "      idxsample = []\n",
        "\n",
        "      for i in sufindx:\n",
        "#         if idxcounter[multlabel[i]] < numsamples+25:\n",
        "        if idxcounter[multlabel[i]] < 250:\n",
        "          idxcounter[multlabel[i]] += 1\n",
        "          idxsample.append(i)\n",
        "      \n",
        "      image1 = np.concatenate((lbl_train_images, ubl_append[idxsample]))\n",
        "      label1 = np.concatenate((lbl_train_labels, pseudo_append[idxsample]))\n",
        "      image2 = np.concatenate((ubl_train_images[ubl_idx], ubl_append[np.delete(list(range(len(ubl_append))), idxsample)]))\n",
        "  \n",
        "  else:\n",
        "      image1 = np.concatenate((lbl_train_images, ubl_append))\n",
        "      label1 = np.concatenate((lbl_train_labels, pseudo_append))\n",
        "      image2 = ubl_train_images[ubl_idx]\n",
        "\n",
        "  return image1, label1, image2"
      ]
    },
    {
      "cell_type": "code",
      "execution_count": null,
      "metadata": {
        "scrolled": true,
        "id": "mRjugAHyQ8mX",
        "outputId": "a77ec461-014a-4b85-a48a-45cb171fbfe6"
      },
      "outputs": [
        {
          "name": "stdout",
          "output_type": "stream",
          "text": [
            "Counter({8: 111, 9: 105, 1: 104, 0: 102, 2: 100, 7: 99, 3: 99, 6: 97, 4: 96, 5: 87})\n",
            "test set 성능 : 0.5994\n",
            "time : 3714.0742404460907\n",
            "Counter({8: 361, 9: 355, 1: 354, 0: 352, 2: 350, 7: 349, 3: 349, 6: 347, 4: 346, 5: 337})\n",
            "test set 성능 : 0.654\n",
            "time : 15792.58786702156\n",
            "Counter({8: 611, 9: 605, 1: 604, 0: 602, 2: 600, 7: 599, 3: 599, 6: 597, 4: 596, 5: 587})\n",
            "test set 성능 : 0.6778\n",
            "time : 36539.21548509598\n",
            "Counter({8: 861, 9: 855, 1: 854, 0: 852, 2: 850, 7: 849, 3: 849, 6: 847, 4: 846, 5: 837})\n",
            "test set 성능 : 0.6823\n",
            "time : 65540.39915633202\n",
            "Counter({8: 1111, 9: 1105, 1: 1104, 0: 1102, 2: 1100, 7: 1099, 3: 1099, 6: 1097, 4: 1096, 5: 1087})\n"
          ]
        }
      ],
      "source": [
        "import time\n",
        "start = time.time()\n",
        "\n",
        "for itr in range(20):\n",
        "  model = cnn_13()\n",
        "  print(Counter(np.argmax(lbl_train_labels, axis=1)))\n",
        "  predictions = fit_and_labeling_cnn_13(1000, 64)\n",
        "  lbl_train_images, lbl_train_labels, ubl_train_images = label_selecting()\n",
        "  del predictions\n",
        "#   teacher_model = model\n",
        "  gc.collect()\n",
        "  print(\"time :\", time.time() - start)\n",
        "\n",
        "print(\"time :\", time.time() - start)\n",
        "# CNN-13(update) + mixup augmentation(x4) + itr10balancing < 0.64\n",
        "# CNN-13(update) + mixup augmentation(x8) + itr5balancing < 0.68?"
      ]
    },
    {
      "cell_type": "code",
      "execution_count": null,
      "metadata": {
        "id": "PeOiXAZaQ8mY"
      },
      "outputs": [],
      "source": [
        ""
      ]
    }
  ],
  "metadata": {
    "accelerator": "GPU",
    "colab": {
      "collapsed_sections": [],
      "name": "Keras_UPS.ipynb",
      "provenance": [],
      "include_colab_link": true
    },
    "kernelspec": {
      "display_name": "Python 3 (ipykernel)",
      "language": "python",
      "name": "python3"
    },
    "language_info": {
      "codemirror_mode": {
        "name": "ipython",
        "version": 3
      },
      "file_extension": ".py",
      "mimetype": "text/x-python",
      "name": "python",
      "nbconvert_exporter": "python",
      "pygments_lexer": "ipython3",
      "version": "3.9.7"
    }
  },
  "nbformat": 4,
  "nbformat_minor": 0
}