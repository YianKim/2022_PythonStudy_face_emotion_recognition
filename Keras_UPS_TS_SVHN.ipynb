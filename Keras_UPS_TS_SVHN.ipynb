{
  "cells": [
    {
      "cell_type": "markdown",
      "metadata": {
        "id": "view-in-github",
        "colab_type": "text"
      },
      "source": [
        "<a href=\"https://colab.research.google.com/github/YianKim/2022_uncertainty_aware_semisupervise/blob/main/Keras_UPS_TS_SVHN.ipynb\" target=\"_parent\"><img src=\"https://colab.research.google.com/assets/colab-badge.svg\" alt=\"Open In Colab\"/></a>"
      ]
    },
    {
      "cell_type": "code",
      "source": [
        "pip install tensorflow_addons"
      ],
      "metadata": {
        "colab": {
          "base_uri": "https://localhost:8080/"
        },
        "id": "nFjfgdcoYThi",
        "outputId": "a814e283-d14e-4f38-b44c-87004592d5ef"
      },
      "execution_count": 12,
      "outputs": [
        {
          "output_type": "stream",
          "name": "stdout",
          "text": [
            "Looking in indexes: https://pypi.org/simple, https://us-python.pkg.dev/colab-wheels/public/simple/\n",
            "Collecting tensorflow_addons\n",
            "  Downloading tensorflow_addons-0.17.0-cp37-cp37m-manylinux_2_17_x86_64.manylinux2014_x86_64.whl (1.1 MB)\n",
            "\u001b[K     |████████████████████████████████| 1.1 MB 5.0 MB/s \n",
            "\u001b[?25hRequirement already satisfied: typeguard>=2.7 in /usr/local/lib/python3.7/dist-packages (from tensorflow_addons) (2.7.1)\n",
            "Requirement already satisfied: packaging in /usr/local/lib/python3.7/dist-packages (from tensorflow_addons) (21.3)\n",
            "Requirement already satisfied: pyparsing!=3.0.5,>=2.0.2 in /usr/local/lib/python3.7/dist-packages (from packaging->tensorflow_addons) (3.0.9)\n",
            "Installing collected packages: tensorflow-addons\n",
            "Successfully installed tensorflow-addons-0.17.0\n"
          ]
        }
      ]
    },
    {
      "cell_type": "code",
      "execution_count": 13,
      "metadata": {
        "id": "Ik7Qx5iO8lQ_"
      },
      "outputs": [],
      "source": [
        "import matplotlib.pyplot as plt\n",
        "from tensorflow import keras\n",
        "import numpy as np\n",
        "from sklearn.model_selection import train_test_split\n",
        "from tensorflow.keras.models import clone_model\n",
        "\n",
        "import PIL\n",
        "from PIL import Image\n",
        "\n",
        "import pickle\n",
        "import random\n",
        "from tqdm import tqdm\n",
        "from collections import Counter\n",
        "\n",
        "from keras.layers.core import Lambda\n",
        "from keras import backend as K\n",
        "\n",
        "from keras.models import Sequential\n",
        "from keras.layers import Conv2D\n",
        "from keras.layers import BatchNormalization\n",
        "from keras.regularizers import l2\n",
        "from keras.layers import Activation\n",
        "from keras.layers import Dropout\n",
        "from keras.layers import MaxPooling2D, AveragePooling2D\n",
        "from keras.layers import Flatten\n",
        "from keras.layers import Dense\n",
        "from keras.layers import Reshape\n",
        "from keras import optimizers\n",
        "from keras.callbacks import *\n",
        "from sklearn.metrics import *\n",
        "from keras.models import load_model\n",
        "import tensorflow_addons as tfa\n",
        "\n",
        "from torchvision import transforms\n",
        "\n",
        "import tensorflow as tf\n",
        "import tensorflow.keras.backend as backend\n",
        "import math\n",
        "import gc"
      ]
    },
    {
      "cell_type": "code",
      "source": [
        "def dummy_labels(labels):\n",
        "  zero_labels = np.zeros([labels.shape[0], 10], np.int8)  \n",
        "  for i in range(labels.shape[0]):\n",
        "    zero_labels[i][labels[i]] = 1\n",
        "  return(zero_labels)"
      ],
      "metadata": {
        "id": "OkOstLukURqU"
      },
      "execution_count": 14,
      "outputs": []
    },
    {
      "cell_type": "markdown",
      "source": [
        "# SVHN"
      ],
      "metadata": {
        "id": "0Hmq32hTH-Jv"
      }
    },
    {
      "cell_type": "code",
      "source": [
        "from google.colab import drive\n",
        "drive.mount('/content/drive')"
      ],
      "metadata": {
        "colab": {
          "base_uri": "https://localhost:8080/"
        },
        "id": "CCUaBhoYMQHF",
        "outputId": "3a16a463-a2da-4d46-a585-5254c67937a9"
      },
      "execution_count": 15,
      "outputs": [
        {
          "output_type": "stream",
          "name": "stdout",
          "text": [
            "Mounted at /content/drive\n"
          ]
        }
      ]
    },
    {
      "cell_type": "code",
      "source": [
        "from scipy.io import loadmat\n",
        "train_raw = loadmat('/content/drive/MyDrive/SVHN/train_32x32.mat')\n",
        "test_raw = loadmat('/content/drive/MyDrive/SVHN/test_32x32.mat')"
      ],
      "metadata": {
        "id": "HUCvct_dH5m1"
      },
      "execution_count": null,
      "outputs": []
    },
    {
      "cell_type": "code",
      "source": [
        "train_images = train_raw['X']\n",
        "train_labels = train_raw['y']\n",
        "\n",
        "test_images = test_raw['X']\n",
        "test_labels = dummy_labels(test_raw['y']-1)\n",
        "\n",
        "train_images = train_images.swapaxes(2,3).swapaxes(1,2).swapaxes(0,1)\n",
        "test_images = test_images.swapaxes(2,3).swapaxes(1,2).swapaxes(0,1)"
      ],
      "metadata": {
        "id": "65QFu6LVMxl9"
      },
      "execution_count": null,
      "outputs": []
    },
    {
      "cell_type": "code",
      "source": [
        "temp = [0,0,0,0,0,0,0,0,0,0]\n",
        "label_indx = []\n",
        "unlabel_indx = []\n",
        "\n",
        "for i in range(73257) :\n",
        "  if temp[(train_labels).reshape([-1])[i]-1] < 25 :\n",
        "    temp[(train_labels).reshape([-1])[i]-1] += 1\n",
        "    label_indx.append(i)\n",
        "  else :\n",
        "    unlabel_indx.append(i)"
      ],
      "metadata": {
        "id": "fm_NgimXNonL"
      },
      "execution_count": null,
      "outputs": []
    },
    {
      "cell_type": "code",
      "source": [
        "lbl_train_images = train_images[label_indx]\n",
        "lbl_train_labels = dummy_labels(train_labels[label_indx]-1)"
      ],
      "metadata": {
        "id": "3ZADJPIIOZD2"
      },
      "execution_count": null,
      "outputs": []
    },
    {
      "cell_type": "code",
      "source": [
        "ubl_train_images = train_images[unlabel_indx]\n",
        "ubl_train_labels = dummy_labels(train_labels[unlabel_indx]-1)"
      ],
      "metadata": {
        "id": "fHe18DTWUu3-"
      },
      "execution_count": null,
      "outputs": []
    },
    {
      "cell_type": "markdown",
      "metadata": {
        "id": "CqLLHcZLuZmP"
      },
      "source": [
        "# pseudo labeling"
      ]
    },
    {
      "cell_type": "markdown",
      "metadata": {
        "id": "Hwy4DFT_BI1i"
      },
      "source": [
        "### Augmentation\n"
      ]
    },
    {
      "cell_type": "code",
      "execution_count": null,
      "metadata": {
        "id": "m8F4JtPTEYYm"
      },
      "outputs": [],
      "source": [
        "def basic_augmentation(imagearray):\n",
        "  image = Image.fromarray(imagearray)\n",
        "  tr1 = transforms.RandomHorizontalFlip()\n",
        "  tr2 = transforms.RandomRotation(15)\n",
        "  tr3 = transforms.ColorJitter(brightness=0.2, contrast=0.2, saturation=0.2)\n",
        "  tr4 = transforms.RandomAffine(0, shear=10, scale=(0.8, 1.2))\n",
        "  image = tr1(tr2(tr3(tr4(image))))\n",
        "  return(np.array(image))\n",
        "\n",
        "def makeaugs(n, input):\n",
        "  augs = []\n",
        "  for j in range(n):\n",
        "    for i in input:\n",
        "      augs.append(basic_augmentation(np.array(i, np.uint8)))\n",
        "  return np.array(augs)"
      ]
    },
    {
      "cell_type": "markdown",
      "metadata": {
        "id": "ewpemDXc8nEY"
      },
      "source": [
        "### 스케줄러"
      ]
    },
    {
      "cell_type": "code",
      "execution_count": null,
      "metadata": {
        "id": "iKyn6Njs7vqa"
      },
      "outputs": [],
      "source": [
        "class SGDR(Callback):\n",
        "\n",
        "    def __init__(self, min_lr=0.0, max_lr=0.03, base_epochs=20, mul_epochs=2):\n",
        "        super(SGDR, self).__init__()\n",
        "\n",
        "        self.min_lr = min_lr\n",
        "        self.max_lr = max_lr\n",
        "        self.base_epochs = base_epochs\n",
        "        self.mul_epochs = mul_epochs\n",
        "\n",
        "        self.cycles = 0.\n",
        "        self.cycle_iterations = 0.\n",
        "        self.trn_iterations = 0.\n",
        "\n",
        "        self._reset()\n",
        "\n",
        "    def _reset(self, new_min_lr=None, new_max_lr=None,\n",
        "               new_base_epochs=None, new_mul_epochs=None):\n",
        "        \"\"\"Resets cycle iterations.\"\"\"\n",
        "        \n",
        "        if new_min_lr != None:\n",
        "            self.min_lr = new_min_lr\n",
        "        if new_max_lr != None:\n",
        "            self.max_lr = new_max_lr\n",
        "        if new_base_epochs != None:\n",
        "            self.base_epochs = new_base_epochs\n",
        "        if new_mul_epochs != None:\n",
        "            self.mul_epochs = new_mul_epochs\n",
        "        self.cycles = 0.\n",
        "        self.cycle_iterations = 0.\n",
        "        \n",
        "    def sgdr(self):\n",
        "        \n",
        "        cycle_epochs = self.base_epochs * (self.mul_epochs ** self.cycles)\n",
        "        tide = ((self.cycles == 0) * 1) * (self.cycle_iterations*self.max_lr + (self.base_epochs - self.cycle_iterations)*self.min_lr) / self.base_epochs + ((self.cycles != 0) * 1)*(self.min_lr + 0.5 * (self.max_lr - self.min_lr) * (1 + np.cos(np.pi * (self.cycle_iterations + 1) / cycle_epochs)))\n",
        "#         tide = (self.min_lr + 0.5 * (self.max_lr - self.min_lr) * (1 + np.cos(np.pi * (self.cycle_iterations + 1) / cycle_epochs)))\n",
        "        return tide\n",
        "        \n",
        "    def on_train_begin(self, logs=None):\n",
        "        \n",
        "        if self.cycle_iterations == 0:\n",
        "            K.set_value(self.model.optimizer.lr, self.max_lr)\n",
        "        else:\n",
        "            K.set_value(self.model.optimizer.lr, self.sgdr())\n",
        "            \n",
        "    def on_epoch_end(self, epoch, logs=None):\n",
        "        \n",
        "        logs = logs or {}\n",
        "        logs['lr'] = K.get_value(self.model.optimizer.lr)\n",
        "        \n",
        "        self.trn_iterations += 1\n",
        "        self.cycle_iterations += 1\n",
        "        if self.cycle_iterations >= self.base_epochs * (self.mul_epochs ** self.cycles):\n",
        "            self.cycles += 1\n",
        "            self.cycle_iterations = 0\n",
        "            K.set_value(self.model.optimizer.lr, self.max_lr)\n",
        "        else:\n",
        "            K.set_value(self.model.optimizer.lr, self.sgdr())"
      ]
    },
    {
      "cell_type": "markdown",
      "metadata": {
        "id": "DjpoH_dl8qPt"
      },
      "source": [
        "### main"
      ]
    },
    {
      "cell_type": "code",
      "execution_count": null,
      "metadata": {
        "id": "4revTT46EYYq"
      },
      "outputs": [],
      "source": [
        "def PermaDropout(rate):\n",
        "    return Lambda(lambda x: K.dropout(x, level=rate))"
      ]
    },
    {
      "cell_type": "code",
      "execution_count": null,
      "metadata": {
        "id": "3U-K7-w2EYYq"
      },
      "outputs": [],
      "source": [
        "def create_cnn_1(n):\n",
        "  inputlayer = keras.Input(shape=(32, 32, 3))\n",
        "\n",
        "  conv1a = Conv2D(64*n, (5,5), padding = 'same')\n",
        "  bn1a = BatchNormalization()\n",
        "  conv1b = Conv2D(64*n, (5,5), padding = 'same')\n",
        "  bn1b = BatchNormalization()\n",
        "  conv1c = Conv2D(64*n, (5,5), padding = 'same')\n",
        "  bn1c = BatchNormalization()\n",
        "  pl1 = MaxPooling2D(2, 2)\n",
        "  MCdrop1 = PermaDropout(0.5)\n",
        "\n",
        "  fc1 = Dense(1024*n, activation = 'relu')\n",
        "  fc2 = Dense(10)\n",
        "  activ = keras.layers.LeakyReLU(0.1)\n",
        "\n",
        "  model = Sequential([\n",
        "                  inputlayer, \n",
        "                  tfa.layers.WeightNormalization(conv1a), bn1a, activ, pl1,\n",
        "                  tfa.layers.WeightNormalization(conv1b), bn1b, activ, pl1,\n",
        "                  tfa.layers.WeightNormalization(conv1c), bn1c, activ, pl1,\n",
        "                  MCdrop1, Flatten(),\n",
        "\n",
        "                  fc1, fc2\n",
        "                  ])\n",
        "\n",
        "  opt = keras.optimizers.SGD(0.03, momentum = 0.9)\n",
        "\n",
        "  model.compile(\n",
        "    optimizer = opt,\n",
        "    loss=keras.losses.CategoricalCrossentropy(from_logits=True),\n",
        "    metrics=['accuracy']\n",
        "  )\n",
        "\n",
        "  return model"
      ]
    },
    {
      "cell_type": "code",
      "execution_count": null,
      "metadata": {
        "id": "7YFsutgYEYYr"
      },
      "outputs": [],
      "source": [
        "def create_cnn_2(n):\n",
        "  inputlayer = keras.Input(shape=(32, 32, 3))\n",
        "\n",
        "  conv1a = Conv2D(64*n, (5,5), padding = 'same')\n",
        "  bn1a = BatchNormalization()\n",
        "  conv1b = Conv2D(64*n, (5,5), padding = 'same')\n",
        "  bn1b = BatchNormalization()\n",
        "  pl1 = MaxPooling2D(2, 2)\n",
        "  MCdrop1 = PermaDropout(0.5)\n",
        "\n",
        "  fc1 = Dense(512*n, activation = 'relu')\n",
        "  fc2 = Dense(10)\n",
        "  activ = keras.layers.LeakyReLU(0.1)\n",
        "\n",
        "  model = Sequential([\n",
        "                  inputlayer, \n",
        "                  tfa.layers.WeightNormalization(conv1a), bn1a, activ, pl1,\n",
        "                  tfa.layers.WeightNormalization(conv1b), bn1b, activ, pl1,\n",
        "                  MCdrop1, Flatten(),\n",
        "\n",
        "                  fc1,fc2\n",
        "                  ])\n",
        "  opt = keras.optimizers.SGD(0.03, momentum = 0.9)\n",
        "\n",
        "  model.compile(\n",
        "    optimizer = opt,\n",
        "    loss=keras.losses.CategoricalCrossentropy(from_logits=True),\n",
        "    metrics=['accuracy']\n",
        "  )\n",
        "\n",
        "  return model"
      ]
    },
    {
      "cell_type": "code",
      "execution_count": null,
      "metadata": {
        "id": "4OUqfoOZEYYs"
      },
      "outputs": [],
      "source": [
        "def create_cnn_3(n):\n",
        "  inputlayer = keras.Input(shape=(32, 32, 3))\n",
        "\n",
        "  conv1a = Conv2D(64*n, (5,5), padding = 'same')\n",
        "  bn1a = BatchNormalization()\n",
        "  pl1 = MaxPooling2D(2, 2)\n",
        "  MCdrop1 = PermaDropout(0.5)\n",
        "\n",
        "  fc2 = Dense(10)\n",
        "  activ = keras.layers.LeakyReLU(0.1)\n",
        "\n",
        "  model = Sequential([\n",
        "                  inputlayer, \n",
        "                  tfa.layers.WeightNormalization(conv1a), bn1a, activ, pl1, \n",
        "                  MCdrop1, Flatten(),\n",
        "\n",
        "                  fc2\n",
        "                  ])\n",
        "\n",
        "  opt = keras.optimizers.SGD(0.03, momentum = 0.9)\n",
        "\n",
        "  model.compile(\n",
        "    optimizer = opt,\n",
        "    loss=keras.losses.CategoricalCrossentropy(from_logits=True),\n",
        "    metrics=['accuracy']\n",
        "  )\n",
        "\n",
        "  return model"
      ]
    },
    {
      "cell_type": "code",
      "execution_count": null,
      "metadata": {
        "id": "YRCDNliwfudJ"
      },
      "outputs": [],
      "source": [
        "def fit_and_labeling_cnn_13(Epoch, Batch):\n",
        "\n",
        "  X = lbl_train_images\n",
        "  y = lbl_train_labels\n",
        "\n",
        "  lr_reducer = ReduceLROnPlateau(monitor='val_loss', factor=0.9, patience=3)\n",
        "  early_stopper = EarlyStopping(monitor='val_loss', min_delta=0, patience=30, mode='auto')\n",
        "  sgdr = SGDR(min_lr=0.0, max_lr=0.03, base_epochs=20) #스케줄러\n",
        "  \n",
        "  # size = len(y) * 3\n",
        "  # newimage, newlabel = mixup(size, (X, y))\n",
        "  augimage, auglabel = makeaugs(7, X), np.concatenate((y,y,y,y,y,y,y))\n",
        "  X = np.concatenate((X, newimage, augimage))\n",
        "  y = np.concatenate((y, newlabel, auglabel))\n",
        "  del newimage, newlabel\n",
        "\n",
        "  model.fit(\n",
        "      x=X,\n",
        "      y=y,\n",
        "      epochs=Epoch,\n",
        "      verbose=0,\n",
        "#       validation_data = (valids1, valids2),\n",
        "      batch_size=Batch,\n",
        "#       callbacks=[sgdr, early_stopper]\n",
        "      callbacks=[sgdr]\n",
        "  )\n",
        "  \n",
        "  model_test_eval(model, test_images, test_labels)\n",
        "  T = 1\n",
        "\n",
        "  for predsamples in range(10):\n",
        "    if predsamples == 0 :\n",
        "      predictions = np.array(tf.nn.softmax(model.predict(ubl_train_images)/T))\n",
        "      predictions = predictions.reshape((1,) + predictions.shape)\n",
        "    else:\n",
        "      pred = np.array(tf.nn.softmax(model.predict(ubl_train_images)/T))\n",
        "      pred = pred.reshape((1,) + pred.shape)\n",
        "      predictions = np.concatenate((predictions, pred))\n",
        "\n",
        "  return predictions\n",
        "\n",
        "def model_test_eval(model, test_images, test_labels):\n",
        "  T = 1\n",
        "  pred = np.array(tf.nn.softmax(model.predict(test_images)/T))\n",
        "  for i in range(1,10):\n",
        "    pred += np.array(tf.nn.softmax(model.predict(test_images)))\n",
        "  acc = (np.argmax(pred,axis=1) == np.argmax(test_labels,axis=1))*1\n",
        "  acc = sum(acc)/len(acc)\n",
        "  print(\"test set 성능 : \" + str(acc))"
      ]
    },
    {
      "cell_type": "code",
      "execution_count": null,
      "metadata": {
        "id": "EEBsyUAAg-W2"
      },
      "outputs": [],
      "source": [
        "def label_selecting():\n",
        "  K_conf = 0.9\n",
        "  K_uncert = 0.05\n",
        "\n",
        "  pseudo = np.argmax(np.mean(predictions, axis=0), axis=1)\n",
        "  conf = np.max(np.mean(predictions, axis=0), axis=1)\n",
        "  uncert = np.std(predictions, axis=0)\n",
        "  uncert = np.array([uncert[i][pseudo[i]] for i in range(len(pseudo))])\n",
        "\n",
        "  select_pseudo = (1*(conf > K_conf)) * (1*(uncert < K_uncert))\n",
        "\n",
        "  labels = []\n",
        "  for i in pseudo:\n",
        "    temp = [0,0,0,0,0,0,0,0,0,0]\n",
        "    temp[i] = 1\n",
        "    labels.append(temp)\n",
        "  pseudo = np.array(labels)\n",
        "#   pseudo = np.mean(predictions, axis=0)\n",
        "\n",
        "  lbl_idx = []\n",
        "  ubl_idx = []\n",
        "  k = 0\n",
        "  for i in select_pseudo:\n",
        "    if i == 1:\n",
        "      lbl_idx.append(k)\n",
        "    if i == 0:\n",
        "      ubl_idx.append(k)\n",
        "    k += 1\n",
        "\n",
        "    \n",
        "  ubl_append = ubl_train_images[lbl_idx]\n",
        "  pseudo_append = pseudo[lbl_idx]\n",
        "    \n",
        "  if itr < 20: # 일시적 수정\n",
        "      try: \n",
        "        numsamples = np.min(list(Counter(np.argmax(pseudo_append, axis=1)).values()))\n",
        "      except:\n",
        "        numsamples = 0\n",
        "      multlabel = np.argmax(pseudo_append, axis=1)\n",
        "      sufindx = random.sample(range(len(multlabel)), len(multlabel))\n",
        "\n",
        "      idxcounter = [0,0,0,0,0,0,0,0,0,0]\n",
        "      idxsample = []\n",
        "\n",
        "      for i in sufindx:\n",
        "#         if idxcounter[multlabel[i]] < numsamples+25:\n",
        "        if idxcounter[multlabel[i]] < 250:\n",
        "          idxcounter[multlabel[i]] += 1\n",
        "          idxsample.append(i)\n",
        "      \n",
        "      image1 = np.concatenate((lbl_train_images, ubl_append[idxsample]))\n",
        "      label1 = np.concatenate((lbl_train_labels, pseudo_append[idxsample]))\n",
        "      image2 = np.concatenate((ubl_train_images[ubl_idx], ubl_append[np.delete(list(range(len(ubl_append))), idxsample)]))\n",
        "  \n",
        "  else:\n",
        "      image1 = np.concatenate((lbl_train_images, ubl_append))\n",
        "      label1 = np.concatenate((lbl_train_labels, pseudo_append))\n",
        "      image2 = ubl_train_images[ubl_idx]\n",
        "\n",
        "  return image1, label1, image2"
      ]
    },
    {
      "cell_type": "markdown",
      "metadata": {
        "id": "G7CPu64FflCu"
      },
      "source": [
        "### Knowledge Distillation"
      ]
    },
    {
      "cell_type": "code",
      "execution_count": null,
      "metadata": {
        "id": "3VCAjFi0fkt5"
      },
      "outputs": [],
      "source": [
        "class Distiller(keras.Model):\n",
        "    def __init__(self, student, teacher):\n",
        "        super(Distiller, self).__init__()\n",
        "        self.teacher = teacher\n",
        "        self.student = student\n",
        "\n",
        "    def compile(\n",
        "        self,\n",
        "        optimizer,\n",
        "        metrics,\n",
        "        student_loss_fn,\n",
        "        distillation_loss_fn,\n",
        "        alpha=0.1,\n",
        "        temperature=1,\n",
        "    ):\n",
        "\n",
        "        super(Distiller, self).compile(optimizer=optimizer, metrics=metrics)\n",
        "        self.student_loss_fn = student_loss_fn\n",
        "        self.distillation_loss_fn = distillation_loss_fn\n",
        "        self.alpha = alpha\n",
        "        self.temperature = temperature\n",
        "\n",
        "    def train_step(self, data):\n",
        "        # Unpack data\n",
        "        x, y = data\n",
        "\n",
        "        # Forward pass of teacher\n",
        "        teacher_predictions = self.teacher(x, training=False)\n",
        "        teacher_predictions += self.teacher(x, training=False)\n",
        "        teacher_predictions += self.teacher(x, training=False)\n",
        "        teacher_predictions = teacher_predictions/3\n",
        "\n",
        "        with tf.GradientTape() as tape:\n",
        "            # Forward pass of student\n",
        "            student_predictions = self.student(x, training=True)\n",
        "\n",
        "            # Compute losses\n",
        "            student_loss = self.student_loss_fn(y, student_predictions)\n",
        "            distillation_loss = self.distillation_loss_fn(\n",
        "                tf.nn.softmax(teacher_predictions / self.temperature, axis=1),\n",
        "                tf.nn.softmax(student_predictions / self.temperature, axis=1),\n",
        "            )\n",
        "            loss = self.alpha * student_loss + (1 - self.alpha) * distillation_loss\n",
        "\n",
        "        # Compute gradients\n",
        "        trainable_vars = self.student.trainable_variables\n",
        "        gradients = tape.gradient(loss, trainable_vars)\n",
        "\n",
        "        # Update weights\n",
        "        self.optimizer.apply_gradients(zip(gradients, trainable_vars))\n",
        "\n",
        "        # Update the metrics configured in `compile()`.\n",
        "        self.compiled_metrics.update_state(y, student_predictions)\n",
        "\n",
        "        # Return a dict of performance\n",
        "        results = {m.name: m.result() for m in self.metrics}\n",
        "        results.update(\n",
        "            {\"student_loss\": student_loss, \"distillation_loss\": distillation_loss}\n",
        "        )\n",
        "        return results\n",
        "\n",
        "    def test_step(self, data):\n",
        "        # Unpack the data\n",
        "        x, y = data\n",
        "\n",
        "        # Compute predictions\n",
        "        y_prediction = self.student(x, training=False)\n",
        "\n",
        "        # Calculate the loss\n",
        "        student_loss = self.student_loss_fn(y, y_prediction)\n",
        "\n",
        "        # Update the metrics.\n",
        "        self.compiled_metrics.update_state(y, y_prediction)\n",
        "\n",
        "        # Return a dict of performance\n",
        "        results = {m.name: m.result() for m in self.metrics}\n",
        "        results.update({\"student_loss\": student_loss})\n",
        "        return results\n",
        "    \n",
        "    def call(self, inputs, *args, **kwargs):\n",
        "        return self.model(inputs)"
      ]
    },
    {
      "cell_type": "markdown",
      "metadata": {
        "id": "NSqcF7gpflfj"
      },
      "source": [
        "### 실행"
      ]
    },
    {
      "cell_type": "code",
      "execution_count": null,
      "metadata": {
        "id": "T7whKvK8czWv",
        "scrolled": false
      },
      "outputs": [],
      "source": [
        "import time\n",
        "start = time.time()\n",
        "\n",
        "for itr in range(20):\n",
        "  if itr == 0:\n",
        "    model = create_cnn_1(1)\n",
        "    depth = len(model.layers)\n",
        "  else:\n",
        "    if itr <= 2:\n",
        "        student = create_cnn_1(1)\n",
        "    elif itr <= 5:\n",
        "        student = create_cnn_1(1/2)\n",
        "    elif itr <= 9:\n",
        "        student = create_cnn_2(1)\n",
        "    elif itr <= 13:\n",
        "        student = create_cnn_2(1/2)\n",
        "    elif itr <= 16:\n",
        "        student = create_cnn_3(1)\n",
        "    elif itr <= 19:\n",
        "        student = create_cnn_3(1/2)\n",
        "    print(\"**********itr \" + str(itr) + \" student evaluation (before & after)**********\")\n",
        "    model_test_eval(student, test_images, test_labels)\n",
        "    distiller = Distiller(student=student, teacher=model)\n",
        "    distiller.compile(\n",
        "        optimizer=keras.optimizers.Adam(),\n",
        "        metrics=[keras.metrics.CategoricalAccuracy()],\n",
        "        student_loss_fn=keras.losses.CategoricalCrossentropy(from_logits=True),\n",
        "        distillation_loss_fn=keras.losses.KLDivergence(),\n",
        "        alpha=0.1,\n",
        "        temperature=1,\n",
        "    )\n",
        "\n",
        "    # Distill teacher to student\n",
        "    distiller.fit(lbl_train_images, lbl_train_labels, epochs=100,\n",
        "                  batch_size=64, verbose=0)\n",
        "    model_test_eval(student, test_images, test_labels)\n",
        "    depth = 0\n",
        "    depth += len(student.layers)\n",
        "    model = student\n",
        "\n",
        "  print(Counter(np.argmax(lbl_train_labels, axis=1)))\n",
        "  print(\"**********itr \" + str(itr+1) + \" teacher evaluation**********\")\n",
        "  print(\"layer 개수 : \" + str(depth))\n",
        "  predictions = fit_and_labeling_cnn_13(200, 64)\n",
        "  lbl_train_images, lbl_train_labels, ubl_train_images = label_selecting()\n",
        "  del predictions\n",
        "  gc.collect()\n",
        "  print(\"time :\", time.time() - start)\n",
        "\n",
        "print(\"time :\", time.time() - start)"
      ]
    },
    {
      "cell_type": "code",
      "source": [
        ""
      ],
      "metadata": {
        "id": "0CZBGkQXcnQC"
      },
      "execution_count": null,
      "outputs": []
    }
  ],
  "metadata": {
    "accelerator": "GPU",
    "colab": {
      "collapsed_sections": [],
      "name": "Keras_UPS_TS_SVHN.ipynb",
      "provenance": [],
      "include_colab_link": true
    },
    "kernelspec": {
      "display_name": "Python 3 (ipykernel)",
      "language": "python",
      "name": "python3"
    },
    "language_info": {
      "codemirror_mode": {
        "name": "ipython",
        "version": 3
      },
      "file_extension": ".py",
      "mimetype": "text/x-python",
      "name": "python",
      "nbconvert_exporter": "python",
      "pygments_lexer": "ipython3",
      "version": "3.9.7"
    }
  },
  "nbformat": 4,
  "nbformat_minor": 0
}