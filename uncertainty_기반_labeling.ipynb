{
  "cells": [
    {
      "cell_type": "markdown",
      "metadata": {
        "id": "view-in-github",
        "colab_type": "text"
      },
      "source": [
        "<a href=\"https://colab.research.google.com/github/YianKim/2022_PythonStudy_face_emotion_recognition/blob/main/uncertainty_%EA%B8%B0%EB%B0%98_labeling.ipynb\" target=\"_parent\"><img src=\"https://colab.research.google.com/assets/colab-badge.svg\" alt=\"Open In Colab\"/></a>"
      ]
    },
    {
      "cell_type": "markdown",
      "metadata": {
        "id": "5FQpjWg4Ld6m"
      },
      "source": [
        "## 구글 드라이브\n"
      ]
    },
    {
      "cell_type": "code",
      "execution_count": 1,
      "metadata": {
        "colab": {
          "base_uri": "https://localhost:8080/"
        },
        "id": "SyTEuhg7fR9P",
        "outputId": "88bd280e-d48a-4285-86d1-7f75240a9209"
      },
      "outputs": [
        {
          "output_type": "stream",
          "name": "stdout",
          "text": [
            "Mounted at /content/drive\n"
          ]
        }
      ],
      "source": [
        "from google.colab import drive\n",
        "drive.mount('/content/drive')"
      ]
    },
    {
      "cell_type": "markdown",
      "metadata": {
        "id": "UQy7KUb6NBs-"
      },
      "source": [
        "## 라이브러리 불러오기\n"
      ]
    },
    {
      "cell_type": "code",
      "execution_count": 2,
      "metadata": {
        "id": "XRPQRtXGmm2W"
      },
      "outputs": [],
      "source": [
        "%matplotlib inline\n",
        "import matplotlib.pyplot as plt\n",
        "from tensorflow import keras\n",
        "import numpy as np\n",
        "from tensorflow.keras.utils import to_categorical\n",
        "from sklearn.model_selection import train_test_split\n",
        "\n",
        "import PIL\n",
        "import pickle\n",
        "import random\n",
        "from tqdm import tqdm\n",
        "from collections import Counter\n",
        "\n",
        "from keras.layers.core import Lambda\n",
        "from keras import backend as K\n",
        "\n",
        "from keras.models import Sequential\n",
        "from keras.layers import Conv2D\n",
        "from keras.layers import BatchNormalization\n",
        "from keras.regularizers import l2\n",
        "from keras.layers import Activation\n",
        "from keras.layers import Dropout\n",
        "from keras.layers import MaxPooling2D\n",
        "from keras.layers import Flatten\n",
        "from keras.layers import Dense\n",
        "from keras.layers import Reshape\n",
        "from keras.layers import LSTM\n",
        "from keras import optimizers\n",
        "from keras.callbacks import ReduceLROnPlateau, EarlyStopping, TensorBoard, ModelCheckpoint\n",
        "from sklearn.metrics import *\n",
        "from keras.models import load_model\n",
        "\n",
        "from tqdm import tqdm"
      ]
    },
    {
      "cell_type": "markdown",
      "metadata": {
        "id": "xpAjYytuPDaU"
      },
      "source": [
        "## 데이터 불러오기\n"
      ]
    },
    {
      "cell_type": "code",
      "execution_count": 3,
      "metadata": {
        "id": "e6b1qO5dSAyP",
        "colab": {
          "base_uri": "https://localhost:8080/"
        },
        "outputId": "33cab00d-5500-4dcb-fa2d-558c8a51130d"
      },
      "outputs": [
        {
          "output_type": "stream",
          "name": "stdout",
          "text": [
            "Downloading data from https://storage.googleapis.com/tensorflow/tf-keras-datasets/train-labels-idx1-ubyte.gz\n",
            "32768/29515 [=================================] - 0s 0us/step\n",
            "40960/29515 [=========================================] - 0s 0us/step\n",
            "Downloading data from https://storage.googleapis.com/tensorflow/tf-keras-datasets/train-images-idx3-ubyte.gz\n",
            "26427392/26421880 [==============================] - 0s 0us/step\n",
            "26435584/26421880 [==============================] - 0s 0us/step\n",
            "Downloading data from https://storage.googleapis.com/tensorflow/tf-keras-datasets/t10k-labels-idx1-ubyte.gz\n",
            "16384/5148 [===============================================================================================] - 0s 0us/step\n",
            "Downloading data from https://storage.googleapis.com/tensorflow/tf-keras-datasets/t10k-images-idx3-ubyte.gz\n",
            "4423680/4422102 [==============================] - 0s 0us/step\n",
            "4431872/4422102 [==============================] - 0s 0us/step\n"
          ]
        }
      ],
      "source": [
        "fashion_mnist = keras.datasets.fashion_mnist\n",
        "(data, labels), (test_data, test_labels) = fashion_mnist.load_data()"
      ]
    },
    {
      "cell_type": "code",
      "execution_count": 4,
      "metadata": {
        "id": "B-e24WMOTQ4d"
      },
      "outputs": [],
      "source": [
        "train_data = data[range(20000)].reshape([20000,28,28,1])\n",
        "train_labels = labels[range(20000)].reshape([20000,1])"
      ]
    },
    {
      "cell_type": "code",
      "execution_count": 5,
      "metadata": {
        "id": "EhhKskDITIEm"
      },
      "outputs": [],
      "source": [
        "unlab_data = data[range(20000,60000)].reshape([40000,28,28,1])\n",
        "unlab_labels = labels[range(20000,60000)].reshape([40000,1])"
      ]
    },
    {
      "cell_type": "code",
      "execution_count": 6,
      "metadata": {
        "id": "W5aNLvjxVUq0"
      },
      "outputs": [],
      "source": [
        "test_data = test_data.reshape([10000,28,28,1])\n",
        "test_labels = test_labels.reshape([10000,1])"
      ]
    },
    {
      "cell_type": "code",
      "execution_count": 7,
      "metadata": {
        "id": "2K2wXxMmUxRV"
      },
      "outputs": [],
      "source": [
        "train_labels2 = []\n",
        "unlab_labels2 = []\n",
        "test_labels2 = []"
      ]
    },
    {
      "cell_type": "code",
      "execution_count": 8,
      "metadata": {
        "id": "8c9LL8JVThd-"
      },
      "outputs": [],
      "source": [
        "for i in range(20000):\n",
        "  white = [0,0,0,0,0,0,0,0,0,0]\n",
        "  white[train_labels[i][0]] = 1\n",
        "  train_labels2.append(white)\n",
        "\n",
        "for i in range(40000):\n",
        "  white = [0,0,0,0,0,0,0,0,0,0]\n",
        "  white[unlab_labels[i][0]] = 1\n",
        "  unlab_labels2.append(white)\n",
        "\n",
        "for i in range(10000):\n",
        "  white = [0,0,0,0,0,0,0,0,0,0]\n",
        "  white[test_labels[i][0]] = 1\n",
        "  test_labels2.append(white)"
      ]
    },
    {
      "cell_type": "code",
      "execution_count": 9,
      "metadata": {
        "id": "iULFrchUU5nt"
      },
      "outputs": [],
      "source": [
        "train_labels = np.array(train_labels2)\n",
        "unlab_labels = np.array(unlab_labels2)\n",
        "test_labels = np.array(test_labels2)"
      ]
    },
    {
      "cell_type": "markdown",
      "metadata": {
        "id": "Sa7KYMfrkKU5"
      },
      "source": [
        "## CNN"
      ]
    },
    {
      "cell_type": "code",
      "execution_count": 10,
      "metadata": {
        "id": "zn3v_W8wJQ68"
      },
      "outputs": [],
      "source": [
        "def PermaDropout(rate):\n",
        "    return Lambda(lambda x: K.dropout(x, level=rate))"
      ]
    },
    {
      "cell_type": "code",
      "execution_count": 11,
      "metadata": {
        "colab": {
          "base_uri": "https://localhost:8080/"
        },
        "id": "L5scE9yKkIZb",
        "outputId": "9abf3757-d4bf-4c46-b62d-20e8e61bb11a"
      },
      "outputs": [
        {
          "output_type": "stream",
          "name": "stdout",
          "text": [
            "Epoch 1/20\n",
            "219/219 [==============================] - 11s 8ms/step - loss: 1.7825 - accuracy: 0.6824 - val_loss: 0.6651 - val_accuracy: 0.7638\n",
            "Epoch 2/20\n",
            "219/219 [==============================] - 1s 6ms/step - loss: 0.5724 - accuracy: 0.7984 - val_loss: 0.5872 - val_accuracy: 0.7925\n",
            "Epoch 3/20\n",
            "219/219 [==============================] - 1s 6ms/step - loss: 0.4923 - accuracy: 0.8217 - val_loss: 0.5521 - val_accuracy: 0.8045\n",
            "Epoch 4/20\n",
            "219/219 [==============================] - 1s 6ms/step - loss: 0.4326 - accuracy: 0.8433 - val_loss: 0.5300 - val_accuracy: 0.8162\n",
            "Epoch 5/20\n",
            "219/219 [==============================] - 1s 6ms/step - loss: 0.3976 - accuracy: 0.8548 - val_loss: 0.5158 - val_accuracy: 0.8227\n",
            "Epoch 6/20\n",
            "219/219 [==============================] - 1s 6ms/step - loss: 0.3829 - accuracy: 0.8610 - val_loss: 0.4926 - val_accuracy: 0.8287\n",
            "Epoch 7/20\n",
            "219/219 [==============================] - 1s 6ms/step - loss: 0.3481 - accuracy: 0.8686 - val_loss: 0.4917 - val_accuracy: 0.8308\n",
            "Epoch 8/20\n",
            "219/219 [==============================] - 1s 6ms/step - loss: 0.3252 - accuracy: 0.8742 - val_loss: 0.4975 - val_accuracy: 0.8342\n",
            "Epoch 9/20\n",
            "219/219 [==============================] - 1s 6ms/step - loss: 0.3028 - accuracy: 0.8864 - val_loss: 0.4957 - val_accuracy: 0.8378\n",
            "Epoch 10/20\n",
            "219/219 [==============================] - 1s 6ms/step - loss: 0.3062 - accuracy: 0.8836 - val_loss: 0.5142 - val_accuracy: 0.8427\n",
            "Epoch 11/20\n",
            "219/219 [==============================] - 1s 6ms/step - loss: 0.2884 - accuracy: 0.8891 - val_loss: 0.4662 - val_accuracy: 0.8475\n",
            "Epoch 12/20\n",
            "219/219 [==============================] - 1s 6ms/step - loss: 0.2759 - accuracy: 0.8975 - val_loss: 0.4861 - val_accuracy: 0.8490\n",
            "Epoch 13/20\n",
            "219/219 [==============================] - 1s 6ms/step - loss: 0.2623 - accuracy: 0.8996 - val_loss: 0.4637 - val_accuracy: 0.8470\n",
            "Epoch 14/20\n",
            "219/219 [==============================] - 1s 6ms/step - loss: 0.2579 - accuracy: 0.9025 - val_loss: 0.4599 - val_accuracy: 0.8528\n",
            "Epoch 15/20\n",
            "219/219 [==============================] - 1s 6ms/step - loss: 0.2504 - accuracy: 0.9059 - val_loss: 0.5433 - val_accuracy: 0.8482\n",
            "Epoch 16/20\n",
            "219/219 [==============================] - 1s 6ms/step - loss: 0.2488 - accuracy: 0.9034 - val_loss: 0.4598 - val_accuracy: 0.8502\n",
            "Epoch 17/20\n",
            "219/219 [==============================] - 1s 6ms/step - loss: 0.2367 - accuracy: 0.9081 - val_loss: 0.4950 - val_accuracy: 0.8475\n",
            "Epoch 18/20\n",
            "219/219 [==============================] - 1s 6ms/step - loss: 0.2258 - accuracy: 0.9158 - val_loss: 0.5190 - val_accuracy: 0.8497\n",
            "Epoch 19/20\n",
            "219/219 [==============================] - 1s 6ms/step - loss: 0.2253 - accuracy: 0.9154 - val_loss: 0.5334 - val_accuracy: 0.8553\n",
            "Epoch 20/20\n",
            "219/219 [==============================] - 1s 6ms/step - loss: 0.2214 - accuracy: 0.9182 - val_loss: 0.5015 - val_accuracy: 0.8627\n"
          ]
        },
        {
          "output_type": "execute_result",
          "data": {
            "text/plain": [
              "<keras.callbacks.History at 0x7f761046c690>"
            ]
          },
          "metadata": {},
          "execution_count": 11
        }
      ],
      "source": [
        "#######HYPERPARAMATERS###########\n",
        "epochs = 20\n",
        "batch_size = 64\n",
        "learning_rate = 0.001\n",
        "#################################\n",
        "  \n",
        "model = Sequential()\n",
        "    \n",
        "model.add(Conv2D(32, kernel_size = (3,3), input_shape=(28,28,1), activation='relu'))\n",
        "model.add(Conv2D(64,(3,3), activation='relu'))\n",
        "model.add(MaxPooling2D(pool_size=2))\n",
        "model.add(PermaDropout(0.5))\n",
        "model.add(Flatten())\n",
        "model.add(Dense(128, activation='relu'))\n",
        "model.add(PermaDropout(0.5))\n",
        "model.add(Dense(10, activation='softmax'))\n",
        "adam = keras.optimizers.Adam(learning_rate)\n",
        "model.compile(optimizer = adam, loss = 'categorical_crossentropy', metrics = ['accuracy'])\n",
        "    \n",
        "# print(model.summary())\n",
        "\n",
        "lr_reducer = ReduceLROnPlateau(monitor='val_loss', factor=0.9, patience=3)\n",
        "early_stopper = EarlyStopping(monitor='val_accuracy', min_delta=0, patience=30, mode='auto')\n",
        "checkpointer = ModelCheckpoint('weights.hd5', monitor='val_loss', verbose=1, save_best_only=True)\n",
        "\n",
        "model.fit(\n",
        "          train_data,\n",
        "          train_labels,\n",
        "          epochs = epochs,\n",
        "          batch_size = batch_size,\n",
        "          validation_split = 0.3,\n",
        "          shuffle = True\n",
        "          )"
      ]
    },
    {
      "cell_type": "code",
      "execution_count": 12,
      "metadata": {
        "id": "LVOc3hYIkXrl"
      },
      "outputs": [],
      "source": [
        "model.save('/content/drive/MyDrive/파이썬스터디 프로젝트/labeling_cnn.h5')"
      ]
    },
    {
      "cell_type": "code",
      "execution_count": 13,
      "metadata": {
        "id": "n5D8i_BCkdjS"
      },
      "outputs": [],
      "source": [
        "model = keras.models.load_model('/content/drive/MyDrive/파이썬스터디 프로젝트/labeling_cnn.h5')"
      ]
    },
    {
      "cell_type": "markdown",
      "metadata": {
        "id": "TD8ppILhFUrz"
      },
      "source": [
        "## 모델 결과"
      ]
    },
    {
      "cell_type": "code",
      "execution_count": 14,
      "metadata": {
        "id": "7Ljx2EWA2v2n"
      },
      "outputs": [],
      "source": [
        "def model_eval():\n",
        "  pred_mu = model.predict(test_data)\n",
        "  for i in range(1, 30):\n",
        "    pred_mu += model.predict(test_data)\n",
        "  pred_mu = pred_mu/30\n",
        "  predicted_test_labels = np.argmax(pred_mu, axis=1)\n",
        "  return(accuracy_score(np.argmax(test_labels, axis=1), predicted_test_labels))"
      ]
    },
    {
      "cell_type": "code",
      "execution_count": 15,
      "metadata": {
        "colab": {
          "base_uri": "https://localhost:8080/"
        },
        "id": "OzhQw9NOWjl3",
        "outputId": "0be488b8-be85-44aa-ce8a-4caa6dadd780"
      },
      "outputs": [
        {
          "output_type": "execute_result",
          "data": {
            "text/plain": [
              "0.8918"
            ]
          },
          "metadata": {},
          "execution_count": 15
        }
      ],
      "source": [
        "model = keras.models.load_model('/content/drive/MyDrive/파이썬스터디 프로젝트/labeling_cnn.h5')\n",
        "model_eval()"
      ]
    },
    {
      "cell_type": "markdown",
      "metadata": {
        "id": "rcbs04885lTu"
      },
      "source": [
        "# 라벨링"
      ]
    },
    {
      "cell_type": "markdown",
      "metadata": {
        "id": "mAtfoQKLZDJC"
      },
      "source": [
        "## 라벨링; 1"
      ]
    },
    {
      "cell_type": "code",
      "execution_count": 16,
      "metadata": {
        "id": "GKJgmFGWhlfl"
      },
      "outputs": [],
      "source": [
        "model = keras.models.load_model('/content/drive/MyDrive/파이썬스터디 프로젝트/labeling_cnn.h5')"
      ]
    },
    {
      "cell_type": "code",
      "execution_count": 17,
      "metadata": {
        "colab": {
          "base_uri": "https://localhost:8080/"
        },
        "id": "J_Jb5VX9ZC3y",
        "outputId": "51deddee-b69c-4e3b-e9ee-f70fb332d517"
      },
      "outputs": [
        {
          "output_type": "stream",
          "name": "stderr",
          "text": [
            "100%|██████████| 30/30 [01:05<00:00,  2.19s/it]\n",
            "100%|██████████| 40000/40000 [00:06<00:00, 6369.08it/s]\n"
          ]
        }
      ],
      "source": [
        "# Vars : 분산들\n",
        "# Outs : 결과 값들\n",
        "\n",
        "Vars = []\n",
        "Outs = []\n",
        "\n",
        "temp1 = []\n",
        "\n",
        "for i in tqdm(range(30)):\n",
        "  temp1.append(model.predict(unlab_data))\n",
        "\n",
        "for j in tqdm(range(unlab_data.shape[0])):\n",
        "\n",
        "  temp2 = np.array([0,0,0,0,0,0,0,0,0,0], 'float32')\n",
        "  \n",
        "  for i in range(30):\n",
        "    temp2 += temp1[i][j]\n",
        "  Outs.append(temp2/30)\n",
        "  \n",
        "  outputs=[]\n",
        "\n",
        "  for i in range(30):\n",
        "    outputs.append(temp1[i][j][np.argmax(temp2)])\n",
        "  Vars.append(np.var(outputs))"
      ]
    },
    {
      "cell_type": "code",
      "execution_count": 18,
      "metadata": {
        "id": "-NnAVIXTXlAa"
      },
      "outputs": [],
      "source": [
        "Outs = np.array(Outs)"
      ]
    },
    {
      "cell_type": "markdown",
      "source": [
        "class마다 균등하게 선택"
      ],
      "metadata": {
        "id": "XxIFHtGqAF9B"
      }
    },
    {
      "cell_type": "code",
      "source": [
        "Counter(np.argmax(unlab_labels, axis=1))"
      ],
      "metadata": {
        "colab": {
          "base_uri": "https://localhost:8080/"
        },
        "id": "IGGGKCzvAiZb",
        "outputId": "dca1787d-64f5-43d7-c365-19e1afc795ce"
      },
      "execution_count": 19,
      "outputs": [
        {
          "output_type": "execute_result",
          "data": {
            "text/plain": [
              "Counter({0: 4065,\n",
              "         1: 3975,\n",
              "         2: 4018,\n",
              "         3: 3989,\n",
              "         4: 4033,\n",
              "         5: 3990,\n",
              "         6: 3932,\n",
              "         7: 3997,\n",
              "         8: 4029,\n",
              "         9: 3972})"
            ]
          },
          "metadata": {},
          "execution_count": 19
        }
      ]
    },
    {
      "cell_type": "code",
      "source": [
        "# upper bound of variance?\n",
        "\n",
        "UB = []\n",
        "\n",
        "for h in range(10):\n",
        "  classvars = []\n",
        "  for i in tqdm(range(40000)):\n",
        "    if np.argmax(unlab_labels, axis=1).tolist()[i]==h:\n",
        "      classvars.append(Vars[i])\n",
        "  UB.append(np.percentile(classvars, 25))"
      ],
      "metadata": {
        "colab": {
          "base_uri": "https://localhost:8080/"
        },
        "id": "uDAwvSCVBLA4",
        "outputId": "e83f1255-ad43-4ad9-f0d4-952a4d23a4c0"
      },
      "execution_count": 20,
      "outputs": [
        {
          "output_type": "stream",
          "name": "stderr",
          "text": [
            "100%|██████████| 40000/40000 [00:49<00:00, 808.00it/s]\n",
            "100%|██████████| 40000/40000 [00:49<00:00, 811.76it/s]\n",
            "100%|██████████| 40000/40000 [00:49<00:00, 813.00it/s]\n",
            "100%|██████████| 40000/40000 [00:49<00:00, 812.94it/s]\n",
            "100%|██████████| 40000/40000 [00:49<00:00, 811.84it/s]\n",
            "100%|██████████| 40000/40000 [00:49<00:00, 813.28it/s]\n",
            "100%|██████████| 40000/40000 [00:49<00:00, 813.48it/s]\n",
            "100%|██████████| 40000/40000 [00:49<00:00, 810.75it/s]\n",
            "100%|██████████| 40000/40000 [00:49<00:00, 808.13it/s]\n",
            "100%|██████████| 40000/40000 [00:49<00:00, 813.33it/s]\n"
          ]
        }
      ]
    },
    {
      "cell_type": "code",
      "execution_count": 21,
      "metadata": {
        "id": "6BUHoKvtkJ37"
      },
      "outputs": [],
      "source": [
        "lowvars = []\n",
        "ind = 0 \n",
        "\n",
        "for i in Vars:\n",
        "  if i < UB[np.argmax(unlab_labels, axis=1)[ind]]:\n",
        "    lowvars.append(ind)\n",
        "  ind += 1"
      ]
    },
    {
      "cell_type": "code",
      "execution_count": 22,
      "metadata": {
        "id": "9WhEDezq362P"
      },
      "outputs": [],
      "source": [
        "highvars = []\n",
        "for i in range(unlab_data.shape[0]):\n",
        "  if i not in lowvars:\n",
        "    highvars.append(i)"
      ]
    },
    {
      "cell_type": "code",
      "execution_count": 23,
      "metadata": {
        "colab": {
          "base_uri": "https://localhost:8080/"
        },
        "id": "0uSdhE1VmF5a",
        "outputId": "e4ad6af8-5903-48d8-edc1-96b02004ba5e"
      },
      "outputs": [
        {
          "output_type": "execute_result",
          "data": {
            "text/plain": [
              "0.8969"
            ]
          },
          "metadata": {},
          "execution_count": 23
        }
      ],
      "source": [
        "# 같은 길이의 랜덤하게 고른 data들에 모델로 label 부여 후 정확도 측정\n",
        "randomindx = random.sample(range(40000), len(lowvars))\n",
        "accuracy_score(np.argmax(np.array(Outs)[randomindx], axis=1), np.argmax(unlab_labels[randomindx], axis=1))"
      ]
    },
    {
      "cell_type": "code",
      "execution_count": 24,
      "metadata": {
        "colab": {
          "base_uri": "https://localhost:8080/"
        },
        "id": "gtEPD5p5kM-z",
        "outputId": "42fe3f41-7024-4882-92a3-26b489d4962f"
      },
      "outputs": [
        {
          "output_type": "execute_result",
          "data": {
            "text/plain": [
              "0.965"
            ]
          },
          "metadata": {},
          "execution_count": 24
        }
      ],
      "source": [
        "# 저분산의 data들만 모아서 모델로 label 부여 후 정확도 측정 : 95%\n",
        "accuracy_score(np.argmax(np.array(Outs)[lowvars], axis=1), np.argmax(unlab_labels[lowvars], axis=1))"
      ]
    },
    {
      "cell_type": "code",
      "execution_count": 25,
      "metadata": {
        "id": "C2ab4GUWwe30"
      },
      "outputs": [],
      "source": [
        "train_data_1 = np.concatenate([train_data, unlab_data[lowvars]], axis=0)\n",
        "train_labels_1 = np.concatenate([train_labels, Outs[lowvars]], axis=0)"
      ]
    },
    {
      "cell_type": "code",
      "execution_count": 26,
      "metadata": {
        "id": "1xahhoBY8mKc"
      },
      "outputs": [],
      "source": [
        "shufindx = random.sample(range(train_data_1.shape[0]),train_data_1.shape[0])\n",
        "train_data_1 = train_data_1[shufindx]\n",
        "train_labels_1 = train_labels_1[shufindx]"
      ]
    },
    {
      "cell_type": "code",
      "source": [
        "train_data_2 = np.concatenate([train_data, unlab_data[randomindx]], axis=0)\n",
        "train_labels_2 = np.concatenate([train_labels, Outs[randomindx]], axis=0)"
      ],
      "metadata": {
        "id": "7gQWZXNojDvb"
      },
      "execution_count": 27,
      "outputs": []
    },
    {
      "cell_type": "code",
      "source": [
        "shufindx = random.sample(range(train_data_2.shape[0]),train_data_2.shape[0])\n",
        "train_data_2 = train_data_2[shufindx]\n",
        "train_labels_2 = train_labels_2[shufindx]"
      ],
      "metadata": {
        "id": "4tdOxYBQjFGT"
      },
      "execution_count": 28,
      "outputs": []
    },
    {
      "cell_type": "code",
      "execution_count": 29,
      "metadata": {
        "id": "_t9J8vlJ5TDO"
      },
      "outputs": [],
      "source": [
        "# unlab_data = unlab_data[highvars]\n",
        "# unlab_labels = unlab_labels[highvars]"
      ]
    },
    {
      "cell_type": "code",
      "source": [
        "Counter(np.argmax(train_labels_1, axis=1))"
      ],
      "metadata": {
        "colab": {
          "base_uri": "https://localhost:8080/"
        },
        "id": "Z7Jq-n0L8diD",
        "outputId": "9923794d-9d78-4c0b-eb0e-ffffca7e18f1"
      },
      "execution_count": 30,
      "outputs": [
        {
          "output_type": "execute_result",
          "data": {
            "text/plain": [
              "Counter({0: 3097,\n",
              "         1: 3020,\n",
              "         2: 3077,\n",
              "         3: 3043,\n",
              "         4: 3012,\n",
              "         5: 3008,\n",
              "         6: 2736,\n",
              "         7: 3001,\n",
              "         8: 2984,\n",
              "         9: 3022})"
            ]
          },
          "metadata": {},
          "execution_count": 30
        }
      ]
    },
    {
      "cell_type": "code",
      "source": [
        "Counter(np.argmax(train_labels_2, axis=1))"
      ],
      "metadata": {
        "colab": {
          "base_uri": "https://localhost:8080/"
        },
        "id": "4CLpAKvu8kD6",
        "outputId": "c2e3847e-f4ad-4d96-87d6-456e239ea2af"
      },
      "execution_count": 31,
      "outputs": [
        {
          "output_type": "execute_result",
          "data": {
            "text/plain": [
              "Counter({0: 3023,\n",
              "         1: 3020,\n",
              "         2: 3005,\n",
              "         3: 3064,\n",
              "         4: 3004,\n",
              "         5: 3004,\n",
              "         6: 2873,\n",
              "         7: 3001,\n",
              "         8: 2973,\n",
              "         9: 3033})"
            ]
          },
          "metadata": {},
          "execution_count": 31
        }
      ]
    },
    {
      "cell_type": "markdown",
      "metadata": {
        "id": "bOtFA9fr5oDF"
      },
      "source": [
        "## 모델링\n",
        "\n",
        "간단한 모델에서 받은 지식를 복잡한 모델에서 학습 \n",
        "\n",
        "uncertainty aware data vs random sampling data"
      ]
    },
    {
      "cell_type": "code",
      "execution_count": 32,
      "metadata": {
        "id": "m7Pd9SYK5tv_"
      },
      "outputs": [],
      "source": [
        "def PermaDropout(rate):\n",
        "    return Lambda(lambda x: K.dropout(x, level=rate))"
      ]
    },
    {
      "cell_type": "code",
      "execution_count": 33,
      "metadata": {
        "colab": {
          "base_uri": "https://localhost:8080/"
        },
        "id": "W6WgyM3Y5twA",
        "outputId": "54b780fe-d05b-4bbc-8b4a-a5c009d7bf06"
      },
      "outputs": [
        {
          "output_type": "stream",
          "name": "stdout",
          "text": [
            "Epoch 1/100\n",
            "329/329 [==============================] - 4s 9ms/step - loss: 4.2144 - accuracy: 0.1091 - val_loss: 2.3682 - val_accuracy: 0.1104\n",
            "Epoch 2/100\n",
            "329/329 [==============================] - 2s 7ms/step - loss: 2.3085 - accuracy: 0.1286 - val_loss: 2.2634 - val_accuracy: 0.1397\n",
            "Epoch 3/100\n",
            "329/329 [==============================] - 2s 7ms/step - loss: 2.1561 - accuracy: 0.1891 - val_loss: 1.9780 - val_accuracy: 0.2513\n",
            "Epoch 4/100\n",
            "329/329 [==============================] - 2s 7ms/step - loss: 1.8091 - accuracy: 0.3191 - val_loss: 1.6900 - val_accuracy: 0.3812\n",
            "Epoch 5/100\n",
            "329/329 [==============================] - 2s 7ms/step - loss: 1.6016 - accuracy: 0.4253 - val_loss: 1.5064 - val_accuracy: 0.4703\n",
            "Epoch 6/100\n",
            "329/329 [==============================] - 3s 8ms/step - loss: 1.4206 - accuracy: 0.5050 - val_loss: 1.3095 - val_accuracy: 0.5482\n",
            "Epoch 7/100\n",
            "329/329 [==============================] - 3s 8ms/step - loss: 1.2121 - accuracy: 0.5873 - val_loss: 1.1052 - val_accuracy: 0.6139\n",
            "Epoch 8/100\n",
            "329/329 [==============================] - 2s 7ms/step - loss: 1.0418 - accuracy: 0.6401 - val_loss: 0.9565 - val_accuracy: 0.6609\n",
            "Epoch 9/100\n",
            "329/329 [==============================] - 3s 8ms/step - loss: 0.9095 - accuracy: 0.6776 - val_loss: 0.8540 - val_accuracy: 0.6916\n",
            "Epoch 10/100\n",
            "329/329 [==============================] - 2s 7ms/step - loss: 0.8357 - accuracy: 0.6958 - val_loss: 0.8039 - val_accuracy: 0.7014\n",
            "Epoch 11/100\n",
            "329/329 [==============================] - 2s 7ms/step - loss: 0.7778 - accuracy: 0.7120 - val_loss: 0.7615 - val_accuracy: 0.7118\n",
            "Epoch 12/100\n",
            "329/329 [==============================] - 3s 8ms/step - loss: 0.7343 - accuracy: 0.7193 - val_loss: 0.7367 - val_accuracy: 0.7274\n",
            "Epoch 13/100\n",
            "329/329 [==============================] - 3s 8ms/step - loss: 0.7097 - accuracy: 0.7283 - val_loss: 0.7011 - val_accuracy: 0.7333\n",
            "Epoch 14/100\n",
            "329/329 [==============================] - 3s 8ms/step - loss: 0.6817 - accuracy: 0.7366 - val_loss: 0.6739 - val_accuracy: 0.7358\n",
            "Epoch 15/100\n",
            "329/329 [==============================] - 3s 8ms/step - loss: 0.6645 - accuracy: 0.7409 - val_loss: 0.6521 - val_accuracy: 0.7451\n",
            "Epoch 16/100\n",
            "329/329 [==============================] - 3s 8ms/step - loss: 0.6396 - accuracy: 0.7506 - val_loss: 0.6330 - val_accuracy: 0.7658\n",
            "Epoch 17/100\n",
            "329/329 [==============================] - 2s 7ms/step - loss: 0.6232 - accuracy: 0.7674 - val_loss: 0.5988 - val_accuracy: 0.7804\n",
            "Epoch 18/100\n",
            "329/329 [==============================] - 2s 7ms/step - loss: 0.6043 - accuracy: 0.7830 - val_loss: 0.5820 - val_accuracy: 0.7910\n",
            "Epoch 19/100\n",
            "329/329 [==============================] - 3s 8ms/step - loss: 0.5838 - accuracy: 0.7941 - val_loss: 0.5782 - val_accuracy: 0.7939\n",
            "Epoch 20/100\n",
            "329/329 [==============================] - 3s 8ms/step - loss: 0.5633 - accuracy: 0.7977 - val_loss: 0.5530 - val_accuracy: 0.8027\n",
            "Epoch 21/100\n",
            "329/329 [==============================] - 2s 7ms/step - loss: 0.5410 - accuracy: 0.8073 - val_loss: 0.5412 - val_accuracy: 0.8114\n",
            "Epoch 22/100\n",
            "329/329 [==============================] - 3s 8ms/step - loss: 0.5319 - accuracy: 0.8138 - val_loss: 0.5189 - val_accuracy: 0.8119\n",
            "Epoch 23/100\n",
            "329/329 [==============================] - 2s 7ms/step - loss: 0.5187 - accuracy: 0.8172 - val_loss: 0.5025 - val_accuracy: 0.8242\n",
            "Epoch 24/100\n",
            "329/329 [==============================] - 2s 7ms/step - loss: 0.4987 - accuracy: 0.8248 - val_loss: 0.4987 - val_accuracy: 0.8246\n",
            "Epoch 25/100\n",
            "329/329 [==============================] - 2s 7ms/step - loss: 0.4906 - accuracy: 0.8277 - val_loss: 0.4893 - val_accuracy: 0.8277\n",
            "Epoch 26/100\n",
            "329/329 [==============================] - 2s 7ms/step - loss: 0.4760 - accuracy: 0.8342 - val_loss: 0.4794 - val_accuracy: 0.8330\n",
            "Epoch 27/100\n",
            "329/329 [==============================] - 3s 8ms/step - loss: 0.4662 - accuracy: 0.8364 - val_loss: 0.4735 - val_accuracy: 0.8380\n",
            "Epoch 28/100\n",
            "329/329 [==============================] - 3s 8ms/step - loss: 0.4568 - accuracy: 0.8426 - val_loss: 0.4693 - val_accuracy: 0.8414\n",
            "Epoch 29/100\n",
            "329/329 [==============================] - 3s 8ms/step - loss: 0.4379 - accuracy: 0.8480 - val_loss: 0.4483 - val_accuracy: 0.8470\n",
            "Epoch 30/100\n",
            "329/329 [==============================] - 3s 8ms/step - loss: 0.4370 - accuracy: 0.8506 - val_loss: 0.4401 - val_accuracy: 0.8501\n",
            "Epoch 31/100\n",
            "329/329 [==============================] - 2s 7ms/step - loss: 0.4208 - accuracy: 0.8554 - val_loss: 0.4300 - val_accuracy: 0.8590\n",
            "Epoch 32/100\n",
            "329/329 [==============================] - 3s 8ms/step - loss: 0.4164 - accuracy: 0.8592 - val_loss: 0.4325 - val_accuracy: 0.8574\n",
            "Epoch 33/100\n",
            "329/329 [==============================] - 2s 7ms/step - loss: 0.4094 - accuracy: 0.8622 - val_loss: 0.4288 - val_accuracy: 0.8594\n",
            "Epoch 34/100\n",
            "329/329 [==============================] - 3s 8ms/step - loss: 0.4022 - accuracy: 0.8642 - val_loss: 0.4031 - val_accuracy: 0.8666\n",
            "Epoch 35/100\n",
            "329/329 [==============================] - 3s 8ms/step - loss: 0.3960 - accuracy: 0.8680 - val_loss: 0.4113 - val_accuracy: 0.8639\n",
            "Epoch 36/100\n",
            "329/329 [==============================] - 3s 8ms/step - loss: 0.3929 - accuracy: 0.8687 - val_loss: 0.4110 - val_accuracy: 0.8703\n",
            "Epoch 37/100\n",
            "329/329 [==============================] - 2s 7ms/step - loss: 0.3880 - accuracy: 0.8707 - val_loss: 0.3950 - val_accuracy: 0.8692\n",
            "Epoch 38/100\n",
            "329/329 [==============================] - 3s 8ms/step - loss: 0.3804 - accuracy: 0.8744 - val_loss: 0.3895 - val_accuracy: 0.8694\n",
            "Epoch 39/100\n",
            "329/329 [==============================] - 3s 8ms/step - loss: 0.3744 - accuracy: 0.8753 - val_loss: 0.4087 - val_accuracy: 0.8728\n",
            "Epoch 40/100\n",
            "329/329 [==============================] - 3s 8ms/step - loss: 0.3711 - accuracy: 0.8777 - val_loss: 0.3792 - val_accuracy: 0.8749\n",
            "Epoch 41/100\n",
            "329/329 [==============================] - 2s 7ms/step - loss: 0.3627 - accuracy: 0.8816 - val_loss: 0.3773 - val_accuracy: 0.8809\n",
            "Epoch 42/100\n",
            "329/329 [==============================] - 3s 8ms/step - loss: 0.3511 - accuracy: 0.8824 - val_loss: 0.3847 - val_accuracy: 0.8784\n",
            "Epoch 43/100\n",
            "329/329 [==============================] - 2s 7ms/step - loss: 0.3565 - accuracy: 0.8823 - val_loss: 0.3776 - val_accuracy: 0.8783\n",
            "Epoch 44/100\n",
            "329/329 [==============================] - 3s 8ms/step - loss: 0.3458 - accuracy: 0.8845 - val_loss: 0.3598 - val_accuracy: 0.8824\n",
            "Epoch 45/100\n",
            "329/329 [==============================] - 2s 7ms/step - loss: 0.3388 - accuracy: 0.8886 - val_loss: 0.3552 - val_accuracy: 0.8854\n",
            "Epoch 46/100\n",
            "329/329 [==============================] - 3s 8ms/step - loss: 0.3422 - accuracy: 0.8885 - val_loss: 0.3637 - val_accuracy: 0.8843\n",
            "Epoch 47/100\n",
            "329/329 [==============================] - 3s 8ms/step - loss: 0.3410 - accuracy: 0.8899 - val_loss: 0.3523 - val_accuracy: 0.8903\n",
            "Epoch 48/100\n",
            "329/329 [==============================] - 2s 7ms/step - loss: 0.3267 - accuracy: 0.8938 - val_loss: 0.3517 - val_accuracy: 0.8864\n",
            "Epoch 49/100\n",
            "329/329 [==============================] - 3s 8ms/step - loss: 0.3217 - accuracy: 0.8962 - val_loss: 0.3516 - val_accuracy: 0.8880\n",
            "Epoch 50/100\n",
            "329/329 [==============================] - 2s 7ms/step - loss: 0.3254 - accuracy: 0.8941 - val_loss: 0.3554 - val_accuracy: 0.8929\n",
            "Epoch 51/100\n",
            "329/329 [==============================] - 3s 8ms/step - loss: 0.3147 - accuracy: 0.9000 - val_loss: 0.3371 - val_accuracy: 0.8952\n",
            "Epoch 52/100\n",
            "329/329 [==============================] - 3s 8ms/step - loss: 0.3086 - accuracy: 0.9000 - val_loss: 0.3411 - val_accuracy: 0.8942\n",
            "Epoch 53/100\n",
            "329/329 [==============================] - 3s 8ms/step - loss: 0.3087 - accuracy: 0.9012 - val_loss: 0.3552 - val_accuracy: 0.8896\n",
            "Epoch 54/100\n",
            "329/329 [==============================] - 2s 7ms/step - loss: 0.3105 - accuracy: 0.8984 - val_loss: 0.3319 - val_accuracy: 0.8992\n",
            "Epoch 55/100\n",
            "329/329 [==============================] - 2s 7ms/step - loss: 0.3134 - accuracy: 0.9001 - val_loss: 0.3342 - val_accuracy: 0.8963\n",
            "Epoch 56/100\n",
            "329/329 [==============================] - 3s 8ms/step - loss: 0.3015 - accuracy: 0.9033 - val_loss: 0.3322 - val_accuracy: 0.8956\n",
            "Epoch 57/100\n",
            "329/329 [==============================] - 2s 7ms/step - loss: 0.2959 - accuracy: 0.9054 - val_loss: 0.3285 - val_accuracy: 0.8960\n",
            "Epoch 58/100\n",
            "329/329 [==============================] - 2s 7ms/step - loss: 0.2932 - accuracy: 0.9056 - val_loss: 0.3352 - val_accuracy: 0.8968\n",
            "Epoch 59/100\n",
            "329/329 [==============================] - 3s 8ms/step - loss: 0.2934 - accuracy: 0.9070 - val_loss: 0.3250 - val_accuracy: 0.8989\n",
            "Epoch 60/100\n",
            "329/329 [==============================] - 2s 7ms/step - loss: 0.2931 - accuracy: 0.9080 - val_loss: 0.3293 - val_accuracy: 0.9008\n",
            "Epoch 61/100\n",
            "329/329 [==============================] - 3s 8ms/step - loss: 0.2876 - accuracy: 0.9093 - val_loss: 0.3288 - val_accuracy: 0.9008\n",
            "Epoch 62/100\n",
            "329/329 [==============================] - 2s 7ms/step - loss: 0.2865 - accuracy: 0.9093 - val_loss: 0.3105 - val_accuracy: 0.9051\n",
            "Epoch 63/100\n",
            "329/329 [==============================] - 2s 7ms/step - loss: 0.2820 - accuracy: 0.9084 - val_loss: 0.3285 - val_accuracy: 0.8989\n",
            "Epoch 64/100\n",
            "329/329 [==============================] - 2s 7ms/step - loss: 0.2839 - accuracy: 0.9110 - val_loss: 0.3186 - val_accuracy: 0.9027\n",
            "Epoch 65/100\n",
            "329/329 [==============================] - 3s 8ms/step - loss: 0.2759 - accuracy: 0.9120 - val_loss: 0.3168 - val_accuracy: 0.9003\n",
            "Epoch 66/100\n",
            "329/329 [==============================] - 3s 8ms/step - loss: 0.2751 - accuracy: 0.9142 - val_loss: 0.3150 - val_accuracy: 0.9018\n",
            "Epoch 67/100\n",
            "329/329 [==============================] - 2s 7ms/step - loss: 0.2749 - accuracy: 0.9147 - val_loss: 0.3186 - val_accuracy: 0.9029\n",
            "Epoch 68/100\n",
            "329/329 [==============================] - 2s 7ms/step - loss: 0.2767 - accuracy: 0.9140 - val_loss: 0.3200 - val_accuracy: 0.9041\n",
            "Epoch 69/100\n",
            "329/329 [==============================] - 3s 8ms/step - loss: 0.2701 - accuracy: 0.9138 - val_loss: 0.3176 - val_accuracy: 0.9068\n",
            "Epoch 70/100\n",
            "329/329 [==============================] - 3s 8ms/step - loss: 0.2722 - accuracy: 0.9142 - val_loss: 0.3140 - val_accuracy: 0.9044\n",
            "Epoch 71/100\n",
            "329/329 [==============================] - 3s 8ms/step - loss: 0.2640 - accuracy: 0.9180 - val_loss: 0.3082 - val_accuracy: 0.9068\n",
            "Epoch 72/100\n",
            "329/329 [==============================] - 2s 7ms/step - loss: 0.2641 - accuracy: 0.9183 - val_loss: 0.2950 - val_accuracy: 0.9090\n",
            "Epoch 73/100\n",
            "329/329 [==============================] - 2s 7ms/step - loss: 0.2649 - accuracy: 0.9166 - val_loss: 0.3058 - val_accuracy: 0.9100\n",
            "Epoch 74/100\n",
            "329/329 [==============================] - 3s 8ms/step - loss: 0.2586 - accuracy: 0.9200 - val_loss: 0.3051 - val_accuracy: 0.9044\n",
            "Epoch 75/100\n",
            "329/329 [==============================] - 2s 7ms/step - loss: 0.2548 - accuracy: 0.9213 - val_loss: 0.3100 - val_accuracy: 0.9047\n",
            "Epoch 76/100\n",
            "329/329 [==============================] - 3s 8ms/step - loss: 0.2569 - accuracy: 0.9185 - val_loss: 0.3035 - val_accuracy: 0.9107\n",
            "Epoch 77/100\n",
            "329/329 [==============================] - 3s 8ms/step - loss: 0.2545 - accuracy: 0.9210 - val_loss: 0.3158 - val_accuracy: 0.9006\n",
            "Epoch 78/100\n",
            "329/329 [==============================] - 2s 8ms/step - loss: 0.2562 - accuracy: 0.9208 - val_loss: 0.3080 - val_accuracy: 0.9056\n",
            "Epoch 79/100\n",
            "329/329 [==============================] - 2s 7ms/step - loss: 0.2544 - accuracy: 0.9202 - val_loss: 0.3017 - val_accuracy: 0.9079\n",
            "Epoch 80/100\n",
            "329/329 [==============================] - 3s 8ms/step - loss: 0.2495 - accuracy: 0.9246 - val_loss: 0.3011 - val_accuracy: 0.9090\n",
            "Epoch 81/100\n",
            "329/329 [==============================] - 2s 7ms/step - loss: 0.2465 - accuracy: 0.9231 - val_loss: 0.2974 - val_accuracy: 0.9108\n",
            "Epoch 82/100\n",
            "329/329 [==============================] - 2s 7ms/step - loss: 0.2463 - accuracy: 0.9224 - val_loss: 0.3002 - val_accuracy: 0.9077\n",
            "Epoch 83/100\n",
            "329/329 [==============================] - 2s 7ms/step - loss: 0.2426 - accuracy: 0.9261 - val_loss: 0.3030 - val_accuracy: 0.9097\n",
            "Epoch 84/100\n",
            "329/329 [==============================] - 2s 7ms/step - loss: 0.2445 - accuracy: 0.9247 - val_loss: 0.3078 - val_accuracy: 0.9092\n",
            "Epoch 85/100\n",
            "329/329 [==============================] - 2s 7ms/step - loss: 0.2440 - accuracy: 0.9241 - val_loss: 0.2988 - val_accuracy: 0.9126\n",
            "Epoch 86/100\n",
            "329/329 [==============================] - 2s 7ms/step - loss: 0.2379 - accuracy: 0.9256 - val_loss: 0.2973 - val_accuracy: 0.9141\n",
            "Epoch 87/100\n",
            "329/329 [==============================] - 2s 7ms/step - loss: 0.2435 - accuracy: 0.9245 - val_loss: 0.3002 - val_accuracy: 0.9099\n",
            "Epoch 88/100\n",
            "329/329 [==============================] - 2s 7ms/step - loss: 0.2383 - accuracy: 0.9256 - val_loss: 0.2895 - val_accuracy: 0.9124\n",
            "Epoch 89/100\n",
            "329/329 [==============================] - 3s 8ms/step - loss: 0.2386 - accuracy: 0.9267 - val_loss: 0.3016 - val_accuracy: 0.9092\n",
            "Epoch 90/100\n",
            "329/329 [==============================] - 3s 8ms/step - loss: 0.2396 - accuracy: 0.9271 - val_loss: 0.2947 - val_accuracy: 0.9150\n",
            "Epoch 91/100\n",
            "329/329 [==============================] - 3s 8ms/step - loss: 0.2361 - accuracy: 0.9273 - val_loss: 0.2996 - val_accuracy: 0.9118\n",
            "Epoch 92/100\n",
            "329/329 [==============================] - 2s 7ms/step - loss: 0.2311 - accuracy: 0.9284 - val_loss: 0.2979 - val_accuracy: 0.9137\n",
            "Epoch 93/100\n",
            "329/329 [==============================] - 3s 8ms/step - loss: 0.2326 - accuracy: 0.9281 - val_loss: 0.3045 - val_accuracy: 0.9129\n",
            "Epoch 94/100\n",
            "329/329 [==============================] - 3s 8ms/step - loss: 0.2310 - accuracy: 0.9277 - val_loss: 0.2993 - val_accuracy: 0.9149\n",
            "Epoch 95/100\n",
            "329/329 [==============================] - 3s 8ms/step - loss: 0.2329 - accuracy: 0.9272 - val_loss: 0.2883 - val_accuracy: 0.9134\n",
            "Epoch 96/100\n",
            "329/329 [==============================] - 2s 7ms/step - loss: 0.2284 - accuracy: 0.9291 - val_loss: 0.2869 - val_accuracy: 0.9183\n",
            "Epoch 97/100\n",
            "329/329 [==============================] - 2s 7ms/step - loss: 0.2287 - accuracy: 0.9297 - val_loss: 0.2984 - val_accuracy: 0.9118\n",
            "Epoch 98/100\n",
            "329/329 [==============================] - 2s 7ms/step - loss: 0.2246 - accuracy: 0.9318 - val_loss: 0.2929 - val_accuracy: 0.9147\n",
            "Epoch 99/100\n",
            "329/329 [==============================] - 3s 8ms/step - loss: 0.2231 - accuracy: 0.9313 - val_loss: 0.2895 - val_accuracy: 0.9137\n",
            "Epoch 100/100\n",
            "329/329 [==============================] - 2s 7ms/step - loss: 0.2168 - accuracy: 0.9345 - val_loss: 0.3032 - val_accuracy: 0.9104\n"
          ]
        },
        {
          "output_type": "execute_result",
          "data": {
            "text/plain": [
              "<keras.callbacks.History at 0x7f75a6682f50>"
            ]
          },
          "metadata": {},
          "execution_count": 33
        }
      ],
      "source": [
        "#######HYPERPARAMATERS###########\n",
        "epochs = 100\n",
        "batch_size = 64\n",
        "learning_rate = 0.0001\n",
        "#################################\n",
        "  \n",
        "model = Sequential()\n",
        "    \n",
        "model.add(Conv2D(32, kernel_size = (3,3), input_shape=(28,28,1), activation='relu'))\n",
        "model.add(Conv2D(64,(3,3), activation='relu'))\n",
        "model.add(MaxPooling2D(pool_size=2))\n",
        "model.add(PermaDropout(0.5))\n",
        "\n",
        "model.add(Conv2D(64,(3,3), activation='relu'))\n",
        "model.add(Conv2D(64,(3,3), activation='relu'))\n",
        "model.add(MaxPooling2D(pool_size=2))\n",
        "model.add(PermaDropout(0.5))\n",
        "\n",
        "model.add(Flatten())\n",
        "\n",
        "model.add(Dense(128, activation='relu'))\n",
        "model.add(Dense(128, activation='relu'))\n",
        "model.add(PermaDropout(0.5))\n",
        "\n",
        "model.add(Dense(128, activation='relu'))\n",
        "model.add(Dense(128, activation='relu'))\n",
        "model.add(PermaDropout(0.5))\n",
        "\n",
        "model.add(Dense(10, activation='softmax'))\n",
        "adam = keras.optimizers.Adam(learning_rate)\n",
        "model.compile(optimizer = adam, loss = 'categorical_crossentropy', metrics = ['accuracy'])\n",
        "    \n",
        "# print(model.summary())\n",
        "\n",
        "lr_reducer = ReduceLROnPlateau(monitor='val_loss', factor=0.9, patience=3)\n",
        "early_stopper = EarlyStopping(monitor='val_accuracy', min_delta=0, patience=30, mode='auto')\n",
        "checkpointer = ModelCheckpoint('weights.hd5', monitor='val_loss', verbose=1, save_best_only=True)\n",
        "\n",
        "model.fit(\n",
        "          train_data_1,\n",
        "          train_labels_1,\n",
        "          epochs = epochs,\n",
        "          batch_size = batch_size,\n",
        "          validation_split = 0.3,\n",
        "          shuffle = True\n",
        "          )"
      ]
    },
    {
      "cell_type": "code",
      "execution_count": 34,
      "metadata": {
        "id": "9_zB1OL252B3"
      },
      "outputs": [],
      "source": [
        "model.save('/content/drive/MyDrive/파이썬스터디 프로젝트/labeling_cnn2.h5')"
      ]
    },
    {
      "cell_type": "code",
      "execution_count": null,
      "metadata": {
        "id": "BbEZKkhn52B4"
      },
      "outputs": [],
      "source": [
        "model = keras.models.load_model('/content/drive/MyDrive/파이썬스터디 프로젝트/labeling_cnn2.h5')\n",
        "model_eval()"
      ]
    },
    {
      "cell_type": "code",
      "execution_count": null,
      "metadata": {
        "id": "9KTK643Nkt4E"
      },
      "outputs": [],
      "source": [
        "#######HYPERPARAMATERS###########\n",
        "epochs = 100\n",
        "batch_size = 64\n",
        "learning_rate = 0.0001\n",
        "#################################\n",
        "  \n",
        "model = Sequential()\n",
        "    \n",
        "model.add(Conv2D(32, kernel_size = (3,3), input_shape=(28,28,1), activation='relu'))\n",
        "model.add(Conv2D(64,(3,3), activation='relu'))\n",
        "model.add(MaxPooling2D(pool_size=2))\n",
        "model.add(PermaDropout(0.5))\n",
        "\n",
        "model.add(Conv2D(64,(3,3), activation='relu'))\n",
        "model.add(Conv2D(64,(3,3), activation='relu'))\n",
        "model.add(MaxPooling2D(pool_size=2))\n",
        "model.add(PermaDropout(0.5))\n",
        "\n",
        "model.add(Flatten())\n",
        "\n",
        "model.add(Dense(128, activation='relu'))\n",
        "model.add(Dense(128, activation='relu'))\n",
        "model.add(PermaDropout(0.5))\n",
        "\n",
        "model.add(Dense(128, activation='relu'))\n",
        "model.add(Dense(128, activation='relu'))\n",
        "model.add(PermaDropout(0.5))\n",
        "\n",
        "model.add(Dense(10, activation='softmax'))\n",
        "adam = keras.optimizers.Adam(learning_rate)\n",
        "model.compile(optimizer = adam, loss = 'categorical_crossentropy', metrics = ['accuracy'])\n",
        "    \n",
        "# print(model.summary())\n",
        "\n",
        "lr_reducer = ReduceLROnPlateau(monitor='val_loss', factor=0.9, patience=3)\n",
        "early_stopper = EarlyStopping(monitor='val_accuracy', min_delta=0, patience=30, mode='auto')\n",
        "checkpointer = ModelCheckpoint('weights.hd5', monitor='val_loss', verbose=1, save_best_only=True)\n",
        "\n",
        "model.fit(\n",
        "          train_data_2,\n",
        "          train_labels_2,\n",
        "          epochs = epochs,\n",
        "          batch_size = batch_size,\n",
        "          validation_split = 0.3,\n",
        "          shuffle = True\n",
        "          )"
      ]
    },
    {
      "cell_type": "code",
      "execution_count": null,
      "metadata": {
        "id": "4d3W-766kt4H"
      },
      "outputs": [],
      "source": [
        "model.save('/content/drive/MyDrive/파이썬스터디 프로젝트/labeling_cnn_no.h5')"
      ]
    },
    {
      "cell_type": "code",
      "execution_count": null,
      "metadata": {
        "id": "it79cIfekt4H"
      },
      "outputs": [],
      "source": [
        "model = keras.models.load_model('/content/drive/MyDrive/파이썬스터디 프로젝트/labeling_cnn_no.h5')\n",
        "model_eval()"
      ]
    }
  ],
  "metadata": {
    "accelerator": "GPU",
    "colab": {
      "collapsed_sections": [],
      "name": "uncertainty 기반 labeling.ipynb",
      "provenance": [],
      "include_colab_link": true
    },
    "kernelspec": {
      "display_name": "Python 3",
      "name": "python3"
    },
    "language_info": {
      "name": "python"
    }
  },
  "nbformat": 4,
  "nbformat_minor": 0
}