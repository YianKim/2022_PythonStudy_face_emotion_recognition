{
  "cells": [
    {
      "cell_type": "markdown",
      "metadata": {
        "id": "view-in-github",
        "colab_type": "text"
      },
      "source": [
        "<a href=\"https://colab.research.google.com/github/YianKim/2022_PythonStudy_face_emotion_recognition/blob/main/uncertainty_%EA%B8%B0%EB%B0%98_labeling.ipynb\" target=\"_parent\"><img src=\"https://colab.research.google.com/assets/colab-badge.svg\" alt=\"Open In Colab\"/></a>"
      ]
    },
    {
      "cell_type": "markdown",
      "metadata": {
        "id": "5FQpjWg4Ld6m"
      },
      "source": [
        "## 구글 드라이브\n"
      ]
    },
    {
      "cell_type": "code",
      "execution_count": 254,
      "metadata": {
        "colab": {
          "base_uri": "https://localhost:8080/"
        },
        "id": "SyTEuhg7fR9P",
        "outputId": "974f9f06-7b03-4dec-e678-4bc33c33dff4"
      },
      "outputs": [
        {
          "output_type": "stream",
          "name": "stdout",
          "text": [
            "Drive already mounted at /content/drive; to attempt to forcibly remount, call drive.mount(\"/content/drive\", force_remount=True).\n"
          ]
        }
      ],
      "source": [
        "from google.colab import drive\n",
        "drive.mount('/content/drive')"
      ]
    },
    {
      "cell_type": "markdown",
      "metadata": {
        "id": "UQy7KUb6NBs-"
      },
      "source": [
        "## 라이브러리 불러오기\n"
      ]
    },
    {
      "cell_type": "code",
      "execution_count": 255,
      "metadata": {
        "id": "XRPQRtXGmm2W"
      },
      "outputs": [],
      "source": [
        "%matplotlib inline\n",
        "import matplotlib.pyplot as plt\n",
        "from tensorflow import keras\n",
        "import numpy as np\n",
        "from tensorflow.keras.utils import to_categorical\n",
        "from sklearn.model_selection import train_test_split\n",
        "\n",
        "import PIL\n",
        "import pickle\n",
        "import random\n",
        "from tqdm import tqdm\n",
        "\n",
        "from keras.layers.core import Lambda\n",
        "from keras import backend as K\n",
        "\n",
        "from keras.models import Sequential\n",
        "from keras.layers import Conv2D\n",
        "from keras.layers import BatchNormalization\n",
        "from keras.regularizers import l2\n",
        "from keras.layers import Activation\n",
        "from keras.layers import Dropout\n",
        "from keras.layers import MaxPooling2D\n",
        "from keras.layers import Flatten\n",
        "from keras.layers import Dense\n",
        "from keras.layers import Reshape\n",
        "from keras.layers import LSTM\n",
        "from keras import optimizers\n",
        "from keras.callbacks import ReduceLROnPlateau, EarlyStopping, TensorBoard, ModelCheckpoint\n",
        "from sklearn.metrics import *\n",
        "from keras.models import load_model\n",
        "\n",
        "from tqdm import tqdm"
      ]
    },
    {
      "cell_type": "markdown",
      "metadata": {
        "id": "xpAjYytuPDaU"
      },
      "source": [
        "## 데이터 불러오기\n"
      ]
    },
    {
      "cell_type": "code",
      "source": [
        "fashion_mnist = keras.datasets.fashion_mnist\n",
        "(data, labels), (test_data, test_labels) = fashion_mnist.load_data()"
      ],
      "metadata": {
        "id": "e6b1qO5dSAyP"
      },
      "execution_count": 256,
      "outputs": []
    },
    {
      "cell_type": "code",
      "source": [
        "train_data = data[range(20000)].reshape([20000,28,28,1])\n",
        "train_labels = labels[range(20000)].reshape([20000,1])"
      ],
      "metadata": {
        "id": "B-e24WMOTQ4d"
      },
      "execution_count": 257,
      "outputs": []
    },
    {
      "cell_type": "code",
      "source": [
        "unlab_data = data[range(20000,60000)].reshape([40000,28,28,1])\n",
        "unlab_labels = labels[range(20000,60000)].reshape([40000,1])"
      ],
      "metadata": {
        "id": "EhhKskDITIEm"
      },
      "execution_count": 258,
      "outputs": []
    },
    {
      "cell_type": "code",
      "source": [
        "test_data = test_data.reshape([10000,28,28,1])\n",
        "test_labels = test_labels.reshape([10000,1])"
      ],
      "metadata": {
        "id": "W5aNLvjxVUq0"
      },
      "execution_count": 259,
      "outputs": []
    },
    {
      "cell_type": "markdown",
      "metadata": {
        "id": "Sa7KYMfrkKU5"
      },
      "source": [
        "## CNN"
      ]
    },
    {
      "cell_type": "code",
      "execution_count": 260,
      "metadata": {
        "id": "zn3v_W8wJQ68"
      },
      "outputs": [],
      "source": [
        "def PermaDropout(rate):\n",
        "    return Lambda(lambda x: K.dropout(x, level=rate))"
      ]
    },
    {
      "cell_type": "code",
      "execution_count": 261,
      "metadata": {
        "colab": {
          "base_uri": "https://localhost:8080/"
        },
        "id": "L5scE9yKkIZb",
        "outputId": "1feb5589-8003-4d6f-bcb9-10de2d6c9ee2"
      },
      "outputs": [
        {
          "output_type": "stream",
          "name": "stdout",
          "text": [
            "Epoch 1/20\n",
            "219/219 [==============================] - 4s 15ms/step - loss: 1.8003 - accuracy: 0.6882 - val_loss: 0.6811 - val_accuracy: 0.7640\n",
            "Epoch 2/20\n",
            "219/219 [==============================] - 3s 13ms/step - loss: 0.5798 - accuracy: 0.7969 - val_loss: 0.5702 - val_accuracy: 0.7935\n",
            "Epoch 3/20\n",
            "219/219 [==============================] - 3s 12ms/step - loss: 0.4958 - accuracy: 0.8213 - val_loss: 0.5419 - val_accuracy: 0.8093\n",
            "Epoch 4/20\n",
            "219/219 [==============================] - 3s 12ms/step - loss: 0.4454 - accuracy: 0.8377 - val_loss: 0.5123 - val_accuracy: 0.8168\n",
            "Epoch 5/20\n",
            "219/219 [==============================] - 3s 12ms/step - loss: 0.4117 - accuracy: 0.8468 - val_loss: 0.4998 - val_accuracy: 0.8270\n",
            "Epoch 6/20\n",
            "219/219 [==============================] - 3s 11ms/step - loss: 0.3818 - accuracy: 0.8562 - val_loss: 0.5125 - val_accuracy: 0.8332\n",
            "Epoch 7/20\n",
            "219/219 [==============================] - 3s 12ms/step - loss: 0.3645 - accuracy: 0.8660 - val_loss: 0.5029 - val_accuracy: 0.8338\n",
            "Epoch 8/20\n",
            "219/219 [==============================] - 3s 12ms/step - loss: 0.3452 - accuracy: 0.8690 - val_loss: 0.4722 - val_accuracy: 0.8373\n",
            "Epoch 9/20\n",
            "219/219 [==============================] - 3s 12ms/step - loss: 0.3315 - accuracy: 0.8719 - val_loss: 0.5332 - val_accuracy: 0.8290\n",
            "Epoch 10/20\n",
            "219/219 [==============================] - 2s 11ms/step - loss: 0.3163 - accuracy: 0.8786 - val_loss: 0.4988 - val_accuracy: 0.8392\n",
            "Epoch 11/20\n",
            "219/219 [==============================] - 3s 11ms/step - loss: 0.3034 - accuracy: 0.8861 - val_loss: 0.5110 - val_accuracy: 0.8465\n",
            "Epoch 12/20\n",
            "219/219 [==============================] - 3s 11ms/step - loss: 0.3016 - accuracy: 0.8863 - val_loss: 0.4993 - val_accuracy: 0.8428\n",
            "Epoch 13/20\n",
            "219/219 [==============================] - 3s 13ms/step - loss: 0.2883 - accuracy: 0.8910 - val_loss: 0.4975 - val_accuracy: 0.8495\n",
            "Epoch 14/20\n",
            "219/219 [==============================] - 3s 13ms/step - loss: 0.2765 - accuracy: 0.8919 - val_loss: 0.4806 - val_accuracy: 0.8528\n",
            "Epoch 15/20\n",
            "219/219 [==============================] - 3s 13ms/step - loss: 0.2614 - accuracy: 0.9024 - val_loss: 0.5174 - val_accuracy: 0.8502\n",
            "Epoch 16/20\n",
            "219/219 [==============================] - 3s 13ms/step - loss: 0.2559 - accuracy: 0.9022 - val_loss: 0.5485 - val_accuracy: 0.8480\n",
            "Epoch 17/20\n",
            "219/219 [==============================] - 3s 13ms/step - loss: 0.2535 - accuracy: 0.9047 - val_loss: 0.5082 - val_accuracy: 0.8447\n",
            "Epoch 18/20\n",
            "219/219 [==============================] - 3s 13ms/step - loss: 0.2417 - accuracy: 0.9054 - val_loss: 0.5380 - val_accuracy: 0.8503\n",
            "Epoch 19/20\n",
            "219/219 [==============================] - 3s 12ms/step - loss: 0.2458 - accuracy: 0.9056 - val_loss: 0.5028 - val_accuracy: 0.8497\n",
            "Epoch 20/20\n",
            "219/219 [==============================] - 3s 13ms/step - loss: 0.2271 - accuracy: 0.9123 - val_loss: 0.5017 - val_accuracy: 0.8498\n"
          ]
        },
        {
          "output_type": "execute_result",
          "data": {
            "text/plain": [
              "<keras.callbacks.History at 0x7f9ea4bce850>"
            ]
          },
          "metadata": {},
          "execution_count": 261
        }
      ],
      "source": [
        "#######HYPERPARAMATERS###########\n",
        "epochs = 20\n",
        "batch_size = 64\n",
        "learning_rate = 0.001\n",
        "#################################\n",
        "  \n",
        "model = Sequential()\n",
        "    \n",
        "model.add(Conv2D(32, kernel_size = (3,3), input_shape=(28,28,1), activation='relu'))\n",
        "model.add(Conv2D(64,(3,3), activation='relu'))\n",
        "model.add(MaxPooling2D(pool_size=2))\n",
        "model.add(PermaDropout(0.5))\n",
        "model.add(Flatten())\n",
        "model.add(Dense(128, activation='relu'))\n",
        "model.add(PermaDropout(0.5))\n",
        "model.add(Dense(10, activation='softmax'))\n",
        "adam = keras.optimizers.Adam(learning_rate)\n",
        "model.compile(optimizer = adam, loss = 'sparse_categorical_crossentropy', metrics = ['accuracy'])\n",
        "    \n",
        "# print(model.summary())\n",
        "\n",
        "lr_reducer = ReduceLROnPlateau(monitor='val_loss', factor=0.9, patience=3)\n",
        "early_stopper = EarlyStopping(monitor='val_accuracy', min_delta=0, patience=30, mode='auto')\n",
        "checkpointer = ModelCheckpoint('weights.hd5', monitor='val_loss', verbose=1, save_best_only=True)\n",
        "\n",
        "model.fit(\n",
        "          train_data,\n",
        "          train_labels,\n",
        "          epochs = epochs,\n",
        "          batch_size = batch_size,\n",
        "          validation_split = 0.3,\n",
        "          shuffle = True\n",
        "          )"
      ]
    },
    {
      "cell_type": "code",
      "execution_count": 262,
      "metadata": {
        "id": "LVOc3hYIkXrl"
      },
      "outputs": [],
      "source": [
        "model.save('/content/drive/MyDrive/파이썬스터디 프로젝트/labeling_cnn.h5')"
      ]
    },
    {
      "cell_type": "code",
      "execution_count": 263,
      "metadata": {
        "id": "n5D8i_BCkdjS"
      },
      "outputs": [],
      "source": [
        "model = keras.models.load_model('/content/drive/MyDrive/파이썬스터디 프로젝트/labeling_cnn.h5')"
      ]
    },
    {
      "cell_type": "markdown",
      "metadata": {
        "id": "TD8ppILhFUrz"
      },
      "source": [
        "## 모델 결과"
      ]
    },
    {
      "cell_type": "code",
      "execution_count": 264,
      "metadata": {
        "id": "7Ljx2EWA2v2n"
      },
      "outputs": [],
      "source": [
        "def model_eval():\n",
        "  pred_mu = model.predict(test_data)\n",
        "  for i in range(1, 30):\n",
        "    pred_mu += model.predict(test_data)\n",
        "  pred_mu = pred_mu/30\n",
        "  predicted_test_labels = np.argmax(pred_mu, axis=1)\n",
        "  return(accuracy_score(test_labels, predicted_test_labels))"
      ]
    },
    {
      "cell_type": "code",
      "execution_count": 265,
      "metadata": {
        "id": "OzhQw9NOWjl3",
        "colab": {
          "base_uri": "https://localhost:8080/"
        },
        "outputId": "6bd310c6-9990-42ff-8d0d-f7733b3c858f"
      },
      "outputs": [
        {
          "output_type": "execute_result",
          "data": {
            "text/plain": [
              "0.8907"
            ]
          },
          "metadata": {},
          "execution_count": 265
        }
      ],
      "source": [
        "model = keras.models.load_model('/content/drive/MyDrive/파이썬스터디 프로젝트/labeling_cnn.h5')\n",
        "model_eval() #0.89xx"
      ]
    },
    {
      "cell_type": "markdown",
      "source": [
        "# 라벨링"
      ],
      "metadata": {
        "id": "rcbs04885lTu"
      }
    },
    {
      "cell_type": "markdown",
      "source": [
        "## 라벨링; 1"
      ],
      "metadata": {
        "id": "mAtfoQKLZDJC"
      }
    },
    {
      "cell_type": "code",
      "source": [
        "model = keras.models.load_model('/content/drive/MyDrive/파이썬스터디 프로젝트/labeling_cnn.h5')"
      ],
      "metadata": {
        "id": "GKJgmFGWhlfl"
      },
      "execution_count": 266,
      "outputs": []
    },
    {
      "cell_type": "code",
      "source": [
        "# Vars : 분산들\n",
        "# Outs : 결과 값들\n",
        "\n",
        "Vars = []\n",
        "Outs = []\n",
        "\n",
        "temp1 = []\n",
        "\n",
        "for i in tqdm(range(30)):\n",
        "  temp1.append(model.predict(unlab_data))\n",
        "\n",
        "for j in tqdm(range(unlab_data.shape[0])):\n",
        "\n",
        "  temp2 = np.array([0,0,0,0,0,0,0,0,0,0], 'float32')\n",
        "  \n",
        "  for i in range(30):\n",
        "    temp2 += temp1[i][j]\n",
        "  Outs.append(np.argmax(temp2))\n",
        "  \n",
        "  outputs=[]\n",
        "\n",
        "  for i in range(30):\n",
        "    outputs.append(temp1[i][j][np.argmax(temp2)])\n",
        "  Vars.append(np.var(outputs))"
      ],
      "metadata": {
        "colab": {
          "base_uri": "https://localhost:8080/"
        },
        "id": "J_Jb5VX9ZC3y",
        "outputId": "a0f43caf-1a9c-46ce-be72-d75211dab3cc"
      },
      "execution_count": 267,
      "outputs": [
        {
          "output_type": "stream",
          "name": "stderr",
          "text": [
            "100%|██████████| 30/30 [02:04<00:00,  4.14s/it]\n",
            "100%|██████████| 40000/40000 [00:07<00:00, 5478.92it/s]\n"
          ]
        }
      ]
    },
    {
      "cell_type": "code",
      "source": [
        "lowvars = []\n",
        "ind = 0 \n",
        "\n",
        "for i in Vars:\n",
        "  if i < 1e-5:\n",
        "    lowvars.append(ind)\n",
        "  ind += 1"
      ],
      "metadata": {
        "id": "6BUHoKvtkJ37"
      },
      "execution_count": 268,
      "outputs": []
    },
    {
      "cell_type": "code",
      "source": [
        "highvars = []\n",
        "for i in range(unlab_data.shape[0]):\n",
        "  if i not in lowvars:\n",
        "    highvars.append(i)"
      ],
      "metadata": {
        "id": "9WhEDezq362P"
      },
      "execution_count": 269,
      "outputs": []
    },
    {
      "cell_type": "code",
      "source": [
        "# 같은 길이의 랜덤하게 고른 data들에 모델로 label 부여 후 정확도 측정 : 0.90x\n",
        "randomindx = random.sample(range(40000), len(lowvars))\n",
        "accuracy_score(np.array(Outs)[randomindx], unlab_labels[randomindx])"
      ],
      "metadata": {
        "colab": {
          "base_uri": "https://localhost:8080/"
        },
        "id": "0uSdhE1VmF5a",
        "outputId": "b82d30b5-80ff-4602-b3f9-2d5a7fbe4860"
      },
      "execution_count": 270,
      "outputs": [
        {
          "output_type": "execute_result",
          "data": {
            "text/plain": [
              "0.8907412920512057"
            ]
          },
          "metadata": {},
          "execution_count": 270
        }
      ]
    },
    {
      "cell_type": "code",
      "source": [
        "# 저분산의 data들만 모아서 모델로 label 부여 후 정확도 측정 : 0.99x\n",
        "accuracy_score(np.array(Outs)[lowvars], unlab_labels[lowvars])"
      ],
      "metadata": {
        "colab": {
          "base_uri": "https://localhost:8080/"
        },
        "id": "gtEPD5p5kM-z",
        "outputId": "7ad4e7b5-6809-4e7e-96c5-2c8859bf52a1"
      },
      "execution_count": 271,
      "outputs": [
        {
          "output_type": "execute_result",
          "data": {
            "text/plain": [
              "0.9993053488141312"
            ]
          },
          "metadata": {},
          "execution_count": 271
        }
      ]
    },
    {
      "cell_type": "code",
      "source": [
        "train_data = np.concatenate([train_data, unlab_data[lowvars]], axis=0)\n",
        "train_labels = np.concatenate([train_labels, unlab_labels[lowvars]], axis=0)"
      ],
      "metadata": {
        "id": "C2ab4GUWwe30"
      },
      "execution_count": 272,
      "outputs": []
    },
    {
      "cell_type": "code",
      "source": [
        "shufindx = random.sample(range(train_data.shape[0]),train_data.shape[0])\n",
        "train_data = train_data[shufindx]\n",
        "train_labels = train_labels[shufindx]"
      ],
      "metadata": {
        "id": "1xahhoBY8mKc"
      },
      "execution_count": 273,
      "outputs": []
    },
    {
      "cell_type": "code",
      "source": [
        "unlab_data = unlab_data[highvars]\n",
        "unlab_labels = unlab_labels[highvars]"
      ],
      "metadata": {
        "id": "_t9J8vlJ5TDO"
      },
      "execution_count": 274,
      "outputs": []
    },
    {
      "cell_type": "markdown",
      "source": [
        "## 모델링; 1"
      ],
      "metadata": {
        "id": "bOtFA9fr5oDF"
      }
    },
    {
      "cell_type": "code",
      "execution_count": 275,
      "metadata": {
        "id": "m7Pd9SYK5tv_"
      },
      "outputs": [],
      "source": [
        "def PermaDropout(rate):\n",
        "    return Lambda(lambda x: K.dropout(x, level=rate))"
      ]
    },
    {
      "cell_type": "code",
      "execution_count": 276,
      "metadata": {
        "colab": {
          "base_uri": "https://localhost:8080/"
        },
        "outputId": "9e365f75-037a-49fd-b124-b8850f482f6e",
        "id": "W6WgyM3Y5twA"
      },
      "outputs": [
        {
          "output_type": "stream",
          "name": "stdout",
          "text": [
            "Epoch 1/20\n",
            "329/329 [==============================] - 5s 12ms/step - loss: 1.2070 - accuracy: 0.7763 - val_loss: 0.4562 - val_accuracy: 0.8395\n",
            "Epoch 2/20\n",
            "329/329 [==============================] - 4s 12ms/step - loss: 0.4084 - accuracy: 0.8579 - val_loss: 0.3927 - val_accuracy: 0.8595\n",
            "Epoch 3/20\n",
            "329/329 [==============================] - 4s 11ms/step - loss: 0.3484 - accuracy: 0.8734 - val_loss: 0.3650 - val_accuracy: 0.8713\n",
            "Epoch 4/20\n",
            "329/329 [==============================] - 4s 11ms/step - loss: 0.3184 - accuracy: 0.8831 - val_loss: 0.3615 - val_accuracy: 0.8753\n",
            "Epoch 5/20\n",
            "329/329 [==============================] - 4s 11ms/step - loss: 0.2879 - accuracy: 0.8965 - val_loss: 0.3254 - val_accuracy: 0.8838\n",
            "Epoch 6/20\n",
            "329/329 [==============================] - 4s 12ms/step - loss: 0.2659 - accuracy: 0.9025 - val_loss: 0.3236 - val_accuracy: 0.8880\n",
            "Epoch 7/20\n",
            "329/329 [==============================] - 4s 12ms/step - loss: 0.2531 - accuracy: 0.9050 - val_loss: 0.3169 - val_accuracy: 0.8935\n",
            "Epoch 8/20\n",
            "329/329 [==============================] - 4s 11ms/step - loss: 0.2378 - accuracy: 0.9100 - val_loss: 0.2866 - val_accuracy: 0.8988\n",
            "Epoch 9/20\n",
            "329/329 [==============================] - 4s 11ms/step - loss: 0.2319 - accuracy: 0.9144 - val_loss: 0.3302 - val_accuracy: 0.8863\n",
            "Epoch 10/20\n",
            "329/329 [==============================] - 4s 12ms/step - loss: 0.2246 - accuracy: 0.9162 - val_loss: 0.3375 - val_accuracy: 0.8920\n",
            "Epoch 11/20\n",
            "329/329 [==============================] - 4s 11ms/step - loss: 0.2142 - accuracy: 0.9204 - val_loss: 0.3087 - val_accuracy: 0.8997\n",
            "Epoch 12/20\n",
            "329/329 [==============================] - 4s 12ms/step - loss: 0.2091 - accuracy: 0.9216 - val_loss: 0.3285 - val_accuracy: 0.8954\n",
            "Epoch 13/20\n",
            "329/329 [==============================] - 4s 11ms/step - loss: 0.2016 - accuracy: 0.9237 - val_loss: 0.3159 - val_accuracy: 0.8956\n",
            "Epoch 14/20\n",
            "329/329 [==============================] - 4s 12ms/step - loss: 0.1961 - accuracy: 0.9284 - val_loss: 0.3285 - val_accuracy: 0.8977\n",
            "Epoch 15/20\n",
            "329/329 [==============================] - 4s 12ms/step - loss: 0.1879 - accuracy: 0.9285 - val_loss: 0.3145 - val_accuracy: 0.9035\n",
            "Epoch 16/20\n",
            "329/329 [==============================] - 4s 11ms/step - loss: 0.1785 - accuracy: 0.9319 - val_loss: 0.3457 - val_accuracy: 0.8990\n",
            "Epoch 17/20\n",
            "329/329 [==============================] - 4s 12ms/step - loss: 0.1782 - accuracy: 0.9318 - val_loss: 0.3210 - val_accuracy: 0.9029\n",
            "Epoch 18/20\n",
            "329/329 [==============================] - 4s 12ms/step - loss: 0.1706 - accuracy: 0.9364 - val_loss: 0.3218 - val_accuracy: 0.9026\n",
            "Epoch 19/20\n",
            "329/329 [==============================] - 4s 12ms/step - loss: 0.1729 - accuracy: 0.9336 - val_loss: 0.3171 - val_accuracy: 0.9039\n",
            "Epoch 20/20\n",
            "329/329 [==============================] - 4s 11ms/step - loss: 0.1627 - accuracy: 0.9395 - val_loss: 0.3293 - val_accuracy: 0.9061\n"
          ]
        },
        {
          "output_type": "execute_result",
          "data": {
            "text/plain": [
              "<keras.callbacks.History at 0x7f9ea495efd0>"
            ]
          },
          "metadata": {},
          "execution_count": 276
        }
      ],
      "source": [
        "#######HYPERPARAMATERS###########\n",
        "epochs = 20\n",
        "batch_size = 64\n",
        "learning_rate = 0.001\n",
        "#################################\n",
        "  \n",
        "model = Sequential()\n",
        "    \n",
        "model.add(Conv2D(32, kernel_size = (3,3), input_shape=(28,28,1), activation='relu'))\n",
        "model.add(Conv2D(64,(3,3), activation='relu'))\n",
        "model.add(MaxPooling2D(pool_size=2))\n",
        "model.add(PermaDropout(0.5))\n",
        "model.add(Flatten())\n",
        "model.add(Dense(128, activation='relu'))\n",
        "model.add(PermaDropout(0.5))\n",
        "model.add(Dense(10, activation='softmax'))\n",
        "adam = keras.optimizers.Adam(learning_rate)\n",
        "model.compile(optimizer = adam, loss = 'sparse_categorical_crossentropy', metrics = ['accuracy'])\n",
        "    \n",
        "# print(model.summary())\n",
        "\n",
        "lr_reducer = ReduceLROnPlateau(monitor='val_loss', factor=0.9, patience=3)\n",
        "early_stopper = EarlyStopping(monitor='val_accuracy', min_delta=0, patience=30, mode='auto')\n",
        "checkpointer = ModelCheckpoint('weights.hd5', monitor='val_loss', verbose=1, save_best_only=True)\n",
        "\n",
        "model.fit(\n",
        "          train_data,\n",
        "          train_labels,\n",
        "          epochs = epochs,\n",
        "          batch_size = batch_size,\n",
        "          validation_split = 0.3,\n",
        "          shuffle = True\n",
        "          )"
      ]
    },
    {
      "cell_type": "code",
      "execution_count": 277,
      "metadata": {
        "id": "9_zB1OL252B3"
      },
      "outputs": [],
      "source": [
        "model.save('/content/drive/MyDrive/파이썬스터디 프로젝트/labeling_cnn2.h5')"
      ]
    },
    {
      "cell_type": "code",
      "execution_count": 278,
      "metadata": {
        "colab": {
          "base_uri": "https://localhost:8080/"
        },
        "id": "BbEZKkhn52B4",
        "outputId": "05697774-6df1-45ba-afb3-5eaac16543fd"
      },
      "outputs": [
        {
          "output_type": "execute_result",
          "data": {
            "text/plain": [
              "0.8856"
            ]
          },
          "metadata": {},
          "execution_count": 278
        }
      ],
      "source": [
        "model = keras.models.load_model('/content/drive/MyDrive/파이썬스터디 프로젝트/labeling_cnn2.h5')\n",
        "model_eval() #0.89xx"
      ]
    },
    {
      "cell_type": "markdown",
      "source": [
        "## 라벨링; 2"
      ],
      "metadata": {
        "id": "-7sEYnhC6Atv"
      }
    },
    {
      "cell_type": "code",
      "source": [
        "model = keras.models.load_model('/content/drive/MyDrive/파이썬스터디 프로젝트/labeling_cnn2.h5')"
      ],
      "metadata": {
        "id": "cbBFrnmf6HK1"
      },
      "execution_count": 279,
      "outputs": []
    },
    {
      "cell_type": "code",
      "source": [
        "# Vars : 분산들\n",
        "# Outs : 결과 값들\n",
        "\n",
        "Vars = []\n",
        "Outs = []\n",
        "\n",
        "temp1 = []\n",
        "\n",
        "for i in tqdm(range(30)):\n",
        "  temp1.append(model.predict(unlab_data))\n",
        "\n",
        "for j in tqdm(range(unlab_data.shape[0])):\n",
        "\n",
        "  temp2 = np.array([0,0,0,0,0,0,0,0,0,0], 'float32')\n",
        "  \n",
        "  for i in range(30):\n",
        "    temp2 += temp1[i][j]\n",
        "  Outs.append(np.argmax(temp2))\n",
        "  \n",
        "  outputs=[]\n",
        "\n",
        "  for i in range(30):\n",
        "    outputs.append(temp1[i][j][np.argmax(temp2)])\n",
        "  Vars.append(np.var(outputs))"
      ],
      "metadata": {
        "colab": {
          "base_uri": "https://localhost:8080/"
        },
        "outputId": "6fed7c31-95e6-4267-e5ba-0c870e59b2d4",
        "id": "XZq8Vqzp6Atw"
      },
      "execution_count": 280,
      "outputs": [
        {
          "output_type": "stream",
          "name": "stderr",
          "text": [
            "100%|██████████| 30/30 [01:34<00:00,  3.15s/it]\n",
            "100%|██████████| 29923/29923 [00:05<00:00, 5330.33it/s]\n"
          ]
        }
      ]
    },
    {
      "cell_type": "code",
      "source": [
        "lowvars = []\n",
        "ind = 0 \n",
        "\n",
        "for i in Vars:\n",
        "  if i < 1e-5:\n",
        "    lowvars.append(ind)\n",
        "  ind += 1"
      ],
      "metadata": {
        "id": "n-3ZaAyf6Atw"
      },
      "execution_count": 281,
      "outputs": []
    },
    {
      "cell_type": "code",
      "source": [
        "highvars = []\n",
        "for i in range(unlab_data.shape[0]):\n",
        "  if i not in lowvars:\n",
        "    highvars.append(i)"
      ],
      "metadata": {
        "id": "AktvADTC6Atw"
      },
      "execution_count": 282,
      "outputs": []
    },
    {
      "cell_type": "code",
      "source": [
        "# 같은 길이의 랜덤하게 고른 data들에 모델로 label 부여 후 정확도 측정 : 0.90x\n",
        "randomindx = random.sample(range(unlab_data.shape[0]), len(lowvars))\n",
        "accuracy_score(np.array(Outs)[randomindx], unlab_labels[randomindx])"
      ],
      "metadata": {
        "colab": {
          "base_uri": "https://localhost:8080/"
        },
        "outputId": "5d0f5808-fefb-45ab-9a90-55bda399296f",
        "id": "-4aT-T6v6Atw"
      },
      "execution_count": 283,
      "outputs": [
        {
          "output_type": "execute_result",
          "data": {
            "text/plain": [
              "0.8642512077294686"
            ]
          },
          "metadata": {},
          "execution_count": 283
        }
      ]
    },
    {
      "cell_type": "code",
      "source": [
        "# 저분산의 data들만 모아서 모델로 label 부여 후 정확도 측정 : 0.99x\n",
        "accuracy_score(np.array(Outs)[lowvars], unlab_labels[lowvars])"
      ],
      "metadata": {
        "colab": {
          "base_uri": "https://localhost:8080/"
        },
        "outputId": "35d00cfa-a2a2-4166-9a99-c5f9f105a40b",
        "id": "I5VxbIN06Atx"
      },
      "execution_count": 284,
      "outputs": [
        {
          "output_type": "execute_result",
          "data": {
            "text/plain": [
              "0.998792270531401"
            ]
          },
          "metadata": {},
          "execution_count": 284
        }
      ]
    },
    {
      "cell_type": "code",
      "source": [
        "len(highvars)"
      ],
      "metadata": {
        "colab": {
          "base_uri": "https://localhost:8080/"
        },
        "id": "B6dXUNvLGrtm",
        "outputId": "24ad1fa2-b5b0-461f-8318-1e1f14fc6189"
      },
      "execution_count": 285,
      "outputs": [
        {
          "output_type": "execute_result",
          "data": {
            "text/plain": [
              "25783"
            ]
          },
          "metadata": {},
          "execution_count": 285
        }
      ]
    },
    {
      "cell_type": "code",
      "source": [
        "train_data = np.concatenate([train_data, unlab_data[lowvars]], axis=0)\n",
        "train_labels = np.concatenate([train_labels, unlab_labels[lowvars]], axis=0)"
      ],
      "metadata": {
        "id": "PnHPyri56Atx"
      },
      "execution_count": 286,
      "outputs": []
    },
    {
      "cell_type": "code",
      "source": [
        "unlab_data = unlab_data[highvars]\n",
        "unlab_labels = unlab_labels[highvars]"
      ],
      "metadata": {
        "id": "ksAWGKR_6Atx"
      },
      "execution_count": 287,
      "outputs": []
    },
    {
      "cell_type": "code",
      "source": [
        "shufindx = random.sample(range(train_data.shape[0]),train_data.shape[0])\n",
        "train_data = train_data[shufindx]\n",
        "train_labels = train_labels[shufindx]"
      ],
      "metadata": {
        "id": "AKvBV82uHDAG"
      },
      "execution_count": 288,
      "outputs": []
    },
    {
      "cell_type": "code",
      "source": [
        "unlab_data.shape"
      ],
      "metadata": {
        "colab": {
          "base_uri": "https://localhost:8080/"
        },
        "id": "yB4MIl2HHHJl",
        "outputId": "43743ab7-bc12-49cb-f17d-1751eaaa6f6a"
      },
      "execution_count": 289,
      "outputs": [
        {
          "output_type": "execute_result",
          "data": {
            "text/plain": [
              "(25783, 28, 28, 1)"
            ]
          },
          "metadata": {},
          "execution_count": 289
        }
      ]
    },
    {
      "cell_type": "markdown",
      "source": [
        "## 모델링; 2"
      ],
      "metadata": {
        "id": "B7c7xj4mHcS_"
      }
    },
    {
      "cell_type": "code",
      "execution_count": 290,
      "metadata": {
        "id": "pR3A-YR3HcTB"
      },
      "outputs": [],
      "source": [
        "def PermaDropout(rate):\n",
        "    return Lambda(lambda x: K.dropout(x, level=rate))"
      ]
    },
    {
      "cell_type": "code",
      "execution_count": 291,
      "metadata": {
        "colab": {
          "base_uri": "https://localhost:8080/"
        },
        "outputId": "651810e6-1215-4042-db75-1f3ba1453f4b",
        "id": "vEVSIZwjHcTB"
      },
      "outputs": [
        {
          "output_type": "stream",
          "name": "stdout",
          "text": [
            "Epoch 1/20\n",
            "375/375 [==============================] - 5s 12ms/step - loss: 1.2771 - accuracy: 0.8043 - val_loss: 0.3862 - val_accuracy: 0.8641\n",
            "Epoch 2/20\n",
            "375/375 [==============================] - 4s 11ms/step - loss: 0.3550 - accuracy: 0.8770 - val_loss: 0.3648 - val_accuracy: 0.8788\n",
            "Epoch 3/20\n",
            "375/375 [==============================] - 4s 11ms/step - loss: 0.3170 - accuracy: 0.8881 - val_loss: 0.3155 - val_accuracy: 0.8868\n",
            "Epoch 4/20\n",
            "375/375 [==============================] - 4s 11ms/step - loss: 0.2870 - accuracy: 0.8971 - val_loss: 0.3269 - val_accuracy: 0.8920\n",
            "Epoch 5/20\n",
            "375/375 [==============================] - 5s 13ms/step - loss: 0.2666 - accuracy: 0.9023 - val_loss: 0.3088 - val_accuracy: 0.8916\n",
            "Epoch 6/20\n",
            "375/375 [==============================] - 5s 13ms/step - loss: 0.2466 - accuracy: 0.9094 - val_loss: 0.2842 - val_accuracy: 0.9023\n",
            "Epoch 7/20\n",
            "375/375 [==============================] - 5s 13ms/step - loss: 0.2372 - accuracy: 0.9139 - val_loss: 0.2835 - val_accuracy: 0.9031\n",
            "Epoch 8/20\n",
            "375/375 [==============================] - 5s 13ms/step - loss: 0.2242 - accuracy: 0.9153 - val_loss: 0.3003 - val_accuracy: 0.9024\n",
            "Epoch 9/20\n",
            "375/375 [==============================] - 5s 13ms/step - loss: 0.2131 - accuracy: 0.9199 - val_loss: 0.2733 - val_accuracy: 0.9089\n",
            "Epoch 10/20\n",
            "375/375 [==============================] - 5s 13ms/step - loss: 0.2015 - accuracy: 0.9248 - val_loss: 0.2822 - val_accuracy: 0.9075\n",
            "Epoch 11/20\n",
            "375/375 [==============================] - 4s 11ms/step - loss: 0.1971 - accuracy: 0.9249 - val_loss: 0.2793 - val_accuracy: 0.9066\n",
            "Epoch 12/20\n",
            "375/375 [==============================] - 4s 11ms/step - loss: 0.1932 - accuracy: 0.9260 - val_loss: 0.2989 - val_accuracy: 0.9054\n",
            "Epoch 13/20\n",
            "375/375 [==============================] - 4s 11ms/step - loss: 0.1861 - accuracy: 0.9296 - val_loss: 0.2859 - val_accuracy: 0.9142\n",
            "Epoch 14/20\n",
            "375/375 [==============================] - 4s 11ms/step - loss: 0.1770 - accuracy: 0.9343 - val_loss: 0.3125 - val_accuracy: 0.9072\n",
            "Epoch 15/20\n",
            "375/375 [==============================] - 4s 11ms/step - loss: 0.1734 - accuracy: 0.9345 - val_loss: 0.2861 - val_accuracy: 0.9094\n",
            "Epoch 16/20\n",
            "375/375 [==============================] - 4s 11ms/step - loss: 0.1725 - accuracy: 0.9375 - val_loss: 0.2867 - val_accuracy: 0.9128\n",
            "Epoch 17/20\n",
            "375/375 [==============================] - 4s 11ms/step - loss: 0.1691 - accuracy: 0.9362 - val_loss: 0.3054 - val_accuracy: 0.9103\n",
            "Epoch 18/20\n",
            "375/375 [==============================] - 5s 13ms/step - loss: 0.1622 - accuracy: 0.9403 - val_loss: 0.2893 - val_accuracy: 0.9121\n",
            "Epoch 19/20\n",
            "375/375 [==============================] - 5s 13ms/step - loss: 0.1591 - accuracy: 0.9414 - val_loss: 0.2949 - val_accuracy: 0.9144\n",
            "Epoch 20/20\n",
            "375/375 [==============================] - 4s 11ms/step - loss: 0.1565 - accuracy: 0.9421 - val_loss: 0.2810 - val_accuracy: 0.9109\n"
          ]
        },
        {
          "output_type": "execute_result",
          "data": {
            "text/plain": [
              "<keras.callbacks.History at 0x7f9ea6df21d0>"
            ]
          },
          "metadata": {},
          "execution_count": 291
        }
      ],
      "source": [
        "#######HYPERPARAMATERS###########\n",
        "epochs = 20\n",
        "batch_size = 64\n",
        "learning_rate = 0.001\n",
        "#################################\n",
        "  \n",
        "model = Sequential()\n",
        "    \n",
        "model.add(Conv2D(32, kernel_size = (3,3), input_shape=(28,28,1), activation='relu'))\n",
        "model.add(Conv2D(64,(3,3), activation='relu'))\n",
        "model.add(MaxPooling2D(pool_size=2))\n",
        "model.add(PermaDropout(0.5))\n",
        "model.add(Flatten())\n",
        "model.add(Dense(128, activation='relu'))\n",
        "model.add(PermaDropout(0.5))\n",
        "model.add(Dense(10, activation='softmax'))\n",
        "adam = keras.optimizers.Adam(learning_rate)\n",
        "model.compile(optimizer = adam, loss = 'sparse_categorical_crossentropy', metrics = ['accuracy'])\n",
        "    \n",
        "# print(model.summary())\n",
        "\n",
        "lr_reducer = ReduceLROnPlateau(monitor='val_loss', factor=0.9, patience=3)\n",
        "early_stopper = EarlyStopping(monitor='val_accuracy', min_delta=0, patience=30, mode='auto')\n",
        "checkpointer = ModelCheckpoint('weights.hd5', monitor='val_loss', verbose=1, save_best_only=True)\n",
        "\n",
        "model.fit(\n",
        "          train_data,\n",
        "          train_labels,\n",
        "          epochs = epochs,\n",
        "          batch_size = batch_size,\n",
        "          validation_split = 0.3,\n",
        "          shuffle = True\n",
        "          )"
      ]
    },
    {
      "cell_type": "code",
      "execution_count": 292,
      "metadata": {
        "id": "Kx6_dX_0HcTB"
      },
      "outputs": [],
      "source": [
        "model.save('/content/drive/MyDrive/파이썬스터디 프로젝트/labeling_cnn3.h5')"
      ]
    },
    {
      "cell_type": "code",
      "execution_count": 293,
      "metadata": {
        "colab": {
          "base_uri": "https://localhost:8080/"
        },
        "outputId": "a269a70c-c14b-4a48-919c-94464c043bee",
        "id": "7pZtl6HBHcTB"
      },
      "outputs": [
        {
          "output_type": "execute_result",
          "data": {
            "text/plain": [
              "0.8817"
            ]
          },
          "metadata": {},
          "execution_count": 293
        }
      ],
      "source": [
        "model = keras.models.load_model('/content/drive/MyDrive/파이썬스터디 프로젝트/labeling_cnn3.h5')\n",
        "model_eval() #0.89xx"
      ]
    },
    {
      "cell_type": "code",
      "source": [
        ""
      ],
      "metadata": {
        "id": "BOMPGSiXHhbN"
      },
      "execution_count": 293,
      "outputs": []
    }
  ],
  "metadata": {
    "accelerator": "GPU",
    "colab": {
      "name": "uncertainty 기반 labeling.ipynb",
      "provenance": [],
      "collapsed_sections": [],
      "authorship_tag": "ABX9TyPaCs8lcEnG9dw5mv5UV0hO",
      "include_colab_link": true
    },
    "kernelspec": {
      "display_name": "Python 3",
      "name": "python3"
    },
    "language_info": {
      "name": "python"
    }
  },
  "nbformat": 4,
  "nbformat_minor": 0
}