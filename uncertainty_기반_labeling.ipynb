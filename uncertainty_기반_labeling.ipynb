{
  "cells": [
    {
      "cell_type": "markdown",
      "metadata": {
        "id": "view-in-github",
        "colab_type": "text"
      },
      "source": [
        "<a href=\"https://colab.research.google.com/github/YianKim/2022_PythonStudy_face_emotion_recognition/blob/main/uncertainty_%EA%B8%B0%EB%B0%98_labeling.ipynb\" target=\"_parent\"><img src=\"https://colab.research.google.com/assets/colab-badge.svg\" alt=\"Open In Colab\"/></a>"
      ]
    },
    {
      "cell_type": "markdown",
      "metadata": {
        "id": "5FQpjWg4Ld6m"
      },
      "source": [
        "## 구글 드라이브\n"
      ]
    },
    {
      "cell_type": "code",
      "execution_count": 1,
      "metadata": {
        "colab": {
          "base_uri": "https://localhost:8080/"
        },
        "id": "SyTEuhg7fR9P",
        "outputId": "88bd280e-d48a-4285-86d1-7f75240a9209"
      },
      "outputs": [
        {
          "output_type": "stream",
          "name": "stdout",
          "text": [
            "Mounted at /content/drive\n"
          ]
        }
      ],
      "source": [
        "from google.colab import drive\n",
        "drive.mount('/content/drive')"
      ]
    },
    {
      "cell_type": "markdown",
      "metadata": {
        "id": "UQy7KUb6NBs-"
      },
      "source": [
        "## 라이브러리 불러오기\n"
      ]
    },
    {
      "cell_type": "code",
      "execution_count": 2,
      "metadata": {
        "id": "XRPQRtXGmm2W"
      },
      "outputs": [],
      "source": [
        "%matplotlib inline\n",
        "import matplotlib.pyplot as plt\n",
        "from tensorflow import keras\n",
        "import numpy as np\n",
        "from tensorflow.keras.utils import to_categorical\n",
        "from sklearn.model_selection import train_test_split\n",
        "\n",
        "import PIL\n",
        "import pickle\n",
        "import random\n",
        "from tqdm import tqdm\n",
        "from collections import Counter\n",
        "\n",
        "from keras.layers.core import Lambda\n",
        "from keras import backend as K\n",
        "\n",
        "from keras.models import Sequential\n",
        "from keras.layers import Conv2D\n",
        "from keras.layers import BatchNormalization\n",
        "from keras.regularizers import l2\n",
        "from keras.layers import Activation\n",
        "from keras.layers import Dropout\n",
        "from keras.layers import MaxPooling2D\n",
        "from keras.layers import Flatten\n",
        "from keras.layers import Dense\n",
        "from keras.layers import Reshape\n",
        "from keras.layers import LSTM\n",
        "from keras import optimizers\n",
        "from keras.callbacks import ReduceLROnPlateau, EarlyStopping, TensorBoard, ModelCheckpoint\n",
        "from sklearn.metrics import *\n",
        "from keras.models import load_model\n",
        "\n",
        "from tqdm import tqdm"
      ]
    },
    {
      "cell_type": "markdown",
      "metadata": {
        "id": "xpAjYytuPDaU"
      },
      "source": [
        "## 데이터 불러오기\n"
      ]
    },
    {
      "cell_type": "code",
      "execution_count": 3,
      "metadata": {
        "id": "e6b1qO5dSAyP",
        "colab": {
          "base_uri": "https://localhost:8080/"
        },
        "outputId": "33cab00d-5500-4dcb-fa2d-558c8a51130d"
      },
      "outputs": [
        {
          "output_type": "stream",
          "name": "stdout",
          "text": [
            "Downloading data from https://storage.googleapis.com/tensorflow/tf-keras-datasets/train-labels-idx1-ubyte.gz\n",
            "32768/29515 [=================================] - 0s 0us/step\n",
            "40960/29515 [=========================================] - 0s 0us/step\n",
            "Downloading data from https://storage.googleapis.com/tensorflow/tf-keras-datasets/train-images-idx3-ubyte.gz\n",
            "26427392/26421880 [==============================] - 0s 0us/step\n",
            "26435584/26421880 [==============================] - 0s 0us/step\n",
            "Downloading data from https://storage.googleapis.com/tensorflow/tf-keras-datasets/t10k-labels-idx1-ubyte.gz\n",
            "16384/5148 [===============================================================================================] - 0s 0us/step\n",
            "Downloading data from https://storage.googleapis.com/tensorflow/tf-keras-datasets/t10k-images-idx3-ubyte.gz\n",
            "4423680/4422102 [==============================] - 0s 0us/step\n",
            "4431872/4422102 [==============================] - 0s 0us/step\n"
          ]
        }
      ],
      "source": [
        "fashion_mnist = keras.datasets.fashion_mnist\n",
        "(data, labels), (test_data, test_labels) = fashion_mnist.load_data()"
      ]
    },
    {
      "cell_type": "code",
      "execution_count": 4,
      "metadata": {
        "id": "B-e24WMOTQ4d"
      },
      "outputs": [],
      "source": [
        "train_data = data[range(20000)].reshape([20000,28,28,1])\n",
        "train_labels = labels[range(20000)].reshape([20000,1])"
      ]
    },
    {
      "cell_type": "code",
      "execution_count": 5,
      "metadata": {
        "id": "EhhKskDITIEm"
      },
      "outputs": [],
      "source": [
        "unlab_data = data[range(20000,60000)].reshape([40000,28,28,1])\n",
        "unlab_labels = labels[range(20000,60000)].reshape([40000,1])"
      ]
    },
    {
      "cell_type": "code",
      "execution_count": 6,
      "metadata": {
        "id": "W5aNLvjxVUq0"
      },
      "outputs": [],
      "source": [
        "test_data = test_data.reshape([10000,28,28,1])\n",
        "test_labels = test_labels.reshape([10000,1])"
      ]
    },
    {
      "cell_type": "code",
      "execution_count": 7,
      "metadata": {
        "id": "2K2wXxMmUxRV"
      },
      "outputs": [],
      "source": [
        "train_labels2 = []\n",
        "unlab_labels2 = []\n",
        "test_labels2 = []"
      ]
    },
    {
      "cell_type": "code",
      "execution_count": 8,
      "metadata": {
        "id": "8c9LL8JVThd-"
      },
      "outputs": [],
      "source": [
        "for i in range(20000):\n",
        "  white = [0,0,0,0,0,0,0,0,0,0]\n",
        "  white[train_labels[i][0]] = 1\n",
        "  train_labels2.append(white)\n",
        "\n",
        "for i in range(40000):\n",
        "  white = [0,0,0,0,0,0,0,0,0,0]\n",
        "  white[unlab_labels[i][0]] = 1\n",
        "  unlab_labels2.append(white)\n",
        "\n",
        "for i in range(10000):\n",
        "  white = [0,0,0,0,0,0,0,0,0,0]\n",
        "  white[test_labels[i][0]] = 1\n",
        "  test_labels2.append(white)"
      ]
    },
    {
      "cell_type": "code",
      "execution_count": 9,
      "metadata": {
        "id": "iULFrchUU5nt"
      },
      "outputs": [],
      "source": [
        "train_labels = np.array(train_labels2)\n",
        "unlab_labels = np.array(unlab_labels2)\n",
        "test_labels = np.array(test_labels2)"
      ]
    },
    {
      "cell_type": "markdown",
      "metadata": {
        "id": "Sa7KYMfrkKU5"
      },
      "source": [
        "## CNN"
      ]
    },
    {
      "cell_type": "code",
      "execution_count": 10,
      "metadata": {
        "id": "zn3v_W8wJQ68"
      },
      "outputs": [],
      "source": [
        "def PermaDropout(rate):\n",
        "    return Lambda(lambda x: K.dropout(x, level=rate))"
      ]
    },
    {
      "cell_type": "code",
      "execution_count": 11,
      "metadata": {
        "colab": {
          "base_uri": "https://localhost:8080/"
        },
        "id": "L5scE9yKkIZb",
        "outputId": "9abf3757-d4bf-4c46-b62d-20e8e61bb11a"
      },
      "outputs": [
        {
          "output_type": "stream",
          "name": "stdout",
          "text": [
            "Epoch 1/20\n",
            "219/219 [==============================] - 11s 8ms/step - loss: 1.7825 - accuracy: 0.6824 - val_loss: 0.6651 - val_accuracy: 0.7638\n",
            "Epoch 2/20\n",
            "219/219 [==============================] - 1s 6ms/step - loss: 0.5724 - accuracy: 0.7984 - val_loss: 0.5872 - val_accuracy: 0.7925\n",
            "Epoch 3/20\n",
            "219/219 [==============================] - 1s 6ms/step - loss: 0.4923 - accuracy: 0.8217 - val_loss: 0.5521 - val_accuracy: 0.8045\n",
            "Epoch 4/20\n",
            "219/219 [==============================] - 1s 6ms/step - loss: 0.4326 - accuracy: 0.8433 - val_loss: 0.5300 - val_accuracy: 0.8162\n",
            "Epoch 5/20\n",
            "219/219 [==============================] - 1s 6ms/step - loss: 0.3976 - accuracy: 0.8548 - val_loss: 0.5158 - val_accuracy: 0.8227\n",
            "Epoch 6/20\n",
            "219/219 [==============================] - 1s 6ms/step - loss: 0.3829 - accuracy: 0.8610 - val_loss: 0.4926 - val_accuracy: 0.8287\n",
            "Epoch 7/20\n",
            "219/219 [==============================] - 1s 6ms/step - loss: 0.3481 - accuracy: 0.8686 - val_loss: 0.4917 - val_accuracy: 0.8308\n",
            "Epoch 8/20\n",
            "219/219 [==============================] - 1s 6ms/step - loss: 0.3252 - accuracy: 0.8742 - val_loss: 0.4975 - val_accuracy: 0.8342\n",
            "Epoch 9/20\n",
            "219/219 [==============================] - 1s 6ms/step - loss: 0.3028 - accuracy: 0.8864 - val_loss: 0.4957 - val_accuracy: 0.8378\n",
            "Epoch 10/20\n",
            "219/219 [==============================] - 1s 6ms/step - loss: 0.3062 - accuracy: 0.8836 - val_loss: 0.5142 - val_accuracy: 0.8427\n",
            "Epoch 11/20\n",
            "219/219 [==============================] - 1s 6ms/step - loss: 0.2884 - accuracy: 0.8891 - val_loss: 0.4662 - val_accuracy: 0.8475\n",
            "Epoch 12/20\n",
            "219/219 [==============================] - 1s 6ms/step - loss: 0.2759 - accuracy: 0.8975 - val_loss: 0.4861 - val_accuracy: 0.8490\n",
            "Epoch 13/20\n",
            "219/219 [==============================] - 1s 6ms/step - loss: 0.2623 - accuracy: 0.8996 - val_loss: 0.4637 - val_accuracy: 0.8470\n",
            "Epoch 14/20\n",
            "219/219 [==============================] - 1s 6ms/step - loss: 0.2579 - accuracy: 0.9025 - val_loss: 0.4599 - val_accuracy: 0.8528\n",
            "Epoch 15/20\n",
            "219/219 [==============================] - 1s 6ms/step - loss: 0.2504 - accuracy: 0.9059 - val_loss: 0.5433 - val_accuracy: 0.8482\n",
            "Epoch 16/20\n",
            "219/219 [==============================] - 1s 6ms/step - loss: 0.2488 - accuracy: 0.9034 - val_loss: 0.4598 - val_accuracy: 0.8502\n",
            "Epoch 17/20\n",
            "219/219 [==============================] - 1s 6ms/step - loss: 0.2367 - accuracy: 0.9081 - val_loss: 0.4950 - val_accuracy: 0.8475\n",
            "Epoch 18/20\n",
            "219/219 [==============================] - 1s 6ms/step - loss: 0.2258 - accuracy: 0.9158 - val_loss: 0.5190 - val_accuracy: 0.8497\n",
            "Epoch 19/20\n",
            "219/219 [==============================] - 1s 6ms/step - loss: 0.2253 - accuracy: 0.9154 - val_loss: 0.5334 - val_accuracy: 0.8553\n",
            "Epoch 20/20\n",
            "219/219 [==============================] - 1s 6ms/step - loss: 0.2214 - accuracy: 0.9182 - val_loss: 0.5015 - val_accuracy: 0.8627\n"
          ]
        },
        {
          "output_type": "execute_result",
          "data": {
            "text/plain": [
              "<keras.callbacks.History at 0x7f761046c690>"
            ]
          },
          "metadata": {},
          "execution_count": 11
        }
      ],
      "source": [
        "#######HYPERPARAMATERS###########\n",
        "epochs = 20\n",
        "batch_size = 64\n",
        "learning_rate = 0.001\n",
        "#################################\n",
        "  \n",
        "model = Sequential()\n",
        "    \n",
        "model.add(Conv2D(32, kernel_size = (3,3), input_shape=(28,28,1), activation='relu'))\n",
        "model.add(Conv2D(64,(3,3), activation='relu'))\n",
        "model.add(MaxPooling2D(pool_size=2))\n",
        "model.add(PermaDropout(0.5))\n",
        "model.add(Flatten())\n",
        "model.add(Dense(128, activation='relu'))\n",
        "model.add(PermaDropout(0.5))\n",
        "model.add(Dense(10, activation='softmax'))\n",
        "adam = keras.optimizers.Adam(learning_rate)\n",
        "model.compile(optimizer = adam, loss = 'categorical_crossentropy', metrics = ['accuracy'])\n",
        "    \n",
        "# print(model.summary())\n",
        "\n",
        "lr_reducer = ReduceLROnPlateau(monitor='val_loss', factor=0.9, patience=3)\n",
        "early_stopper = EarlyStopping(monitor='val_accuracy', min_delta=0, patience=30, mode='auto')\n",
        "checkpointer = ModelCheckpoint('weights.hd5', monitor='val_loss', verbose=1, save_best_only=True)\n",
        "\n",
        "model.fit(\n",
        "          train_data,\n",
        "          train_labels,\n",
        "          epochs = epochs,\n",
        "          batch_size = batch_size,\n",
        "          validation_split = 0.3,\n",
        "          shuffle = True\n",
        "          )"
      ]
    },
    {
      "cell_type": "code",
      "execution_count": 12,
      "metadata": {
        "id": "LVOc3hYIkXrl"
      },
      "outputs": [],
      "source": [
        "model.save('/content/drive/MyDrive/파이썬스터디 프로젝트/labeling_cnn.h5')"
      ]
    },
    {
      "cell_type": "code",
      "execution_count": 13,
      "metadata": {
        "id": "n5D8i_BCkdjS"
      },
      "outputs": [],
      "source": [
        "model = keras.models.load_model('/content/drive/MyDrive/파이썬스터디 프로젝트/labeling_cnn.h5')"
      ]
    },
    {
      "cell_type": "markdown",
      "metadata": {
        "id": "TD8ppILhFUrz"
      },
      "source": [
        "## 모델 결과"
      ]
    },
    {
      "cell_type": "code",
      "execution_count": 14,
      "metadata": {
        "id": "7Ljx2EWA2v2n"
      },
      "outputs": [],
      "source": [
        "def model_eval():\n",
        "  pred_mu = model.predict(test_data)\n",
        "  for i in range(1, 30):\n",
        "    pred_mu += model.predict(test_data)\n",
        "  pred_mu = pred_mu/30\n",
        "  predicted_test_labels = np.argmax(pred_mu, axis=1)\n",
        "  return(accuracy_score(np.argmax(test_labels, axis=1), predicted_test_labels))"
      ]
    },
    {
      "cell_type": "code",
      "execution_count": 15,
      "metadata": {
        "colab": {
          "base_uri": "https://localhost:8080/"
        },
        "id": "OzhQw9NOWjl3",
        "outputId": "0be488b8-be85-44aa-ce8a-4caa6dadd780"
      },
      "outputs": [
        {
          "output_type": "execute_result",
          "data": {
            "text/plain": [
              "0.8918"
            ]
          },
          "metadata": {},
          "execution_count": 15
        }
      ],
      "source": [
        "model = keras.models.load_model('/content/drive/MyDrive/파이썬스터디 프로젝트/labeling_cnn.h5')\n",
        "model_eval()"
      ]
    },
    {
      "cell_type": "markdown",
      "metadata": {
        "id": "rcbs04885lTu"
      },
      "source": [
        "# 라벨링"
      ]
    },
    {
      "cell_type": "markdown",
      "metadata": {
        "id": "mAtfoQKLZDJC"
      },
      "source": [
        "## 라벨링; 1"
      ]
    },
    {
      "cell_type": "code",
      "execution_count": 16,
      "metadata": {
        "id": "GKJgmFGWhlfl"
      },
      "outputs": [],
      "source": [
        "model = keras.models.load_model('/content/drive/MyDrive/파이썬스터디 프로젝트/labeling_cnn.h5')"
      ]
    },
    {
      "cell_type": "code",
      "execution_count": 17,
      "metadata": {
        "colab": {
          "base_uri": "https://localhost:8080/"
        },
        "id": "J_Jb5VX9ZC3y",
        "outputId": "51deddee-b69c-4e3b-e9ee-f70fb332d517"
      },
      "outputs": [
        {
          "output_type": "stream",
          "name": "stderr",
          "text": [
            "100%|██████████| 30/30 [01:05<00:00,  2.19s/it]\n",
            "100%|██████████| 40000/40000 [00:06<00:00, 6369.08it/s]\n"
          ]
        }
      ],
      "source": [
        "# Vars : 분산들\n",
        "# Outs : 결과 값들\n",
        "\n",
        "Vars = []\n",
        "Outs = []\n",
        "\n",
        "temp1 = []\n",
        "\n",
        "for i in tqdm(range(30)):\n",
        "  temp1.append(model.predict(unlab_data))\n",
        "\n",
        "for j in tqdm(range(unlab_data.shape[0])):\n",
        "\n",
        "  temp2 = np.array([0,0,0,0,0,0,0,0,0,0], 'float32')\n",
        "  \n",
        "  for i in range(30):\n",
        "    temp2 += temp1[i][j]\n",
        "  Outs.append(temp2/30)\n",
        "  \n",
        "  outputs=[]\n",
        "\n",
        "  for i in range(30):\n",
        "    outputs.append(temp1[i][j][np.argmax(temp2)])\n",
        "  Vars.append(np.var(outputs))"
      ]
    },
    {
      "cell_type": "code",
      "execution_count": 18,
      "metadata": {
        "id": "-NnAVIXTXlAa"
      },
      "outputs": [],
      "source": [
        "Outs = np.array(Outs)"
      ]
    },
    {
      "cell_type": "markdown",
      "source": [
        "class마다 균등하게 선택"
      ],
      "metadata": {
        "id": "XxIFHtGqAF9B"
      }
    },
    {
      "cell_type": "code",
      "source": [
        "Counter(np.argmax(unlab_labels, axis=1))"
      ],
      "metadata": {
        "colab": {
          "base_uri": "https://localhost:8080/"
        },
        "id": "IGGGKCzvAiZb",
        "outputId": "dca1787d-64f5-43d7-c365-19e1afc795ce"
      },
      "execution_count": 19,
      "outputs": [
        {
          "output_type": "execute_result",
          "data": {
            "text/plain": [
              "Counter({0: 4065,\n",
              "         1: 3975,\n",
              "         2: 4018,\n",
              "         3: 3989,\n",
              "         4: 4033,\n",
              "         5: 3990,\n",
              "         6: 3932,\n",
              "         7: 3997,\n",
              "         8: 4029,\n",
              "         9: 3972})"
            ]
          },
          "metadata": {},
          "execution_count": 19
        }
      ]
    },
    {
      "cell_type": "code",
      "source": [
        "# upper bound of variance?\n",
        "\n",
        "UB = []\n",
        "\n",
        "for h in range(10):\n",
        "  classvars = []\n",
        "  for i in tqdm(range(40000)):\n",
        "    if np.argmax(unlab_labels, axis=1).tolist()[i]==h:\n",
        "      classvars.append(Vars[i])\n",
        "  UB.append(np.percentile(classvars, 25))"
      ],
      "metadata": {
        "colab": {
          "base_uri": "https://localhost:8080/"
        },
        "id": "uDAwvSCVBLA4",
        "outputId": "e83f1255-ad43-4ad9-f0d4-952a4d23a4c0"
      },
      "execution_count": 20,
      "outputs": [
        {
          "output_type": "stream",
          "name": "stderr",
          "text": [
            "100%|██████████| 40000/40000 [00:49<00:00, 808.00it/s]\n",
            "100%|██████████| 40000/40000 [00:49<00:00, 811.76it/s]\n",
            "100%|██████████| 40000/40000 [00:49<00:00, 813.00it/s]\n",
            "100%|██████████| 40000/40000 [00:49<00:00, 812.94it/s]\n",
            "100%|██████████| 40000/40000 [00:49<00:00, 811.84it/s]\n",
            "100%|██████████| 40000/40000 [00:49<00:00, 813.28it/s]\n",
            "100%|██████████| 40000/40000 [00:49<00:00, 813.48it/s]\n",
            "100%|██████████| 40000/40000 [00:49<00:00, 810.75it/s]\n",
            "100%|██████████| 40000/40000 [00:49<00:00, 808.13it/s]\n",
            "100%|██████████| 40000/40000 [00:49<00:00, 813.33it/s]\n"
          ]
        }
      ]
    },
    {
      "cell_type": "code",
      "execution_count": 21,
      "metadata": {
        "id": "6BUHoKvtkJ37"
      },
      "outputs": [],
      "source": [
        "lowvars = []\n",
        "ind = 0 \n",
        "\n",
        "for i in Vars:\n",
        "  if i < UB[np.argmax(unlab_labels, axis=1)[ind]]:\n",
        "    lowvars.append(ind)\n",
        "  ind += 1"
      ]
    },
    {
      "cell_type": "code",
      "execution_count": 22,
      "metadata": {
        "id": "9WhEDezq362P"
      },
      "outputs": [],
      "source": [
        "highvars = []\n",
        "for i in range(unlab_data.shape[0]):\n",
        "  if i not in lowvars:\n",
        "    highvars.append(i)"
      ]
    },
    {
      "cell_type": "code",
      "execution_count": 23,
      "metadata": {
        "colab": {
          "base_uri": "https://localhost:8080/"
        },
        "id": "0uSdhE1VmF5a",
        "outputId": "e4ad6af8-5903-48d8-edc1-96b02004ba5e"
      },
      "outputs": [
        {
          "output_type": "execute_result",
          "data": {
            "text/plain": [
              "0.8969"
            ]
          },
          "metadata": {},
          "execution_count": 23
        }
      ],
      "source": [
        "# 같은 길이의 랜덤하게 고른 data들에 모델로 label 부여 후 정확도 측정\n",
        "randomindx = random.sample(range(40000), len(lowvars))\n",
        "accuracy_score(np.argmax(np.array(Outs)[randomindx], axis=1), np.argmax(unlab_labels[randomindx], axis=1))"
      ]
    },
    {
      "cell_type": "code",
      "execution_count": 24,
      "metadata": {
        "colab": {
          "base_uri": "https://localhost:8080/"
        },
        "id": "gtEPD5p5kM-z",
        "outputId": "42fe3f41-7024-4882-92a3-26b489d4962f"
      },
      "outputs": [
        {
          "output_type": "execute_result",
          "data": {
            "text/plain": [
              "0.965"
            ]
          },
          "metadata": {},
          "execution_count": 24
        }
      ],
      "source": [
        "# 저분산의 data들만 모아서 모델로 label 부여 후 정확도 측정 : 95%\n",
        "accuracy_score(np.argmax(np.array(Outs)[lowvars], axis=1), np.argmax(unlab_labels[lowvars], axis=1))"
      ]
    },
    {
      "cell_type": "code",
      "execution_count": 25,
      "metadata": {
        "id": "C2ab4GUWwe30"
      },
      "outputs": [],
      "source": [
        "train_data_1 = np.concatenate([train_data, unlab_data[lowvars]], axis=0)\n",
        "train_labels_1 = np.concatenate([train_labels, Outs[lowvars]], axis=0)"
      ]
    },
    {
      "cell_type": "code",
      "execution_count": 26,
      "metadata": {
        "id": "1xahhoBY8mKc"
      },
      "outputs": [],
      "source": [
        "shufindx = random.sample(range(train_data_1.shape[0]),train_data_1.shape[0])\n",
        "train_data_1 = train_data_1[shufindx]\n",
        "train_labels_1 = train_labels_1[shufindx]"
      ]
    },
    {
      "cell_type": "code",
      "source": [
        "train_data_2 = np.concatenate([train_data, unlab_data[randomindx]], axis=0)\n",
        "train_labels_2 = np.concatenate([train_labels, Outs[randomindx]], axis=0)"
      ],
      "metadata": {
        "id": "7gQWZXNojDvb"
      },
      "execution_count": 27,
      "outputs": []
    },
    {
      "cell_type": "code",
      "source": [
        "shufindx = random.sample(range(train_data_2.shape[0]),train_data_2.shape[0])\n",
        "train_data_2 = train_data_2[shufindx]\n",
        "train_labels_2 = train_labels_2[shufindx]"
      ],
      "metadata": {
        "id": "4tdOxYBQjFGT"
      },
      "execution_count": 28,
      "outputs": []
    },
    {
      "cell_type": "code",
      "execution_count": 29,
      "metadata": {
        "id": "_t9J8vlJ5TDO"
      },
      "outputs": [],
      "source": [
        "# unlab_data = unlab_data[highvars]\n",
        "# unlab_labels = unlab_labels[highvars]"
      ]
    },
    {
      "cell_type": "code",
      "source": [
        "Counter(np.argmax(train_labels_1, axis=1))"
      ],
      "metadata": {
        "colab": {
          "base_uri": "https://localhost:8080/"
        },
        "id": "Z7Jq-n0L8diD",
        "outputId": "9923794d-9d78-4c0b-eb0e-ffffca7e18f1"
      },
      "execution_count": 30,
      "outputs": [
        {
          "output_type": "execute_result",
          "data": {
            "text/plain": [
              "Counter({0: 3097,\n",
              "         1: 3020,\n",
              "         2: 3077,\n",
              "         3: 3043,\n",
              "         4: 3012,\n",
              "         5: 3008,\n",
              "         6: 2736,\n",
              "         7: 3001,\n",
              "         8: 2984,\n",
              "         9: 3022})"
            ]
          },
          "metadata": {},
          "execution_count": 30
        }
      ]
    },
    {
      "cell_type": "code",
      "source": [
        "Counter(np.argmax(train_labels_2, axis=1))"
      ],
      "metadata": {
        "colab": {
          "base_uri": "https://localhost:8080/"
        },
        "id": "4CLpAKvu8kD6",
        "outputId": "c2e3847e-f4ad-4d96-87d6-456e239ea2af"
      },
      "execution_count": 31,
      "outputs": [
        {
          "output_type": "execute_result",
          "data": {
            "text/plain": [
              "Counter({0: 3023,\n",
              "         1: 3020,\n",
              "         2: 3005,\n",
              "         3: 3064,\n",
              "         4: 3004,\n",
              "         5: 3004,\n",
              "         6: 2873,\n",
              "         7: 3001,\n",
              "         8: 2973,\n",
              "         9: 3033})"
            ]
          },
          "metadata": {},
          "execution_count": 31
        }
      ]
    },
    {
      "cell_type": "markdown",
      "metadata": {
        "id": "bOtFA9fr5oDF"
      },
      "source": [
        "## 모델링\n",
        "\n",
        "간단한 모델에서 받은 지식를 복잡한 모델에서 학습 \n",
        "\n",
        "uncertainty aware data vs random sampling data"
      ]
    },
    {
      "cell_type": "code",
      "execution_count": 32,
      "metadata": {
        "id": "m7Pd9SYK5tv_"
      },
      "outputs": [],
      "source": [
        "def PermaDropout(rate):\n",
        "    return Lambda(lambda x: K.dropout(x, level=rate))"
      ]
    },
    {
      "cell_type": "code",
      "execution_count": 41,
      "metadata": {
        "colab": {
          "base_uri": "https://localhost:8080/"
        },
        "id": "W6WgyM3Y5twA",
        "outputId": "37b55812-6528-4881-ff28-7d209eb315bd"
      },
      "outputs": [
        {
          "output_type": "stream",
          "name": "stdout",
          "text": [
            "Epoch 1/50\n",
            "329/329 [==============================] - 4s 9ms/step - loss: 2.0537 - accuracy: 0.3241 - val_loss: 0.9582 - val_accuracy: 0.6571\n",
            "Epoch 2/50\n",
            "329/329 [==============================] - 2s 7ms/step - loss: 0.7634 - accuracy: 0.7399 - val_loss: 0.6562 - val_accuracy: 0.7813\n",
            "Epoch 3/50\n",
            "329/329 [==============================] - 2s 7ms/step - loss: 0.5999 - accuracy: 0.8012 - val_loss: 0.5547 - val_accuracy: 0.8136\n",
            "Epoch 4/50\n",
            "329/329 [==============================] - 2s 7ms/step - loss: 0.5299 - accuracy: 0.8262 - val_loss: 0.5342 - val_accuracy: 0.8300\n",
            "Epoch 5/50\n",
            "329/329 [==============================] - 3s 8ms/step - loss: 0.4844 - accuracy: 0.8454 - val_loss: 0.5084 - val_accuracy: 0.8447\n",
            "Epoch 6/50\n",
            "329/329 [==============================] - 2s 7ms/step - loss: 0.4570 - accuracy: 0.8533 - val_loss: 0.4467 - val_accuracy: 0.8604\n",
            "Epoch 7/50\n",
            "329/329 [==============================] - 2s 7ms/step - loss: 0.4371 - accuracy: 0.8606 - val_loss: 0.4249 - val_accuracy: 0.8670\n",
            "Epoch 8/50\n",
            "329/329 [==============================] - 2s 7ms/step - loss: 0.4060 - accuracy: 0.8729 - val_loss: 0.4076 - val_accuracy: 0.8721\n",
            "Epoch 9/50\n",
            "329/329 [==============================] - 3s 8ms/step - loss: 0.3885 - accuracy: 0.8760 - val_loss: 0.4064 - val_accuracy: 0.8733\n",
            "Epoch 10/50\n",
            "329/329 [==============================] - 2s 7ms/step - loss: 0.3864 - accuracy: 0.8789 - val_loss: 0.3844 - val_accuracy: 0.8829\n",
            "Epoch 11/50\n",
            "329/329 [==============================] - 2s 7ms/step - loss: 0.3598 - accuracy: 0.8850 - val_loss: 0.3638 - val_accuracy: 0.8860\n",
            "Epoch 12/50\n",
            "329/329 [==============================] - 2s 7ms/step - loss: 0.3629 - accuracy: 0.8860 - val_loss: 0.3780 - val_accuracy: 0.8839\n",
            "Epoch 13/50\n",
            "329/329 [==============================] - 3s 8ms/step - loss: 0.3543 - accuracy: 0.8867 - val_loss: 0.3624 - val_accuracy: 0.8896\n",
            "Epoch 14/50\n",
            "329/329 [==============================] - 3s 8ms/step - loss: 0.3406 - accuracy: 0.8920 - val_loss: 0.3724 - val_accuracy: 0.8882\n",
            "Epoch 15/50\n",
            "329/329 [==============================] - 2s 7ms/step - loss: 0.3422 - accuracy: 0.8914 - val_loss: 0.3726 - val_accuracy: 0.8869\n",
            "Epoch 16/50\n",
            "329/329 [==============================] - 3s 8ms/step - loss: 0.3335 - accuracy: 0.8925 - val_loss: 0.3508 - val_accuracy: 0.8913\n",
            "Epoch 17/50\n",
            "329/329 [==============================] - 2s 7ms/step - loss: 0.3343 - accuracy: 0.8956 - val_loss: 0.3553 - val_accuracy: 0.8893\n",
            "Epoch 18/50\n",
            "329/329 [==============================] - 2s 7ms/step - loss: 0.3205 - accuracy: 0.8980 - val_loss: 0.3509 - val_accuracy: 0.8947\n",
            "Epoch 19/50\n",
            "329/329 [==============================] - 2s 7ms/step - loss: 0.3219 - accuracy: 0.8990 - val_loss: 0.3403 - val_accuracy: 0.8962\n",
            "Epoch 20/50\n",
            "329/329 [==============================] - 3s 8ms/step - loss: 0.3124 - accuracy: 0.9018 - val_loss: 0.3482 - val_accuracy: 0.8912\n",
            "Epoch 21/50\n",
            "329/329 [==============================] - 3s 8ms/step - loss: 0.3117 - accuracy: 0.9020 - val_loss: 0.3503 - val_accuracy: 0.8967\n",
            "Epoch 22/50\n",
            "329/329 [==============================] - 2s 7ms/step - loss: 0.3023 - accuracy: 0.9045 - val_loss: 0.3375 - val_accuracy: 0.8972\n",
            "Epoch 23/50\n",
            "329/329 [==============================] - 3s 8ms/step - loss: 0.2948 - accuracy: 0.9068 - val_loss: 0.3344 - val_accuracy: 0.8974\n",
            "Epoch 24/50\n",
            "329/329 [==============================] - 3s 8ms/step - loss: 0.3025 - accuracy: 0.9041 - val_loss: 0.3348 - val_accuracy: 0.8944\n",
            "Epoch 25/50\n",
            "329/329 [==============================] - 3s 8ms/step - loss: 0.3016 - accuracy: 0.9064 - val_loss: 0.3435 - val_accuracy: 0.9007\n",
            "Epoch 26/50\n",
            "329/329 [==============================] - 2s 7ms/step - loss: 0.2939 - accuracy: 0.9092 - val_loss: 0.3205 - val_accuracy: 0.9019\n",
            "Epoch 27/50\n",
            "329/329 [==============================] - 2s 7ms/step - loss: 0.2910 - accuracy: 0.9100 - val_loss: 0.3436 - val_accuracy: 0.9001\n",
            "Epoch 28/50\n",
            "329/329 [==============================] - 3s 8ms/step - loss: 0.2874 - accuracy: 0.9099 - val_loss: 0.3465 - val_accuracy: 0.8920\n",
            "Epoch 29/50\n",
            "329/329 [==============================] - 2s 7ms/step - loss: 0.2894 - accuracy: 0.9101 - val_loss: 0.3448 - val_accuracy: 0.8944\n",
            "Epoch 30/50\n",
            "329/329 [==============================] - 3s 8ms/step - loss: 0.2898 - accuracy: 0.9113 - val_loss: 0.3394 - val_accuracy: 0.9033\n",
            "Epoch 31/50\n",
            "329/329 [==============================] - 2s 7ms/step - loss: 0.2706 - accuracy: 0.9167 - val_loss: 0.3160 - val_accuracy: 0.9037\n",
            "Epoch 32/50\n",
            "329/329 [==============================] - 2s 7ms/step - loss: 0.2706 - accuracy: 0.9162 - val_loss: 0.3138 - val_accuracy: 0.9072\n",
            "Epoch 33/50\n",
            "329/329 [==============================] - 2s 7ms/step - loss: 0.3084 - accuracy: 0.9090 - val_loss: 0.3180 - val_accuracy: 0.9076\n",
            "Epoch 34/50\n",
            "329/329 [==============================] - 2s 7ms/step - loss: 0.2763 - accuracy: 0.9144 - val_loss: 0.3239 - val_accuracy: 0.9076\n",
            "Epoch 35/50\n",
            "329/329 [==============================] - 2s 7ms/step - loss: 0.2737 - accuracy: 0.9176 - val_loss: 0.3215 - val_accuracy: 0.9052\n",
            "Epoch 36/50\n",
            "329/329 [==============================] - 3s 8ms/step - loss: 0.2652 - accuracy: 0.9180 - val_loss: 0.3123 - val_accuracy: 0.9109\n",
            "Epoch 37/50\n",
            "329/329 [==============================] - 3s 8ms/step - loss: 0.2718 - accuracy: 0.9140 - val_loss: 0.3197 - val_accuracy: 0.9040\n",
            "Epoch 38/50\n",
            "329/329 [==============================] - 2s 7ms/step - loss: 0.2690 - accuracy: 0.9177 - val_loss: 0.3091 - val_accuracy: 0.9116\n",
            "Epoch 39/50\n",
            "329/329 [==============================] - 3s 8ms/step - loss: 0.2620 - accuracy: 0.9200 - val_loss: 0.3112 - val_accuracy: 0.9081\n",
            "Epoch 40/50\n",
            "329/329 [==============================] - 2s 7ms/step - loss: 0.2568 - accuracy: 0.9225 - val_loss: 0.3180 - val_accuracy: 0.9032\n",
            "Epoch 41/50\n",
            "329/329 [==============================] - 3s 8ms/step - loss: 0.2710 - accuracy: 0.9157 - val_loss: 0.3270 - val_accuracy: 0.9082\n",
            "Epoch 42/50\n",
            "329/329 [==============================] - 3s 8ms/step - loss: 0.2568 - accuracy: 0.9220 - val_loss: 0.3190 - val_accuracy: 0.9110\n",
            "Epoch 43/50\n",
            "329/329 [==============================] - 3s 8ms/step - loss: 0.2656 - accuracy: 0.9234 - val_loss: 0.3203 - val_accuracy: 0.9047\n",
            "Epoch 44/50\n",
            "329/329 [==============================] - 2s 7ms/step - loss: 0.2705 - accuracy: 0.9180 - val_loss: 0.3180 - val_accuracy: 0.9079\n",
            "Epoch 45/50\n",
            "329/329 [==============================] - 3s 8ms/step - loss: 0.2613 - accuracy: 0.9212 - val_loss: 0.3057 - val_accuracy: 0.9106\n",
            "Epoch 46/50\n",
            "329/329 [==============================] - 3s 8ms/step - loss: 0.2595 - accuracy: 0.9222 - val_loss: 0.3249 - val_accuracy: 0.9068\n",
            "Epoch 47/50\n",
            "329/329 [==============================] - 3s 8ms/step - loss: 0.2574 - accuracy: 0.9223 - val_loss: 0.3141 - val_accuracy: 0.9068\n",
            "Epoch 48/50\n",
            "329/329 [==============================] - 2s 7ms/step - loss: 0.2688 - accuracy: 0.9195 - val_loss: 0.3356 - val_accuracy: 0.9007\n",
            "Epoch 49/50\n",
            "329/329 [==============================] - 2s 7ms/step - loss: 0.2554 - accuracy: 0.9251 - val_loss: 0.3133 - val_accuracy: 0.9108\n",
            "Epoch 50/50\n",
            "329/329 [==============================] - 3s 8ms/step - loss: 0.2482 - accuracy: 0.9240 - val_loss: 0.3170 - val_accuracy: 0.9104\n"
          ]
        },
        {
          "output_type": "execute_result",
          "data": {
            "text/plain": [
              "<keras.callbacks.History at 0x7f758e562ed0>"
            ]
          },
          "metadata": {},
          "execution_count": 41
        }
      ],
      "source": [
        "#######HYPERPARAMATERS###########\n",
        "epochs = 50\n",
        "batch_size = 64\n",
        "learning_rate = 0.001\n",
        "#################################\n",
        "  \n",
        "model = Sequential()\n",
        "    \n",
        "model.add(Conv2D(32, kernel_size = (3,3), input_shape=(28,28,1), activation='relu'))\n",
        "model.add(Conv2D(64,(3,3), activation='relu'))\n",
        "model.add(MaxPooling2D(pool_size=2))\n",
        "model.add(PermaDropout(0.5))\n",
        "\n",
        "model.add(Conv2D(64,(3,3), activation='relu'))\n",
        "model.add(Conv2D(64,(3,3), activation='relu'))\n",
        "model.add(MaxPooling2D(pool_size=2))\n",
        "model.add(PermaDropout(0.5))\n",
        "\n",
        "model.add(Flatten())\n",
        "\n",
        "model.add(Dense(128, activation='relu'))\n",
        "model.add(Dense(128, activation='relu'))\n",
        "model.add(PermaDropout(0.5))\n",
        "\n",
        "model.add(Dense(128, activation='relu'))\n",
        "model.add(Dense(128, activation='relu'))\n",
        "model.add(PermaDropout(0.5))\n",
        "\n",
        "model.add(Dense(10, activation='softmax'))\n",
        "adam = keras.optimizers.Adam(learning_rate)\n",
        "model.compile(optimizer = adam, loss = 'categorical_crossentropy', metrics = ['accuracy'])\n",
        "    \n",
        "# print(model.summary())\n",
        "\n",
        "lr_reducer = ReduceLROnPlateau(monitor='val_loss', factor=0.9, patience=3)\n",
        "early_stopper = EarlyStopping(monitor='val_accuracy', min_delta=0, patience=30, mode='auto')\n",
        "checkpointer = ModelCheckpoint('weights.hd5', monitor='val_loss', verbose=1, save_best_only=True)\n",
        "\n",
        "model.fit(\n",
        "          train_data_1,\n",
        "          train_labels_1,\n",
        "          epochs = epochs,\n",
        "          batch_size = batch_size,\n",
        "          validation_split = 0.3,\n",
        "          shuffle = True\n",
        "          )"
      ]
    },
    {
      "cell_type": "code",
      "execution_count": 42,
      "metadata": {
        "id": "9_zB1OL252B3"
      },
      "outputs": [],
      "source": [
        "model.save('/content/drive/MyDrive/파이썬스터디 프로젝트/labeling_cnn2.h5')"
      ]
    },
    {
      "cell_type": "code",
      "execution_count": 43,
      "metadata": {
        "colab": {
          "base_uri": "https://localhost:8080/"
        },
        "id": "BbEZKkhn52B4",
        "outputId": "a843b2da-1eea-47f4-88b8-e3ddde417639"
      },
      "outputs": [
        {
          "output_type": "execute_result",
          "data": {
            "text/plain": [
              "0.8939"
            ]
          },
          "metadata": {},
          "execution_count": 43
        }
      ],
      "source": [
        "model = keras.models.load_model('/content/drive/MyDrive/파이썬스터디 프로젝트/labeling_cnn2.h5')\n",
        "model_eval()"
      ]
    },
    {
      "cell_type": "code",
      "execution_count": 44,
      "metadata": {
        "colab": {
          "base_uri": "https://localhost:8080/"
        },
        "outputId": "85a23b75-e9e9-4cc5-f5e7-2cb503b0a0e8",
        "id": "9KTK643Nkt4E"
      },
      "outputs": [
        {
          "output_type": "stream",
          "name": "stdout",
          "text": [
            "Epoch 1/50\n",
            "329/329 [==============================] - 3s 9ms/step - loss: 2.0079 - accuracy: 0.3250 - val_loss: 1.0109 - val_accuracy: 0.6391\n",
            "Epoch 2/50\n",
            "329/329 [==============================] - 2s 7ms/step - loss: 0.8636 - accuracy: 0.6999 - val_loss: 0.7763 - val_accuracy: 0.7343\n",
            "Epoch 3/50\n",
            "329/329 [==============================] - 3s 8ms/step - loss: 0.7037 - accuracy: 0.7601 - val_loss: 0.6643 - val_accuracy: 0.7748\n",
            "Epoch 4/50\n",
            "329/329 [==============================] - 3s 8ms/step - loss: 0.6389 - accuracy: 0.7852 - val_loss: 0.6434 - val_accuracy: 0.7772\n",
            "Epoch 5/50\n",
            "329/329 [==============================] - 2s 7ms/step - loss: 0.6018 - accuracy: 0.7929 - val_loss: 0.5958 - val_accuracy: 0.7966\n",
            "Epoch 6/50\n",
            "329/329 [==============================] - 2s 7ms/step - loss: 0.5694 - accuracy: 0.8086 - val_loss: 0.5892 - val_accuracy: 0.8108\n",
            "Epoch 7/50\n",
            "329/329 [==============================] - 3s 8ms/step - loss: 0.5503 - accuracy: 0.8191 - val_loss: 0.5676 - val_accuracy: 0.8171\n",
            "Epoch 8/50\n",
            "329/329 [==============================] - 2s 7ms/step - loss: 0.5325 - accuracy: 0.8250 - val_loss: 0.5404 - val_accuracy: 0.8250\n",
            "Epoch 9/50\n",
            "329/329 [==============================] - 3s 8ms/step - loss: 0.5126 - accuracy: 0.8359 - val_loss: 0.5260 - val_accuracy: 0.8318\n",
            "Epoch 10/50\n",
            "329/329 [==============================] - 3s 8ms/step - loss: 0.4990 - accuracy: 0.8462 - val_loss: 0.5095 - val_accuracy: 0.8381\n",
            "Epoch 11/50\n",
            "329/329 [==============================] - 2s 7ms/step - loss: 0.4867 - accuracy: 0.8510 - val_loss: 0.5028 - val_accuracy: 0.8437\n",
            "Epoch 12/50\n",
            "329/329 [==============================] - 3s 8ms/step - loss: 0.4772 - accuracy: 0.8518 - val_loss: 0.5014 - val_accuracy: 0.8482\n",
            "Epoch 13/50\n",
            "329/329 [==============================] - 3s 8ms/step - loss: 0.4687 - accuracy: 0.8590 - val_loss: 0.4917 - val_accuracy: 0.8497\n",
            "Epoch 14/50\n",
            "329/329 [==============================] - 2s 7ms/step - loss: 0.4608 - accuracy: 0.8633 - val_loss: 0.4882 - val_accuracy: 0.8457\n",
            "Epoch 15/50\n",
            "329/329 [==============================] - 2s 7ms/step - loss: 0.4414 - accuracy: 0.8670 - val_loss: 0.4692 - val_accuracy: 0.8619\n",
            "Epoch 16/50\n",
            "329/329 [==============================] - 2s 7ms/step - loss: 0.4453 - accuracy: 0.8644 - val_loss: 0.4732 - val_accuracy: 0.8576\n",
            "Epoch 17/50\n",
            "329/329 [==============================] - 2s 7ms/step - loss: 0.4333 - accuracy: 0.8729 - val_loss: 0.4691 - val_accuracy: 0.8648\n",
            "Epoch 18/50\n",
            "329/329 [==============================] - 2s 7ms/step - loss: 0.4262 - accuracy: 0.8737 - val_loss: 0.4622 - val_accuracy: 0.8721\n",
            "Epoch 19/50\n",
            "329/329 [==============================] - 2s 7ms/step - loss: 0.4285 - accuracy: 0.8746 - val_loss: 0.4630 - val_accuracy: 0.8681\n",
            "Epoch 20/50\n",
            "329/329 [==============================] - 2s 7ms/step - loss: 0.4144 - accuracy: 0.8785 - val_loss: 0.4553 - val_accuracy: 0.8662\n",
            "Epoch 21/50\n",
            "329/329 [==============================] - 3s 8ms/step - loss: 0.4193 - accuracy: 0.8789 - val_loss: 0.4417 - val_accuracy: 0.8669\n",
            "Epoch 22/50\n",
            "329/329 [==============================] - 2s 7ms/step - loss: 0.4117 - accuracy: 0.8813 - val_loss: 0.4422 - val_accuracy: 0.8761\n",
            "Epoch 23/50\n",
            "329/329 [==============================] - 3s 8ms/step - loss: 0.4055 - accuracy: 0.8877 - val_loss: 0.4468 - val_accuracy: 0.8731\n",
            "Epoch 24/50\n",
            "329/329 [==============================] - 3s 8ms/step - loss: 0.4121 - accuracy: 0.8816 - val_loss: 0.4437 - val_accuracy: 0.8720\n",
            "Epoch 25/50\n",
            "329/329 [==============================] - 2s 7ms/step - loss: 0.4023 - accuracy: 0.8843 - val_loss: 0.4824 - val_accuracy: 0.8598\n",
            "Epoch 26/50\n",
            "329/329 [==============================] - 2s 7ms/step - loss: 0.4015 - accuracy: 0.8864 - val_loss: 0.4292 - val_accuracy: 0.8780\n",
            "Epoch 27/50\n",
            "329/329 [==============================] - 2s 7ms/step - loss: 0.3906 - accuracy: 0.8882 - val_loss: 0.4400 - val_accuracy: 0.8692\n",
            "Epoch 28/50\n",
            "329/329 [==============================] - 2s 7ms/step - loss: 0.3970 - accuracy: 0.8885 - val_loss: 0.4297 - val_accuracy: 0.8762\n",
            "Epoch 29/50\n",
            "329/329 [==============================] - 3s 8ms/step - loss: 0.3890 - accuracy: 0.8912 - val_loss: 0.4317 - val_accuracy: 0.8772\n",
            "Epoch 30/50\n",
            "329/329 [==============================] - 2s 7ms/step - loss: 0.3882 - accuracy: 0.8912 - val_loss: 0.4275 - val_accuracy: 0.8817\n",
            "Epoch 31/50\n",
            "329/329 [==============================] - 3s 8ms/step - loss: 0.3806 - accuracy: 0.8945 - val_loss: 0.4312 - val_accuracy: 0.8790\n",
            "Epoch 32/50\n",
            "329/329 [==============================] - 2s 7ms/step - loss: 0.3786 - accuracy: 0.8960 - val_loss: 0.4296 - val_accuracy: 0.8756\n",
            "Epoch 33/50\n",
            "329/329 [==============================] - 3s 8ms/step - loss: 0.3766 - accuracy: 0.8965 - val_loss: 0.4402 - val_accuracy: 0.8760\n",
            "Epoch 34/50\n",
            "329/329 [==============================] - 2s 7ms/step - loss: 0.3766 - accuracy: 0.8957 - val_loss: 0.4376 - val_accuracy: 0.8724\n",
            "Epoch 35/50\n",
            "329/329 [==============================] - 2s 7ms/step - loss: 0.3735 - accuracy: 0.8957 - val_loss: 0.4262 - val_accuracy: 0.8781\n",
            "Epoch 36/50\n",
            "329/329 [==============================] - 2s 7ms/step - loss: 0.3735 - accuracy: 0.8980 - val_loss: 0.4129 - val_accuracy: 0.8838\n",
            "Epoch 37/50\n",
            "329/329 [==============================] - 3s 8ms/step - loss: 0.3655 - accuracy: 0.9020 - val_loss: 0.4198 - val_accuracy: 0.8817\n",
            "Epoch 38/50\n",
            "329/329 [==============================] - 2s 7ms/step - loss: 0.3686 - accuracy: 0.8988 - val_loss: 0.4255 - val_accuracy: 0.8764\n",
            "Epoch 39/50\n",
            "329/329 [==============================] - 2s 7ms/step - loss: 0.3773 - accuracy: 0.8950 - val_loss: 0.4192 - val_accuracy: 0.8837\n",
            "Epoch 40/50\n",
            "329/329 [==============================] - 2s 7ms/step - loss: 0.3616 - accuracy: 0.9032 - val_loss: 0.4232 - val_accuracy: 0.8820\n",
            "Epoch 41/50\n",
            "329/329 [==============================] - 2s 7ms/step - loss: 0.3692 - accuracy: 0.8992 - val_loss: 0.4296 - val_accuracy: 0.8799\n",
            "Epoch 42/50\n",
            "329/329 [==============================] - 2s 7ms/step - loss: 0.3614 - accuracy: 0.9027 - val_loss: 0.4357 - val_accuracy: 0.8823\n",
            "Epoch 43/50\n",
            "329/329 [==============================] - 3s 8ms/step - loss: 0.3662 - accuracy: 0.9012 - val_loss: 0.4122 - val_accuracy: 0.8841\n",
            "Epoch 44/50\n",
            "329/329 [==============================] - 3s 8ms/step - loss: 0.3607 - accuracy: 0.9042 - val_loss: 0.4296 - val_accuracy: 0.8847\n",
            "Epoch 45/50\n",
            "329/329 [==============================] - 3s 8ms/step - loss: 0.3644 - accuracy: 0.9027 - val_loss: 0.4238 - val_accuracy: 0.8814\n",
            "Epoch 46/50\n",
            "329/329 [==============================] - 3s 8ms/step - loss: 0.3627 - accuracy: 0.9050 - val_loss: 0.4070 - val_accuracy: 0.8879\n",
            "Epoch 47/50\n",
            "329/329 [==============================] - 3s 8ms/step - loss: 0.3595 - accuracy: 0.9036 - val_loss: 0.4090 - val_accuracy: 0.8863\n",
            "Epoch 48/50\n",
            "329/329 [==============================] - 3s 8ms/step - loss: 0.3563 - accuracy: 0.9043 - val_loss: 0.4226 - val_accuracy: 0.8848\n",
            "Epoch 49/50\n",
            "329/329 [==============================] - 2s 7ms/step - loss: 0.3626 - accuracy: 0.9026 - val_loss: 0.4134 - val_accuracy: 0.8864\n",
            "Epoch 50/50\n",
            "329/329 [==============================] - 2s 7ms/step - loss: 0.3572 - accuracy: 0.9079 - val_loss: 0.4219 - val_accuracy: 0.8829\n"
          ]
        },
        {
          "output_type": "execute_result",
          "data": {
            "text/plain": [
              "<keras.callbacks.History at 0x7f758e1e6750>"
            ]
          },
          "metadata": {},
          "execution_count": 44
        }
      ],
      "source": [
        "#######HYPERPARAMATERS###########\n",
        "epochs = 50\n",
        "batch_size = 64\n",
        "learning_rate = 0.001\n",
        "#################################\n",
        "  \n",
        "model = Sequential()\n",
        "    \n",
        "model.add(Conv2D(32, kernel_size = (3,3), input_shape=(28,28,1), activation='relu'))\n",
        "model.add(Conv2D(64,(3,3), activation='relu'))\n",
        "model.add(MaxPooling2D(pool_size=2))\n",
        "model.add(PermaDropout(0.5))\n",
        "\n",
        "model.add(Conv2D(64,(3,3), activation='relu'))\n",
        "model.add(Conv2D(64,(3,3), activation='relu'))\n",
        "model.add(MaxPooling2D(pool_size=2))\n",
        "model.add(PermaDropout(0.5))\n",
        "\n",
        "model.add(Flatten())\n",
        "\n",
        "model.add(Dense(128, activation='relu'))\n",
        "model.add(Dense(128, activation='relu'))\n",
        "model.add(PermaDropout(0.5))\n",
        "\n",
        "model.add(Dense(128, activation='relu'))\n",
        "model.add(Dense(128, activation='relu'))\n",
        "model.add(PermaDropout(0.5))\n",
        "\n",
        "model.add(Dense(10, activation='softmax'))\n",
        "adam = keras.optimizers.Adam(learning_rate)\n",
        "model.compile(optimizer = adam, loss = 'categorical_crossentropy', metrics = ['accuracy'])\n",
        "    \n",
        "# print(model.summary())\n",
        "\n",
        "lr_reducer = ReduceLROnPlateau(monitor='val_loss', factor=0.9, patience=3)\n",
        "early_stopper = EarlyStopping(monitor='val_accuracy', min_delta=0, patience=30, mode='auto')\n",
        "checkpointer = ModelCheckpoint('weights.hd5', monitor='val_loss', verbose=1, save_best_only=True)\n",
        "\n",
        "model.fit(\n",
        "          train_data_2,\n",
        "          train_labels_2,\n",
        "          epochs = epochs,\n",
        "          batch_size = batch_size,\n",
        "          validation_split = 0.3,\n",
        "          shuffle = True\n",
        "          )"
      ]
    },
    {
      "cell_type": "code",
      "execution_count": 45,
      "metadata": {
        "id": "4d3W-766kt4H"
      },
      "outputs": [],
      "source": [
        "model.save('/content/drive/MyDrive/파이썬스터디 프로젝트/labeling_cnn_no.h5')"
      ]
    },
    {
      "cell_type": "code",
      "execution_count": 46,
      "metadata": {
        "colab": {
          "base_uri": "https://localhost:8080/"
        },
        "id": "it79cIfekt4H",
        "outputId": "a1067735-cd5e-4560-cd03-e6c478badbde"
      },
      "outputs": [
        {
          "output_type": "execute_result",
          "data": {
            "text/plain": [
              "0.8971"
            ]
          },
          "metadata": {},
          "execution_count": 46
        }
      ],
      "source": [
        "model = keras.models.load_model('/content/drive/MyDrive/파이썬스터디 프로젝트/labeling_cnn_no.h5')\n",
        "model_eval()"
      ]
    },
    {
      "cell_type": "code",
      "source": [
        ""
      ],
      "metadata": {
        "id": "G84gMPYdXQPO"
      },
      "execution_count": null,
      "outputs": []
    }
  ],
  "metadata": {
    "accelerator": "GPU",
    "colab": {
      "collapsed_sections": [],
      "name": "uncertainty 기반 labeling.ipynb",
      "provenance": [],
      "include_colab_link": true
    },
    "kernelspec": {
      "display_name": "Python 3",
      "name": "python3"
    },
    "language_info": {
      "name": "python"
    }
  },
  "nbformat": 4,
  "nbformat_minor": 0
}