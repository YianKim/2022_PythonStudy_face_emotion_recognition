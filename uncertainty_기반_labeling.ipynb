{
  "cells": [
    {
      "cell_type": "markdown",
      "metadata": {
        "id": "view-in-github",
        "colab_type": "text"
      },
      "source": [
        "<a href=\"https://colab.research.google.com/github/YianKim/2022_PythonStudy_face_emotion_recognition/blob/main/uncertainty_%EA%B8%B0%EB%B0%98_labeling.ipynb\" target=\"_parent\"><img src=\"https://colab.research.google.com/assets/colab-badge.svg\" alt=\"Open In Colab\"/></a>"
      ]
    },
    {
      "cell_type": "markdown",
      "metadata": {
        "id": "5FQpjWg4Ld6m"
      },
      "source": [
        "## 구글 드라이브\n"
      ]
    },
    {
      "cell_type": "code",
      "execution_count": 178,
      "metadata": {
        "colab": {
          "base_uri": "https://localhost:8080/"
        },
        "id": "SyTEuhg7fR9P",
        "outputId": "27b66c68-33b0-448e-e40a-3c1b49279889"
      },
      "outputs": [
        {
          "output_type": "stream",
          "name": "stdout",
          "text": [
            "Drive already mounted at /content/drive; to attempt to forcibly remount, call drive.mount(\"/content/drive\", force_remount=True).\n"
          ]
        }
      ],
      "source": [
        "from google.colab import drive\n",
        "drive.mount('/content/drive')"
      ]
    },
    {
      "cell_type": "markdown",
      "metadata": {
        "id": "UQy7KUb6NBs-"
      },
      "source": [
        "## 라이브러리 불러오기\n"
      ]
    },
    {
      "cell_type": "code",
      "execution_count": 179,
      "metadata": {
        "id": "XRPQRtXGmm2W"
      },
      "outputs": [],
      "source": [
        "%matplotlib inline\n",
        "import matplotlib.pyplot as plt\n",
        "from tensorflow import keras\n",
        "import numpy as np\n",
        "from tensorflow.keras.utils import to_categorical\n",
        "from sklearn.model_selection import train_test_split\n",
        "\n",
        "import PIL\n",
        "import pickle\n",
        "import random\n",
        "from tqdm import tqdm\n",
        "\n",
        "from keras.layers.core import Lambda\n",
        "from keras import backend as K\n",
        "\n",
        "from keras.models import Sequential\n",
        "from keras.layers import Conv2D\n",
        "from keras.layers import BatchNormalization\n",
        "from keras.regularizers import l2\n",
        "from keras.layers import Activation\n",
        "from keras.layers import Dropout\n",
        "from keras.layers import MaxPooling2D\n",
        "from keras.layers import Flatten\n",
        "from keras.layers import Dense\n",
        "from keras.layers import Reshape\n",
        "from keras.layers import LSTM\n",
        "from keras import optimizers\n",
        "from keras.callbacks import ReduceLROnPlateau, EarlyStopping, TensorBoard, ModelCheckpoint\n",
        "from sklearn.metrics import *\n",
        "from keras.models import load_model\n",
        "\n",
        "from tqdm import tqdm"
      ]
    },
    {
      "cell_type": "markdown",
      "metadata": {
        "id": "xpAjYytuPDaU"
      },
      "source": [
        "## 데이터 불러오기\n"
      ]
    },
    {
      "cell_type": "code",
      "source": [
        "fashion_mnist = keras.datasets.fashion_mnist\n",
        "(data, labels), (test_data, test_labels) = fashion_mnist.load_data()"
      ],
      "metadata": {
        "id": "e6b1qO5dSAyP"
      },
      "execution_count": 180,
      "outputs": []
    },
    {
      "cell_type": "code",
      "source": [
        "train_data = data[range(20000)].reshape([20000,28,28,1])\n",
        "train_labels = labels[range(20000)].reshape([20000,1])"
      ],
      "metadata": {
        "id": "B-e24WMOTQ4d"
      },
      "execution_count": 181,
      "outputs": []
    },
    {
      "cell_type": "code",
      "source": [
        "unlab_data = data[range(20000,60000)].reshape([40000,28,28,1])\n",
        "unlab_labels = labels[range(20000,60000)].reshape([40000,1])"
      ],
      "metadata": {
        "id": "EhhKskDITIEm"
      },
      "execution_count": 182,
      "outputs": []
    },
    {
      "cell_type": "code",
      "source": [
        "test_data = test_data.reshape([10000,28,28,1])\n",
        "test_labels = test_labels.reshape([10000,1])"
      ],
      "metadata": {
        "id": "W5aNLvjxVUq0"
      },
      "execution_count": 183,
      "outputs": []
    },
    {
      "cell_type": "markdown",
      "metadata": {
        "id": "Sa7KYMfrkKU5"
      },
      "source": [
        "## CNN v2.\n",
        "\n",
        "A. Vulpe-Grigoraşi and O. Grigore, \"Convolutional Neural Network Hyperparameters optimization for Facial Emotion Recognition,\" 2021 12th International Symposium on Advanced Topics in Electrical Engineering (ATEE), 2021, pp. 1-5, doi: 10.1109/ATEE52255.2021.9425073."
      ]
    },
    {
      "cell_type": "code",
      "execution_count": 184,
      "metadata": {
        "id": "zn3v_W8wJQ68"
      },
      "outputs": [],
      "source": [
        "def PermaDropout(rate):\n",
        "    return Lambda(lambda x: K.dropout(x, level=rate))"
      ]
    },
    {
      "cell_type": "code",
      "execution_count": 185,
      "metadata": {
        "colab": {
          "base_uri": "https://localhost:8080/"
        },
        "id": "L5scE9yKkIZb",
        "outputId": "0686ecf7-3779-4f87-8354-afce50bcd3a3"
      },
      "outputs": [
        {
          "output_type": "stream",
          "name": "stdout",
          "text": [
            "Epoch 1/100\n",
            "219/219 [==============================] - 4s 15ms/step - loss: 2.1904 - accuracy: 0.6861 - val_loss: 0.6671 - val_accuracy: 0.7623\n",
            "Epoch 2/100\n",
            "219/219 [==============================] - 3s 16ms/step - loss: 0.5788 - accuracy: 0.7938 - val_loss: 0.5860 - val_accuracy: 0.7912\n",
            "Epoch 3/100\n",
            "219/219 [==============================] - 3s 13ms/step - loss: 0.5037 - accuracy: 0.8167 - val_loss: 0.5621 - val_accuracy: 0.8002\n",
            "Epoch 4/100\n",
            "219/219 [==============================] - 3s 12ms/step - loss: 0.4599 - accuracy: 0.8329 - val_loss: 0.5134 - val_accuracy: 0.8253\n",
            "Epoch 5/100\n",
            "219/219 [==============================] - 3s 11ms/step - loss: 0.4145 - accuracy: 0.8510 - val_loss: 0.4916 - val_accuracy: 0.8230\n",
            "Epoch 6/100\n",
            "219/219 [==============================] - 3s 12ms/step - loss: 0.3904 - accuracy: 0.8533 - val_loss: 0.5009 - val_accuracy: 0.8268\n",
            "Epoch 7/100\n",
            "219/219 [==============================] - 2s 11ms/step - loss: 0.3636 - accuracy: 0.8610 - val_loss: 0.4925 - val_accuracy: 0.8280\n",
            "Epoch 8/100\n",
            "219/219 [==============================] - 3s 13ms/step - loss: 0.3438 - accuracy: 0.8714 - val_loss: 0.5027 - val_accuracy: 0.8295\n",
            "Epoch 9/100\n",
            "219/219 [==============================] - 3s 13ms/step - loss: 0.3273 - accuracy: 0.8784 - val_loss: 0.4791 - val_accuracy: 0.8327\n",
            "Epoch 10/100\n",
            "219/219 [==============================] - 3s 11ms/step - loss: 0.3124 - accuracy: 0.8831 - val_loss: 0.4957 - val_accuracy: 0.8407\n",
            "Epoch 11/100\n",
            "219/219 [==============================] - 3s 13ms/step - loss: 0.2926 - accuracy: 0.8901 - val_loss: 0.4799 - val_accuracy: 0.8447\n",
            "Epoch 12/100\n",
            "219/219 [==============================] - 3s 13ms/step - loss: 0.2904 - accuracy: 0.8935 - val_loss: 0.5055 - val_accuracy: 0.8452\n",
            "Epoch 13/100\n",
            "219/219 [==============================] - 3s 11ms/step - loss: 0.2809 - accuracy: 0.8966 - val_loss: 0.4795 - val_accuracy: 0.8408\n",
            "Epoch 14/100\n",
            "219/219 [==============================] - 3s 11ms/step - loss: 0.2676 - accuracy: 0.9016 - val_loss: 0.5069 - val_accuracy: 0.8503\n",
            "Epoch 15/100\n",
            "219/219 [==============================] - 3s 13ms/step - loss: 0.2558 - accuracy: 0.9021 - val_loss: 0.4521 - val_accuracy: 0.8502\n",
            "Epoch 16/100\n",
            "219/219 [==============================] - 3s 12ms/step - loss: 0.2478 - accuracy: 0.9034 - val_loss: 0.4808 - val_accuracy: 0.8478\n",
            "Epoch 17/100\n",
            "219/219 [==============================] - 3s 13ms/step - loss: 0.2509 - accuracy: 0.9038 - val_loss: 0.4991 - val_accuracy: 0.8510\n",
            "Epoch 18/100\n",
            "219/219 [==============================] - 3s 13ms/step - loss: 0.2384 - accuracy: 0.9101 - val_loss: 0.4899 - val_accuracy: 0.8537\n",
            "Epoch 19/100\n",
            "219/219 [==============================] - 3s 13ms/step - loss: 0.2332 - accuracy: 0.9142 - val_loss: 0.4996 - val_accuracy: 0.8455\n",
            "Epoch 20/100\n",
            "219/219 [==============================] - 3s 13ms/step - loss: 0.2254 - accuracy: 0.9137 - val_loss: 0.5244 - val_accuracy: 0.8488\n",
            "Epoch 21/100\n",
            "219/219 [==============================] - 3s 13ms/step - loss: 0.2182 - accuracy: 0.9145 - val_loss: 0.5047 - val_accuracy: 0.8503\n",
            "Epoch 22/100\n",
            "219/219 [==============================] - 3s 12ms/step - loss: 0.2273 - accuracy: 0.9164 - val_loss: 0.5243 - val_accuracy: 0.8443\n",
            "Epoch 23/100\n",
            "219/219 [==============================] - 3s 13ms/step - loss: 0.2145 - accuracy: 0.9184 - val_loss: 0.4757 - val_accuracy: 0.8592\n",
            "Epoch 24/100\n",
            "219/219 [==============================] - 3s 13ms/step - loss: 0.1989 - accuracy: 0.9227 - val_loss: 0.4879 - val_accuracy: 0.8592\n",
            "Epoch 25/100\n",
            "219/219 [==============================] - 3s 13ms/step - loss: 0.2063 - accuracy: 0.9234 - val_loss: 0.5874 - val_accuracy: 0.8482\n",
            "Epoch 26/100\n",
            "219/219 [==============================] - 3s 11ms/step - loss: 0.1888 - accuracy: 0.9301 - val_loss: 0.5269 - val_accuracy: 0.8640\n",
            "Epoch 27/100\n",
            "219/219 [==============================] - 3s 11ms/step - loss: 0.1937 - accuracy: 0.9288 - val_loss: 0.5069 - val_accuracy: 0.8573\n",
            "Epoch 28/100\n",
            "219/219 [==============================] - 3s 13ms/step - loss: 0.1893 - accuracy: 0.9285 - val_loss: 0.5482 - val_accuracy: 0.8552\n",
            "Epoch 29/100\n",
            "219/219 [==============================] - 2s 11ms/step - loss: 0.1886 - accuracy: 0.9289 - val_loss: 0.5502 - val_accuracy: 0.8568\n",
            "Epoch 30/100\n",
            "219/219 [==============================] - 2s 11ms/step - loss: 0.1878 - accuracy: 0.9304 - val_loss: 0.5359 - val_accuracy: 0.8540\n",
            "Epoch 31/100\n",
            "219/219 [==============================] - 3s 11ms/step - loss: 0.1741 - accuracy: 0.9320 - val_loss: 0.5559 - val_accuracy: 0.8628\n",
            "Epoch 32/100\n",
            "219/219 [==============================] - 3s 13ms/step - loss: 0.1736 - accuracy: 0.9352 - val_loss: 0.5301 - val_accuracy: 0.8598\n",
            "Epoch 33/100\n",
            "219/219 [==============================] - 3s 11ms/step - loss: 0.1740 - accuracy: 0.9343 - val_loss: 0.5645 - val_accuracy: 0.8553\n",
            "Epoch 34/100\n",
            "219/219 [==============================] - 3s 13ms/step - loss: 0.1752 - accuracy: 0.9357 - val_loss: 0.5583 - val_accuracy: 0.8603\n",
            "Epoch 35/100\n",
            "219/219 [==============================] - 3s 13ms/step - loss: 0.1651 - accuracy: 0.9383 - val_loss: 0.6052 - val_accuracy: 0.8623\n",
            "Epoch 36/100\n",
            "219/219 [==============================] - 3s 13ms/step - loss: 0.1603 - accuracy: 0.9403 - val_loss: 0.5613 - val_accuracy: 0.8557\n",
            "Epoch 37/100\n",
            "219/219 [==============================] - 3s 12ms/step - loss: 0.1579 - accuracy: 0.9411 - val_loss: 0.5792 - val_accuracy: 0.8688\n",
            "Epoch 38/100\n",
            "219/219 [==============================] - 3s 13ms/step - loss: 0.1579 - accuracy: 0.9385 - val_loss: 0.5426 - val_accuracy: 0.8705\n",
            "Epoch 39/100\n",
            "219/219 [==============================] - 3s 14ms/step - loss: 0.1543 - accuracy: 0.9461 - val_loss: 0.5998 - val_accuracy: 0.8593\n",
            "Epoch 40/100\n",
            "219/219 [==============================] - 3s 11ms/step - loss: 0.1625 - accuracy: 0.9384 - val_loss: 0.6257 - val_accuracy: 0.8530\n",
            "Epoch 41/100\n",
            "219/219 [==============================] - 3s 13ms/step - loss: 0.1501 - accuracy: 0.9461 - val_loss: 0.5935 - val_accuracy: 0.8643\n",
            "Epoch 42/100\n",
            "219/219 [==============================] - 3s 11ms/step - loss: 0.1559 - accuracy: 0.9423 - val_loss: 0.5814 - val_accuracy: 0.8562\n",
            "Epoch 43/100\n",
            "219/219 [==============================] - 3s 13ms/step - loss: 0.1620 - accuracy: 0.9407 - val_loss: 0.6671 - val_accuracy: 0.8533\n",
            "Epoch 44/100\n",
            "219/219 [==============================] - 3s 13ms/step - loss: 0.1437 - accuracy: 0.9477 - val_loss: 0.6308 - val_accuracy: 0.8620\n",
            "Epoch 45/100\n",
            "219/219 [==============================] - 3s 13ms/step - loss: 0.1334 - accuracy: 0.9489 - val_loss: 0.6336 - val_accuracy: 0.8590\n",
            "Epoch 46/100\n",
            "219/219 [==============================] - 3s 12ms/step - loss: 0.1316 - accuracy: 0.9525 - val_loss: 0.6544 - val_accuracy: 0.8660\n",
            "Epoch 47/100\n",
            "219/219 [==============================] - 3s 12ms/step - loss: 0.1409 - accuracy: 0.9514 - val_loss: 0.6344 - val_accuracy: 0.8685\n",
            "Epoch 48/100\n",
            "219/219 [==============================] - 3s 11ms/step - loss: 0.1288 - accuracy: 0.9539 - val_loss: 0.6129 - val_accuracy: 0.8615\n",
            "Epoch 49/100\n",
            "219/219 [==============================] - 3s 12ms/step - loss: 0.1380 - accuracy: 0.9487 - val_loss: 0.6185 - val_accuracy: 0.8722\n",
            "Epoch 50/100\n",
            "219/219 [==============================] - 3s 13ms/step - loss: 0.1454 - accuracy: 0.9479 - val_loss: 0.6107 - val_accuracy: 0.8657\n",
            "Epoch 51/100\n",
            "219/219 [==============================] - 3s 13ms/step - loss: 0.1327 - accuracy: 0.9498 - val_loss: 0.7422 - val_accuracy: 0.8627\n",
            "Epoch 52/100\n",
            "219/219 [==============================] - 3s 13ms/step - loss: 0.1376 - accuracy: 0.9511 - val_loss: 0.6503 - val_accuracy: 0.8655\n",
            "Epoch 53/100\n",
            "219/219 [==============================] - 3s 11ms/step - loss: 0.1367 - accuracy: 0.9516 - val_loss: 0.7087 - val_accuracy: 0.8647\n",
            "Epoch 54/100\n",
            "219/219 [==============================] - 3s 13ms/step - loss: 0.1311 - accuracy: 0.9539 - val_loss: 0.6709 - val_accuracy: 0.8645\n",
            "Epoch 55/100\n",
            "219/219 [==============================] - 3s 14ms/step - loss: 0.1306 - accuracy: 0.9536 - val_loss: 0.6622 - val_accuracy: 0.8690\n",
            "Epoch 56/100\n",
            "219/219 [==============================] - 3s 13ms/step - loss: 0.1330 - accuracy: 0.9541 - val_loss: 0.6366 - val_accuracy: 0.8672\n",
            "Epoch 57/100\n",
            "219/219 [==============================] - 3s 12ms/step - loss: 0.1273 - accuracy: 0.9541 - val_loss: 0.6512 - val_accuracy: 0.8655\n",
            "Epoch 58/100\n",
            "219/219 [==============================] - 3s 12ms/step - loss: 0.1320 - accuracy: 0.9544 - val_loss: 0.6287 - val_accuracy: 0.8672\n",
            "Epoch 59/100\n",
            "219/219 [==============================] - 3s 12ms/step - loss: 0.1234 - accuracy: 0.9547 - val_loss: 0.6595 - val_accuracy: 0.8722\n",
            "Epoch 60/100\n",
            "219/219 [==============================] - 3s 11ms/step - loss: 0.1069 - accuracy: 0.9618 - val_loss: 0.7051 - val_accuracy: 0.8673\n",
            "Epoch 61/100\n",
            "219/219 [==============================] - 3s 13ms/step - loss: 0.1087 - accuracy: 0.9609 - val_loss: 0.6724 - val_accuracy: 0.8657\n",
            "Epoch 62/100\n",
            "219/219 [==============================] - 3s 13ms/step - loss: 0.1225 - accuracy: 0.9566 - val_loss: 0.7557 - val_accuracy: 0.8595\n",
            "Epoch 63/100\n",
            "219/219 [==============================] - 3s 12ms/step - loss: 0.1209 - accuracy: 0.9544 - val_loss: 0.6495 - val_accuracy: 0.8628\n",
            "Epoch 64/100\n",
            "219/219 [==============================] - 3s 13ms/step - loss: 0.1214 - accuracy: 0.9580 - val_loss: 0.7038 - val_accuracy: 0.8678\n",
            "Epoch 65/100\n",
            "219/219 [==============================] - 3s 12ms/step - loss: 0.1219 - accuracy: 0.9566 - val_loss: 0.7145 - val_accuracy: 0.8672\n",
            "Epoch 66/100\n",
            "219/219 [==============================] - 3s 13ms/step - loss: 0.1242 - accuracy: 0.9563 - val_loss: 0.8071 - val_accuracy: 0.8543\n",
            "Epoch 67/100\n",
            "219/219 [==============================] - 3s 13ms/step - loss: 0.1183 - accuracy: 0.9595 - val_loss: 0.6982 - val_accuracy: 0.8712\n",
            "Epoch 68/100\n",
            "219/219 [==============================] - 3s 13ms/step - loss: 0.1221 - accuracy: 0.9588 - val_loss: 0.6993 - val_accuracy: 0.8625\n",
            "Epoch 69/100\n",
            "219/219 [==============================] - 3s 12ms/step - loss: 0.1112 - accuracy: 0.9606 - val_loss: 0.6865 - val_accuracy: 0.8688\n",
            "Epoch 70/100\n",
            "219/219 [==============================] - 3s 13ms/step - loss: 0.1055 - accuracy: 0.9614 - val_loss: 0.7779 - val_accuracy: 0.8640\n",
            "Epoch 71/100\n",
            "219/219 [==============================] - 3s 13ms/step - loss: 0.1123 - accuracy: 0.9613 - val_loss: 0.6518 - val_accuracy: 0.8720\n",
            "Epoch 72/100\n",
            "219/219 [==============================] - 3s 12ms/step - loss: 0.1141 - accuracy: 0.9594 - val_loss: 0.6910 - val_accuracy: 0.8695\n",
            "Epoch 73/100\n",
            "219/219 [==============================] - 3s 12ms/step - loss: 0.1114 - accuracy: 0.9616 - val_loss: 0.7585 - val_accuracy: 0.8567\n",
            "Epoch 74/100\n",
            "219/219 [==============================] - 3s 13ms/step - loss: 0.1018 - accuracy: 0.9638 - val_loss: 0.7447 - val_accuracy: 0.8725\n",
            "Epoch 75/100\n",
            "219/219 [==============================] - 3s 12ms/step - loss: 0.1263 - accuracy: 0.9579 - val_loss: 0.7156 - val_accuracy: 0.8633\n",
            "Epoch 76/100\n",
            "219/219 [==============================] - 3s 12ms/step - loss: 0.1125 - accuracy: 0.9634 - val_loss: 0.6302 - val_accuracy: 0.8632\n",
            "Epoch 77/100\n",
            "219/219 [==============================] - 3s 12ms/step - loss: 0.1057 - accuracy: 0.9631 - val_loss: 0.7244 - val_accuracy: 0.8628\n",
            "Epoch 78/100\n",
            "219/219 [==============================] - 3s 12ms/step - loss: 0.1087 - accuracy: 0.9628 - val_loss: 0.8133 - val_accuracy: 0.8618\n",
            "Epoch 79/100\n",
            "219/219 [==============================] - 3s 12ms/step - loss: 0.1069 - accuracy: 0.9642 - val_loss: 0.7549 - val_accuracy: 0.8597\n",
            "Epoch 80/100\n",
            "219/219 [==============================] - 3s 13ms/step - loss: 0.1139 - accuracy: 0.9601 - val_loss: 0.8172 - val_accuracy: 0.8592\n",
            "Epoch 81/100\n",
            "219/219 [==============================] - 3s 12ms/step - loss: 0.1132 - accuracy: 0.9610 - val_loss: 0.7412 - val_accuracy: 0.8635\n",
            "Epoch 82/100\n",
            "219/219 [==============================] - 3s 13ms/step - loss: 0.1051 - accuracy: 0.9616 - val_loss: 0.8049 - val_accuracy: 0.8577\n",
            "Epoch 83/100\n",
            "219/219 [==============================] - 3s 13ms/step - loss: 0.1092 - accuracy: 0.9626 - val_loss: 0.7206 - val_accuracy: 0.8640\n",
            "Epoch 84/100\n",
            "219/219 [==============================] - 3s 13ms/step - loss: 0.1029 - accuracy: 0.9653 - val_loss: 0.8637 - val_accuracy: 0.8645\n",
            "Epoch 85/100\n",
            "219/219 [==============================] - 3s 13ms/step - loss: 0.1039 - accuracy: 0.9643 - val_loss: 0.7842 - val_accuracy: 0.8680\n",
            "Epoch 86/100\n",
            "219/219 [==============================] - 3s 13ms/step - loss: 0.1039 - accuracy: 0.9641 - val_loss: 0.7517 - val_accuracy: 0.8678\n",
            "Epoch 87/100\n",
            "219/219 [==============================] - 3s 13ms/step - loss: 0.0984 - accuracy: 0.9669 - val_loss: 0.8440 - val_accuracy: 0.8625\n",
            "Epoch 88/100\n",
            "219/219 [==============================] - 3s 13ms/step - loss: 0.1179 - accuracy: 0.9615 - val_loss: 0.7310 - val_accuracy: 0.8678\n",
            "Epoch 89/100\n",
            "219/219 [==============================] - 3s 11ms/step - loss: 0.1067 - accuracy: 0.9636 - val_loss: 0.7530 - val_accuracy: 0.8680\n",
            "Epoch 90/100\n",
            "219/219 [==============================] - 3s 13ms/step - loss: 0.0981 - accuracy: 0.9646 - val_loss: 0.7661 - val_accuracy: 0.8655\n",
            "Epoch 91/100\n",
            "219/219 [==============================] - 3s 12ms/step - loss: 0.1073 - accuracy: 0.9631 - val_loss: 0.7040 - val_accuracy: 0.8685\n",
            "Epoch 92/100\n",
            "219/219 [==============================] - 3s 11ms/step - loss: 0.1017 - accuracy: 0.9641 - val_loss: 0.7279 - val_accuracy: 0.8687\n",
            "Epoch 93/100\n",
            "219/219 [==============================] - 3s 12ms/step - loss: 0.1150 - accuracy: 0.9606 - val_loss: 0.7679 - val_accuracy: 0.8715\n",
            "Epoch 94/100\n",
            "219/219 [==============================] - 3s 15ms/step - loss: 0.1112 - accuracy: 0.9610 - val_loss: 0.7815 - val_accuracy: 0.8675\n",
            "Epoch 95/100\n",
            "219/219 [==============================] - 4s 17ms/step - loss: 0.1152 - accuracy: 0.9631 - val_loss: 0.8378 - val_accuracy: 0.8660\n",
            "Epoch 96/100\n",
            "219/219 [==============================] - 4s 17ms/step - loss: 0.0943 - accuracy: 0.9670 - val_loss: 0.8486 - val_accuracy: 0.8623\n",
            "Epoch 97/100\n",
            "219/219 [==============================] - 4s 17ms/step - loss: 0.0922 - accuracy: 0.9684 - val_loss: 0.7999 - val_accuracy: 0.8645\n",
            "Epoch 98/100\n",
            "219/219 [==============================] - 3s 13ms/step - loss: 0.0905 - accuracy: 0.9694 - val_loss: 0.8922 - val_accuracy: 0.8757\n",
            "Epoch 99/100\n",
            "219/219 [==============================] - 3s 13ms/step - loss: 0.1040 - accuracy: 0.9663 - val_loss: 0.8197 - val_accuracy: 0.8678\n",
            "Epoch 100/100\n",
            "219/219 [==============================] - 3s 13ms/step - loss: 0.0973 - accuracy: 0.9672 - val_loss: 0.8561 - val_accuracy: 0.8665\n"
          ]
        },
        {
          "output_type": "execute_result",
          "data": {
            "text/plain": [
              "<keras.callbacks.History at 0x7f9ea835cd50>"
            ]
          },
          "metadata": {},
          "execution_count": 185
        }
      ],
      "source": [
        "#######HYPERPARAMATERS###########\n",
        "epochs = 100\n",
        "batch_size = 64\n",
        "learning_rate = 0.001\n",
        "#################################\n",
        "  \n",
        "model = Sequential()\n",
        "    \n",
        "model.add(Conv2D(32, kernel_size = (3,3), input_shape=(28,28,1), activation='relu'))\n",
        "model.add(Conv2D(64,(3,3), activation='relu'))\n",
        "model.add(MaxPooling2D(pool_size=2))\n",
        "model.add(PermaDropout(0.5))\n",
        "model.add(Flatten())\n",
        "model.add(Dense(128, activation='relu'))\n",
        "model.add(PermaDropout(0.5))\n",
        "model.add(Dense(10, activation='softmax'))\n",
        "adam = keras.optimizers.Adam(learning_rate)\n",
        "model.compile(optimizer = adam, loss = 'sparse_categorical_crossentropy', metrics = ['accuracy'])\n",
        "    \n",
        "# print(model.summary())\n",
        "\n",
        "lr_reducer = ReduceLROnPlateau(monitor='val_loss', factor=0.9, patience=3)\n",
        "early_stopper = EarlyStopping(monitor='val_accuracy', min_delta=0, patience=30, mode='auto')\n",
        "checkpointer = ModelCheckpoint('weights.hd5', monitor='val_loss', verbose=1, save_best_only=True)\n",
        "\n",
        "model.fit(\n",
        "          train_data,\n",
        "          train_labels,\n",
        "          epochs = epochs,\n",
        "          batch_size = batch_size,\n",
        "          validation_split = 0.3,\n",
        "          shuffle = True\n",
        "          )"
      ]
    },
    {
      "cell_type": "code",
      "execution_count": 186,
      "metadata": {
        "id": "LVOc3hYIkXrl"
      },
      "outputs": [],
      "source": [
        "model.save('/content/drive/MyDrive/파이썬스터디 프로젝트/labeling_cnn.h5')"
      ]
    },
    {
      "cell_type": "code",
      "execution_count": 187,
      "metadata": {
        "id": "n5D8i_BCkdjS"
      },
      "outputs": [],
      "source": [
        "model = keras.models.load_model('/content/drive/MyDrive/파이썬스터디 프로젝트/labeling_cnn.h5')"
      ]
    },
    {
      "cell_type": "markdown",
      "metadata": {
        "id": "TD8ppILhFUrz"
      },
      "source": [
        "## 모델 결과"
      ]
    },
    {
      "cell_type": "code",
      "execution_count": 188,
      "metadata": {
        "id": "7Ljx2EWA2v2n"
      },
      "outputs": [],
      "source": [
        "def model_eval():\n",
        "  pred_mu = model.predict(test_data)\n",
        "  for i in range(1, 30):\n",
        "    pred_mu += model.predict(test_data)\n",
        "  pred_mu = pred_mu/30\n",
        "  predicted_test_labels = np.argmax(pred_mu, axis=1)\n",
        "  return(accuracy_score(test_labels, predicted_test_labels))"
      ]
    },
    {
      "cell_type": "code",
      "execution_count": 189,
      "metadata": {
        "id": "OzhQw9NOWjl3",
        "colab": {
          "base_uri": "https://localhost:8080/"
        },
        "outputId": "7744199d-0fde-4ba8-e2da-9b90bf08e1dd"
      },
      "outputs": [
        {
          "output_type": "execute_result",
          "data": {
            "text/plain": [
              "0.8981"
            ]
          },
          "metadata": {},
          "execution_count": 189
        }
      ],
      "source": [
        "model = keras.models.load_model('/content/drive/MyDrive/파이썬스터디 프로젝트/labeling_cnn.h5')\n",
        "model_eval() #0.89xx"
      ]
    },
    {
      "cell_type": "markdown",
      "source": [
        "# 라벨링"
      ],
      "metadata": {
        "id": "rcbs04885lTu"
      }
    },
    {
      "cell_type": "markdown",
      "source": [
        "## 라벨링; 1"
      ],
      "metadata": {
        "id": "mAtfoQKLZDJC"
      }
    },
    {
      "cell_type": "code",
      "source": [
        "model = keras.models.load_model('/content/drive/MyDrive/파이썬스터디 프로젝트/labeling_cnn.h5')"
      ],
      "metadata": {
        "id": "GKJgmFGWhlfl"
      },
      "execution_count": null,
      "outputs": []
    },
    {
      "cell_type": "code",
      "source": [
        "# Vars : 분산들\n",
        "# Outs : 결과 값들\n",
        "\n",
        "Vars = []\n",
        "Outs = []\n",
        "\n",
        "temp1 = []\n",
        "\n",
        "for i in tqdm(range(30)):\n",
        "  temp1.append(model.predict(unlab_data))\n",
        "\n",
        "for j in tqdm(range(unlab_data.shape[0])):\n",
        "\n",
        "  temp2 = np.array([0,0,0,0,0,0,0,0,0,0], 'float32')\n",
        "  \n",
        "  for i in range(30):\n",
        "    temp2 += temp1[i][j]\n",
        "  Outs.append(np.argmax(temp2))\n",
        "  \n",
        "  outputs=[]\n",
        "\n",
        "  for i in range(30):\n",
        "    outputs.append(temp1[i][j][np.argmax(temp2)])\n",
        "  Vars.append(np.var(outputs))"
      ],
      "metadata": {
        "colab": {
          "base_uri": "https://localhost:8080/"
        },
        "id": "J_Jb5VX9ZC3y",
        "outputId": "9272245e-026f-4d32-f873-e9723bbcbcca"
      },
      "execution_count": 191,
      "outputs": [
        {
          "output_type": "stream",
          "name": "stderr",
          "text": [
            "100%|██████████| 30/30 [02:11<00:00,  4.39s/it]\n",
            "100%|██████████| 40000/40000 [00:07<00:00, 5315.47it/s]\n"
          ]
        }
      ]
    },
    {
      "cell_type": "code",
      "source": [
        "lowvars = []\n",
        "ind = 0 \n",
        "\n",
        "for i in Vars:\n",
        "  if i < 1e-5:\n",
        "    lowvars.append(ind)\n",
        "  ind += 1"
      ],
      "metadata": {
        "id": "6BUHoKvtkJ37"
      },
      "execution_count": 192,
      "outputs": []
    },
    {
      "cell_type": "code",
      "source": [
        "highvars = []\n",
        "for i in range(unlab_data.shape[0]):\n",
        "  if i not in lowvars:\n",
        "    highvars.append(i)"
      ],
      "metadata": {
        "id": "9WhEDezq362P"
      },
      "execution_count": 209,
      "outputs": []
    },
    {
      "cell_type": "code",
      "source": [
        "# 같은 길이의 랜덤하게 고른 data들에 모델로 label 부여 후 정확도 측정 : 0.90x\n",
        "randomindx = random.sample(range(40000), len(lowvars))\n",
        "accuracy_score(np.array(Outs)[randomindx], unlab_labels[randomindx])"
      ],
      "metadata": {
        "colab": {
          "base_uri": "https://localhost:8080/"
        },
        "id": "0uSdhE1VmF5a",
        "outputId": "a3bacbdd-6a01-40b8-ca90-b7a6c48acba3"
      },
      "execution_count": 193,
      "outputs": [
        {
          "output_type": "execute_result",
          "data": {
            "text/plain": [
              "0.9064558629776021"
            ]
          },
          "metadata": {},
          "execution_count": 193
        }
      ]
    },
    {
      "cell_type": "code",
      "source": [
        "# 저분산의 data들만 모아서 모델로 label 부여 후 정확도 측정 : 0.99x\n",
        "accuracy_score(np.array(Outs)[lowvars], unlab_labels[lowvars])"
      ],
      "metadata": {
        "colab": {
          "base_uri": "https://localhost:8080/"
        },
        "id": "gtEPD5p5kM-z",
        "outputId": "6bd3d042-581a-43a1-d490-3f6a1b71af10"
      },
      "execution_count": 194,
      "outputs": [
        {
          "output_type": "execute_result",
          "data": {
            "text/plain": [
              "0.9978232227759638"
            ]
          },
          "metadata": {},
          "execution_count": 194
        }
      ]
    },
    {
      "cell_type": "code",
      "source": [
        "train_data = np.concatenate([train_data, unlab_data[lowvars]], axis=0)\n",
        "train_labels = np.concatenate([train_labels, unlab_labels[lowvars]], axis=0)"
      ],
      "metadata": {
        "id": "C2ab4GUWwe30"
      },
      "execution_count": 199,
      "outputs": []
    },
    {
      "cell_type": "code",
      "source": [
        "shufindx = random.sample(range(train_data.shape[0]),train_data.shape[0])\n",
        "train_data = train_data[shufindx]\n",
        "train_labels = train_labels[shufindx]"
      ],
      "metadata": {
        "id": "1xahhoBY8mKc"
      },
      "execution_count": 218,
      "outputs": []
    },
    {
      "cell_type": "code",
      "source": [
        "unlab_data = unlab_data[highvars]\n",
        "unlab_labels = unlab_labels[highvars]"
      ],
      "metadata": {
        "id": "_t9J8vlJ5TDO"
      },
      "execution_count": 212,
      "outputs": []
    },
    {
      "cell_type": "markdown",
      "source": [
        "## 모델링; 1"
      ],
      "metadata": {
        "id": "bOtFA9fr5oDF"
      }
    },
    {
      "cell_type": "code",
      "execution_count": 219,
      "metadata": {
        "id": "m7Pd9SYK5tv_"
      },
      "outputs": [],
      "source": [
        "def PermaDropout(rate):\n",
        "    return Lambda(lambda x: K.dropout(x, level=rate))"
      ]
    },
    {
      "cell_type": "code",
      "execution_count": 220,
      "metadata": {
        "colab": {
          "base_uri": "https://localhost:8080/"
        },
        "outputId": "9bcbd04f-452a-46c2-84e0-55636a9ecada",
        "id": "W6WgyM3Y5twA"
      },
      "outputs": [
        {
          "output_type": "stream",
          "name": "stdout",
          "text": [
            "Epoch 1/100\n",
            "410/410 [==============================] - 6s 14ms/step - loss: 1.2060 - accuracy: 0.8210 - val_loss: 0.3612 - val_accuracy: 0.8748\n",
            "Epoch 2/100\n",
            "410/410 [==============================] - 5s 13ms/step - loss: 0.3321 - accuracy: 0.8844 - val_loss: 0.3173 - val_accuracy: 0.8889\n",
            "Epoch 3/100\n",
            "410/410 [==============================] - 5s 11ms/step - loss: 0.3030 - accuracy: 0.8967 - val_loss: 0.3121 - val_accuracy: 0.8933\n",
            "Epoch 4/100\n",
            "410/410 [==============================] - 5s 13ms/step - loss: 0.2707 - accuracy: 0.9037 - val_loss: 0.2941 - val_accuracy: 0.9007\n",
            "Epoch 5/100\n",
            "410/410 [==============================] - 5s 11ms/step - loss: 0.2480 - accuracy: 0.9125 - val_loss: 0.2856 - val_accuracy: 0.9071\n",
            "Epoch 6/100\n",
            "410/410 [==============================] - 6s 14ms/step - loss: 0.2385 - accuracy: 0.9149 - val_loss: 0.2745 - val_accuracy: 0.9065\n",
            "Epoch 7/100\n",
            "410/410 [==============================] - 5s 12ms/step - loss: 0.2179 - accuracy: 0.9200 - val_loss: 0.2930 - val_accuracy: 0.9043\n",
            "Epoch 8/100\n",
            "410/410 [==============================] - 5s 11ms/step - loss: 0.2129 - accuracy: 0.9221 - val_loss: 0.2688 - val_accuracy: 0.9064\n",
            "Epoch 9/100\n",
            "410/410 [==============================] - 5s 13ms/step - loss: 0.2066 - accuracy: 0.9251 - val_loss: 0.2701 - val_accuracy: 0.9075\n",
            "Epoch 10/100\n",
            "410/410 [==============================] - 5s 11ms/step - loss: 0.1953 - accuracy: 0.9267 - val_loss: 0.2606 - val_accuracy: 0.9162\n",
            "Epoch 11/100\n",
            "410/410 [==============================] - 5s 13ms/step - loss: 0.1861 - accuracy: 0.9325 - val_loss: 0.2658 - val_accuracy: 0.9140\n",
            "Epoch 12/100\n",
            "410/410 [==============================] - 5s 13ms/step - loss: 0.1781 - accuracy: 0.9346 - val_loss: 0.2712 - val_accuracy: 0.9124\n",
            "Epoch 13/100\n",
            "410/410 [==============================] - 5s 11ms/step - loss: 0.1805 - accuracy: 0.9329 - val_loss: 0.2611 - val_accuracy: 0.9164\n",
            "Epoch 14/100\n",
            "410/410 [==============================] - 5s 11ms/step - loss: 0.1718 - accuracy: 0.9365 - val_loss: 0.2790 - val_accuracy: 0.9116\n",
            "Epoch 15/100\n",
            "410/410 [==============================] - 5s 11ms/step - loss: 0.1691 - accuracy: 0.9374 - val_loss: 0.2699 - val_accuracy: 0.9195\n",
            "Epoch 16/100\n",
            "410/410 [==============================] - 6s 14ms/step - loss: 0.1633 - accuracy: 0.9373 - val_loss: 0.2727 - val_accuracy: 0.9202\n",
            "Epoch 17/100\n",
            "410/410 [==============================] - 5s 13ms/step - loss: 0.1579 - accuracy: 0.9428 - val_loss: 0.2731 - val_accuracy: 0.9184\n",
            "Epoch 18/100\n",
            "410/410 [==============================] - 5s 13ms/step - loss: 0.1490 - accuracy: 0.9461 - val_loss: 0.2822 - val_accuracy: 0.9206\n",
            "Epoch 19/100\n",
            "410/410 [==============================] - 5s 13ms/step - loss: 0.1487 - accuracy: 0.9460 - val_loss: 0.2826 - val_accuracy: 0.9184\n",
            "Epoch 20/100\n",
            "410/410 [==============================] - 5s 13ms/step - loss: 0.1449 - accuracy: 0.9453 - val_loss: 0.2697 - val_accuracy: 0.9237\n",
            "Epoch 21/100\n",
            "410/410 [==============================] - 5s 13ms/step - loss: 0.1479 - accuracy: 0.9469 - val_loss: 0.2712 - val_accuracy: 0.9189\n",
            "Epoch 22/100\n",
            "410/410 [==============================] - 5s 13ms/step - loss: 0.1374 - accuracy: 0.9495 - val_loss: 0.2912 - val_accuracy: 0.9211\n",
            "Epoch 23/100\n",
            "410/410 [==============================] - 5s 11ms/step - loss: 0.1399 - accuracy: 0.9501 - val_loss: 0.2636 - val_accuracy: 0.9209\n",
            "Epoch 24/100\n",
            "410/410 [==============================] - 5s 13ms/step - loss: 0.1304 - accuracy: 0.9533 - val_loss: 0.2750 - val_accuracy: 0.9217\n",
            "Epoch 25/100\n",
            "410/410 [==============================] - 5s 13ms/step - loss: 0.1332 - accuracy: 0.9517 - val_loss: 0.2795 - val_accuracy: 0.9221\n",
            "Epoch 26/100\n",
            "410/410 [==============================] - 5s 13ms/step - loss: 0.1281 - accuracy: 0.9526 - val_loss: 0.2893 - val_accuracy: 0.9200\n",
            "Epoch 27/100\n",
            "410/410 [==============================] - 5s 13ms/step - loss: 0.1281 - accuracy: 0.9534 - val_loss: 0.2582 - val_accuracy: 0.9238\n",
            "Epoch 28/100\n",
            "410/410 [==============================] - 5s 13ms/step - loss: 0.1208 - accuracy: 0.9543 - val_loss: 0.2738 - val_accuracy: 0.9229\n",
            "Epoch 29/100\n",
            "410/410 [==============================] - 5s 13ms/step - loss: 0.1206 - accuracy: 0.9568 - val_loss: 0.2886 - val_accuracy: 0.9182\n",
            "Epoch 30/100\n",
            "410/410 [==============================] - 5s 11ms/step - loss: 0.1196 - accuracy: 0.9566 - val_loss: 0.3019 - val_accuracy: 0.9250\n",
            "Epoch 31/100\n",
            "410/410 [==============================] - 5s 13ms/step - loss: 0.1267 - accuracy: 0.9556 - val_loss: 0.2989 - val_accuracy: 0.9262\n",
            "Epoch 32/100\n",
            "410/410 [==============================] - 5s 11ms/step - loss: 0.1159 - accuracy: 0.9592 - val_loss: 0.2831 - val_accuracy: 0.9239\n",
            "Epoch 33/100\n",
            "410/410 [==============================] - 5s 13ms/step - loss: 0.1194 - accuracy: 0.9589 - val_loss: 0.2884 - val_accuracy: 0.9274\n",
            "Epoch 34/100\n",
            "410/410 [==============================] - 5s 13ms/step - loss: 0.1060 - accuracy: 0.9622 - val_loss: 0.2688 - val_accuracy: 0.9257\n",
            "Epoch 35/100\n",
            "410/410 [==============================] - 5s 11ms/step - loss: 0.1076 - accuracy: 0.9606 - val_loss: 0.3224 - val_accuracy: 0.9160\n",
            "Epoch 36/100\n",
            "410/410 [==============================] - 5s 11ms/step - loss: 0.1101 - accuracy: 0.9600 - val_loss: 0.3211 - val_accuracy: 0.9277\n",
            "Epoch 37/100\n",
            "410/410 [==============================] - 5s 13ms/step - loss: 0.1065 - accuracy: 0.9617 - val_loss: 0.2762 - val_accuracy: 0.9261\n",
            "Epoch 38/100\n",
            "410/410 [==============================] - 5s 11ms/step - loss: 0.1029 - accuracy: 0.9616 - val_loss: 0.3171 - val_accuracy: 0.9270\n",
            "Epoch 39/100\n",
            "410/410 [==============================] - 5s 13ms/step - loss: 0.1054 - accuracy: 0.9618 - val_loss: 0.3053 - val_accuracy: 0.9269\n",
            "Epoch 40/100\n",
            "410/410 [==============================] - 5s 13ms/step - loss: 0.1023 - accuracy: 0.9632 - val_loss: 0.3217 - val_accuracy: 0.9254\n",
            "Epoch 41/100\n",
            "410/410 [==============================] - 5s 13ms/step - loss: 0.0984 - accuracy: 0.9649 - val_loss: 0.3429 - val_accuracy: 0.9256\n",
            "Epoch 42/100\n",
            "410/410 [==============================] - 5s 13ms/step - loss: 0.0986 - accuracy: 0.9643 - val_loss: 0.3278 - val_accuracy: 0.9256\n",
            "Epoch 43/100\n",
            "410/410 [==============================] - 5s 12ms/step - loss: 0.0992 - accuracy: 0.9646 - val_loss: 0.2974 - val_accuracy: 0.9253\n",
            "Epoch 44/100\n",
            "410/410 [==============================] - 5s 12ms/step - loss: 0.0955 - accuracy: 0.9663 - val_loss: 0.3280 - val_accuracy: 0.9293\n",
            "Epoch 45/100\n",
            "410/410 [==============================] - 5s 13ms/step - loss: 0.1017 - accuracy: 0.9638 - val_loss: 0.3330 - val_accuracy: 0.9245\n",
            "Epoch 46/100\n",
            "410/410 [==============================] - 5s 11ms/step - loss: 0.0954 - accuracy: 0.9660 - val_loss: 0.3704 - val_accuracy: 0.9224\n",
            "Epoch 47/100\n",
            "410/410 [==============================] - 5s 13ms/step - loss: 0.1016 - accuracy: 0.9644 - val_loss: 0.3367 - val_accuracy: 0.9258\n",
            "Epoch 48/100\n",
            "410/410 [==============================] - 5s 13ms/step - loss: 0.0993 - accuracy: 0.9652 - val_loss: 0.3306 - val_accuracy: 0.9277\n",
            "Epoch 49/100\n",
            "410/410 [==============================] - 5s 11ms/step - loss: 0.0923 - accuracy: 0.9674 - val_loss: 0.3358 - val_accuracy: 0.9290\n",
            "Epoch 50/100\n",
            "410/410 [==============================] - 5s 13ms/step - loss: 0.0870 - accuracy: 0.9703 - val_loss: 0.3495 - val_accuracy: 0.9262\n",
            "Epoch 51/100\n",
            "410/410 [==============================] - 5s 11ms/step - loss: 0.0930 - accuracy: 0.9674 - val_loss: 0.3924 - val_accuracy: 0.9278\n",
            "Epoch 52/100\n",
            "410/410 [==============================] - 5s 11ms/step - loss: 0.0838 - accuracy: 0.9704 - val_loss: 0.3594 - val_accuracy: 0.9294\n",
            "Epoch 53/100\n",
            "410/410 [==============================] - 5s 13ms/step - loss: 0.0928 - accuracy: 0.9669 - val_loss: 0.3692 - val_accuracy: 0.9274\n",
            "Epoch 54/100\n",
            "410/410 [==============================] - 5s 13ms/step - loss: 0.0982 - accuracy: 0.9670 - val_loss: 0.3591 - val_accuracy: 0.9303\n",
            "Epoch 55/100\n",
            "410/410 [==============================] - 5s 11ms/step - loss: 0.0914 - accuracy: 0.9692 - val_loss: 0.3282 - val_accuracy: 0.9276\n",
            "Epoch 56/100\n",
            "410/410 [==============================] - 5s 13ms/step - loss: 0.0829 - accuracy: 0.9718 - val_loss: 0.3575 - val_accuracy: 0.9282\n",
            "Epoch 57/100\n",
            "410/410 [==============================] - 5s 11ms/step - loss: 0.0909 - accuracy: 0.9688 - val_loss: 0.3484 - val_accuracy: 0.9272\n",
            "Epoch 58/100\n",
            "410/410 [==============================] - 5s 13ms/step - loss: 0.0842 - accuracy: 0.9701 - val_loss: 0.3744 - val_accuracy: 0.9261\n",
            "Epoch 59/100\n",
            "410/410 [==============================] - 5s 13ms/step - loss: 0.0822 - accuracy: 0.9713 - val_loss: 0.3726 - val_accuracy: 0.9295\n",
            "Epoch 60/100\n",
            "410/410 [==============================] - 5s 11ms/step - loss: 0.0833 - accuracy: 0.9716 - val_loss: 0.3943 - val_accuracy: 0.9276\n",
            "Epoch 61/100\n",
            "410/410 [==============================] - 5s 13ms/step - loss: 0.0784 - accuracy: 0.9733 - val_loss: 0.3604 - val_accuracy: 0.9236\n",
            "Epoch 62/100\n",
            "410/410 [==============================] - 5s 11ms/step - loss: 0.0841 - accuracy: 0.9724 - val_loss: 0.3666 - val_accuracy: 0.9294\n",
            "Epoch 63/100\n",
            "410/410 [==============================] - 5s 13ms/step - loss: 0.0803 - accuracy: 0.9717 - val_loss: 0.4103 - val_accuracy: 0.9274\n",
            "Epoch 64/100\n",
            "410/410 [==============================] - 5s 11ms/step - loss: 0.0871 - accuracy: 0.9718 - val_loss: 0.3843 - val_accuracy: 0.9238\n",
            "Epoch 65/100\n",
            "410/410 [==============================] - 5s 13ms/step - loss: 0.0826 - accuracy: 0.9712 - val_loss: 0.4640 - val_accuracy: 0.9243\n",
            "Epoch 66/100\n",
            "410/410 [==============================] - 5s 13ms/step - loss: 0.0793 - accuracy: 0.9725 - val_loss: 0.3688 - val_accuracy: 0.9282\n",
            "Epoch 67/100\n",
            "410/410 [==============================] - 5s 13ms/step - loss: 0.0811 - accuracy: 0.9714 - val_loss: 0.3753 - val_accuracy: 0.9304\n",
            "Epoch 68/100\n",
            "410/410 [==============================] - 5s 13ms/step - loss: 0.0800 - accuracy: 0.9721 - val_loss: 0.3712 - val_accuracy: 0.9295\n",
            "Epoch 69/100\n",
            "410/410 [==============================] - 5s 11ms/step - loss: 0.0790 - accuracy: 0.9726 - val_loss: 0.3718 - val_accuracy: 0.9286\n",
            "Epoch 70/100\n",
            "410/410 [==============================] - 5s 11ms/step - loss: 0.0773 - accuracy: 0.9736 - val_loss: 0.4330 - val_accuracy: 0.9285\n",
            "Epoch 71/100\n",
            "410/410 [==============================] - 5s 13ms/step - loss: 0.0869 - accuracy: 0.9711 - val_loss: 0.3491 - val_accuracy: 0.9274\n",
            "Epoch 72/100\n",
            "410/410 [==============================] - 5s 11ms/step - loss: 0.0775 - accuracy: 0.9745 - val_loss: 0.3951 - val_accuracy: 0.9336\n",
            "Epoch 73/100\n",
            "410/410 [==============================] - 5s 13ms/step - loss: 0.0831 - accuracy: 0.9732 - val_loss: 0.4122 - val_accuracy: 0.9273\n",
            "Epoch 74/100\n",
            "410/410 [==============================] - 5s 11ms/step - loss: 0.0750 - accuracy: 0.9739 - val_loss: 0.4087 - val_accuracy: 0.9321\n",
            "Epoch 75/100\n",
            "410/410 [==============================] - 5s 13ms/step - loss: 0.0870 - accuracy: 0.9720 - val_loss: 0.4426 - val_accuracy: 0.9298\n",
            "Epoch 76/100\n",
            "410/410 [==============================] - 5s 12ms/step - loss: 0.0812 - accuracy: 0.9738 - val_loss: 0.3793 - val_accuracy: 0.9308\n",
            "Epoch 77/100\n",
            "410/410 [==============================] - 5s 13ms/step - loss: 0.0724 - accuracy: 0.9759 - val_loss: 0.4817 - val_accuracy: 0.9285\n",
            "Epoch 78/100\n",
            "410/410 [==============================] - 5s 13ms/step - loss: 0.0809 - accuracy: 0.9737 - val_loss: 0.4232 - val_accuracy: 0.9314\n",
            "Epoch 79/100\n",
            "410/410 [==============================] - 5s 13ms/step - loss: 0.0738 - accuracy: 0.9740 - val_loss: 0.4330 - val_accuracy: 0.9291\n",
            "Epoch 80/100\n",
            "410/410 [==============================] - 5s 11ms/step - loss: 0.0762 - accuracy: 0.9744 - val_loss: 0.4021 - val_accuracy: 0.9231\n",
            "Epoch 81/100\n",
            "410/410 [==============================] - 5s 13ms/step - loss: 0.0766 - accuracy: 0.9748 - val_loss: 0.3953 - val_accuracy: 0.9239\n",
            "Epoch 82/100\n",
            "410/410 [==============================] - 5s 12ms/step - loss: 0.0735 - accuracy: 0.9754 - val_loss: 0.4325 - val_accuracy: 0.9277\n",
            "Epoch 83/100\n",
            "410/410 [==============================] - 5s 13ms/step - loss: 0.0771 - accuracy: 0.9744 - val_loss: 0.4324 - val_accuracy: 0.9285\n",
            "Epoch 84/100\n",
            "410/410 [==============================] - 5s 13ms/step - loss: 0.0736 - accuracy: 0.9758 - val_loss: 0.4336 - val_accuracy: 0.9304\n",
            "Epoch 85/100\n",
            "410/410 [==============================] - 5s 12ms/step - loss: 0.0755 - accuracy: 0.9753 - val_loss: 0.4474 - val_accuracy: 0.9247\n",
            "Epoch 86/100\n",
            "410/410 [==============================] - 5s 13ms/step - loss: 0.0744 - accuracy: 0.9767 - val_loss: 0.5416 - val_accuracy: 0.9281\n",
            "Epoch 87/100\n",
            "410/410 [==============================] - 5s 11ms/step - loss: 0.0776 - accuracy: 0.9736 - val_loss: 0.3886 - val_accuracy: 0.9254\n",
            "Epoch 88/100\n",
            "410/410 [==============================] - 5s 11ms/step - loss: 0.0739 - accuracy: 0.9753 - val_loss: 0.4382 - val_accuracy: 0.9315\n",
            "Epoch 89/100\n",
            "410/410 [==============================] - 5s 13ms/step - loss: 0.0692 - accuracy: 0.9776 - val_loss: 0.4619 - val_accuracy: 0.9263\n",
            "Epoch 90/100\n",
            "410/410 [==============================] - 5s 13ms/step - loss: 0.0770 - accuracy: 0.9740 - val_loss: 0.4015 - val_accuracy: 0.9279\n",
            "Epoch 91/100\n",
            "410/410 [==============================] - 5s 13ms/step - loss: 0.0713 - accuracy: 0.9754 - val_loss: 0.4230 - val_accuracy: 0.9253\n",
            "Epoch 92/100\n",
            "410/410 [==============================] - 5s 13ms/step - loss: 0.0748 - accuracy: 0.9752 - val_loss: 0.4508 - val_accuracy: 0.9269\n",
            "Epoch 93/100\n",
            "410/410 [==============================] - 5s 13ms/step - loss: 0.0753 - accuracy: 0.9756 - val_loss: 0.4787 - val_accuracy: 0.9279\n",
            "Epoch 94/100\n",
            "410/410 [==============================] - 5s 12ms/step - loss: 0.0750 - accuracy: 0.9767 - val_loss: 0.4388 - val_accuracy: 0.9293\n",
            "Epoch 95/100\n",
            "410/410 [==============================] - 5s 13ms/step - loss: 0.0636 - accuracy: 0.9795 - val_loss: 0.4302 - val_accuracy: 0.9255\n",
            "Epoch 96/100\n",
            "410/410 [==============================] - 5s 13ms/step - loss: 0.0793 - accuracy: 0.9757 - val_loss: 0.3929 - val_accuracy: 0.9214\n",
            "Epoch 97/100\n",
            "410/410 [==============================] - 5s 13ms/step - loss: 0.0940 - accuracy: 0.9718 - val_loss: 0.4575 - val_accuracy: 0.9244\n",
            "Epoch 98/100\n",
            "410/410 [==============================] - 5s 12ms/step - loss: 0.0874 - accuracy: 0.9723 - val_loss: 0.4843 - val_accuracy: 0.9247\n",
            "Epoch 99/100\n",
            "410/410 [==============================] - 5s 12ms/step - loss: 0.0684 - accuracy: 0.9760 - val_loss: 0.4537 - val_accuracy: 0.9310\n",
            "Epoch 100/100\n",
            "410/410 [==============================] - 5s 13ms/step - loss: 0.0638 - accuracy: 0.9793 - val_loss: 0.4866 - val_accuracy: 0.9277\n"
          ]
        },
        {
          "output_type": "execute_result",
          "data": {
            "text/plain": [
              "<keras.callbacks.History at 0x7f9e275c1350>"
            ]
          },
          "metadata": {},
          "execution_count": 220
        }
      ],
      "source": [
        "#######HYPERPARAMATERS###########\n",
        "epochs = 100\n",
        "batch_size = 64\n",
        "learning_rate = 0.001\n",
        "#################################\n",
        "  \n",
        "model = Sequential()\n",
        "    \n",
        "model.add(Conv2D(32, kernel_size = (3,3), input_shape=(28,28,1), activation='relu'))\n",
        "model.add(Conv2D(64,(3,3), activation='relu'))\n",
        "model.add(MaxPooling2D(pool_size=2))\n",
        "model.add(PermaDropout(0.5))\n",
        "model.add(Flatten())\n",
        "model.add(Dense(128, activation='relu'))\n",
        "model.add(PermaDropout(0.5))\n",
        "model.add(Dense(10, activation='softmax'))\n",
        "adam = keras.optimizers.Adam(learning_rate)\n",
        "model.compile(optimizer = adam, loss = 'sparse_categorical_crossentropy', metrics = ['accuracy'])\n",
        "    \n",
        "# print(model.summary())\n",
        "\n",
        "lr_reducer = ReduceLROnPlateau(monitor='val_loss', factor=0.9, patience=3)\n",
        "early_stopper = EarlyStopping(monitor='val_accuracy', min_delta=0, patience=30, mode='auto')\n",
        "checkpointer = ModelCheckpoint('weights.hd5', monitor='val_loss', verbose=1, save_best_only=True)\n",
        "\n",
        "model.fit(\n",
        "          train_data,\n",
        "          train_labels,\n",
        "          epochs = epochs,\n",
        "          batch_size = batch_size,\n",
        "          validation_split = 0.3,\n",
        "          shuffle = True\n",
        "          )"
      ]
    },
    {
      "cell_type": "code",
      "execution_count": 221,
      "metadata": {
        "id": "9_zB1OL252B3"
      },
      "outputs": [],
      "source": [
        "model.save('/content/drive/MyDrive/파이썬스터디 프로젝트/labeling_cnn2.h5')"
      ]
    },
    {
      "cell_type": "code",
      "execution_count": 223,
      "metadata": {
        "colab": {
          "base_uri": "https://localhost:8080/"
        },
        "id": "BbEZKkhn52B4",
        "outputId": "8198e314-c016-4276-8933-b3e3251e34a3"
      },
      "outputs": [
        {
          "output_type": "execute_result",
          "data": {
            "text/plain": [
              "0.8939"
            ]
          },
          "metadata": {},
          "execution_count": 223
        }
      ],
      "source": [
        "model = keras.models.load_model('/content/drive/MyDrive/파이썬스터디 프로젝트/labeling_cnn2.h5')\n",
        "model_eval() #0.89xx"
      ]
    },
    {
      "cell_type": "markdown",
      "source": [
        "## 라벨링; 2"
      ],
      "metadata": {
        "id": "-7sEYnhC6Atv"
      }
    },
    {
      "cell_type": "code",
      "source": [
        "model = keras.models.load_model('/content/drive/MyDrive/파이썬스터디 프로젝트/labeling_cnn2.h5')"
      ],
      "metadata": {
        "id": "cbBFrnmf6HK1"
      },
      "execution_count": 226,
      "outputs": []
    },
    {
      "cell_type": "code",
      "source": [
        "# Vars : 분산들\n",
        "# Outs : 결과 값들\n",
        "\n",
        "Vars = []\n",
        "Outs = []\n",
        "\n",
        "temp1 = []\n",
        "\n",
        "for i in tqdm(range(30)):\n",
        "  temp1.append(model.predict(unlab_data))\n",
        "\n",
        "for j in tqdm(range(unlab_data.shape[0])):\n",
        "\n",
        "  temp2 = np.array([0,0,0,0,0,0,0,0,0,0], 'float32')\n",
        "  \n",
        "  for i in range(30):\n",
        "    temp2 += temp1[i][j]\n",
        "  Outs.append(np.argmax(temp2))\n",
        "  \n",
        "  outputs=[]\n",
        "\n",
        "  for i in range(30):\n",
        "    outputs.append(temp1[i][j][np.argmax(temp2)])\n",
        "  Vars.append(np.var(outputs))"
      ],
      "metadata": {
        "colab": {
          "base_uri": "https://localhost:8080/"
        },
        "outputId": "8781cf53-626c-4275-f2ff-582b8f7e7965",
        "id": "XZq8Vqzp6Atw"
      },
      "execution_count": 227,
      "outputs": [
        {
          "output_type": "stream",
          "name": "stderr",
          "text": [
            "100%|██████████| 30/30 [01:07<00:00,  2.25s/it]\n",
            "100%|██████████| 22543/22543 [00:04<00:00, 5289.37it/s]\n"
          ]
        }
      ]
    },
    {
      "cell_type": "code",
      "source": [
        "lowvars = []\n",
        "ind = 0 \n",
        "\n",
        "for i in Vars:\n",
        "  if i < 1e-5:\n",
        "    lowvars.append(ind)\n",
        "  ind += 1"
      ],
      "metadata": {
        "id": "n-3ZaAyf6Atw"
      },
      "execution_count": 239,
      "outputs": []
    },
    {
      "cell_type": "code",
      "source": [
        "highvars = []\n",
        "for i in range(unlab_data.shape[0]):\n",
        "  if i not in lowvars:\n",
        "    highvars.append(i)"
      ],
      "metadata": {
        "id": "AktvADTC6Atw"
      },
      "execution_count": 240,
      "outputs": []
    },
    {
      "cell_type": "code",
      "source": [
        "# 같은 길이의 랜덤하게 고른 data들에 모델로 label 부여 후 정확도 측정 : 0.90x\n",
        "randomindx = random.sample(range(unlab_data.shape[0]), len(lowvars))\n",
        "accuracy_score(np.array(Outs)[randomindx], unlab_labels[randomindx])"
      ],
      "metadata": {
        "colab": {
          "base_uri": "https://localhost:8080/"
        },
        "outputId": "74c49ade-f4a3-4cde-fffd-1f8ed064c957",
        "id": "-4aT-T6v6Atw"
      },
      "execution_count": 241,
      "outputs": [
        {
          "output_type": "execute_result",
          "data": {
            "text/plain": [
              "0.8252979414951246"
            ]
          },
          "metadata": {},
          "execution_count": 241
        }
      ]
    },
    {
      "cell_type": "code",
      "source": [
        "# 저분산의 data들만 모아서 모델로 label 부여 후 정확도 측정 : 0.99x\n",
        "accuracy_score(np.array(Outs)[lowvars], unlab_labels[lowvars])"
      ],
      "metadata": {
        "colab": {
          "base_uri": "https://localhost:8080/"
        },
        "outputId": "3682ee8d-00ef-4783-afed-1f8bcc88a77d",
        "id": "I5VxbIN06Atx"
      },
      "execution_count": 242,
      "outputs": [
        {
          "output_type": "execute_result",
          "data": {
            "text/plain": [
              "0.9886240520043337"
            ]
          },
          "metadata": {},
          "execution_count": 242
        }
      ]
    },
    {
      "cell_type": "code",
      "source": [
        "len(highvars)"
      ],
      "metadata": {
        "colab": {
          "base_uri": "https://localhost:8080/"
        },
        "id": "B6dXUNvLGrtm",
        "outputId": "0c774e62-158c-419c-eb7c-c1e119980b38"
      },
      "execution_count": 243,
      "outputs": [
        {
          "output_type": "execute_result",
          "data": {
            "text/plain": [
              "18851"
            ]
          },
          "metadata": {},
          "execution_count": 243
        }
      ]
    },
    {
      "cell_type": "code",
      "source": [
        "train_data = np.concatenate([train_data, unlab_data[lowvars]], axis=0)\n",
        "train_labels = np.concatenate([train_labels, unlab_labels[lowvars]], axis=0)"
      ],
      "metadata": {
        "id": "PnHPyri56Atx"
      },
      "execution_count": 244,
      "outputs": []
    },
    {
      "cell_type": "code",
      "source": [
        "unlab_data = unlab_data[highvars]\n",
        "unlab_labels = unlab_labels[highvars]"
      ],
      "metadata": {
        "id": "ksAWGKR_6Atx"
      },
      "execution_count": 245,
      "outputs": []
    },
    {
      "cell_type": "code",
      "source": [
        "shufindx = random.sample(range(train_data.shape[0]),train_data.shape[0])\n",
        "train_data = train_data[shufindx]\n",
        "train_labels = train_labels[shufindx]"
      ],
      "metadata": {
        "id": "AKvBV82uHDAG"
      },
      "execution_count": 246,
      "outputs": []
    },
    {
      "cell_type": "code",
      "source": [
        "unlab_data.shape"
      ],
      "metadata": {
        "colab": {
          "base_uri": "https://localhost:8080/"
        },
        "id": "yB4MIl2HHHJl",
        "outputId": "2e4a9dfb-d620-47e6-9628-03eaa5aaa938"
      },
      "execution_count": 249,
      "outputs": [
        {
          "output_type": "execute_result",
          "data": {
            "text/plain": [
              "(18851, 28, 28, 1)"
            ]
          },
          "metadata": {},
          "execution_count": 249
        }
      ]
    },
    {
      "cell_type": "markdown",
      "source": [
        "## 모델링; 2"
      ],
      "metadata": {
        "id": "B7c7xj4mHcS_"
      }
    },
    {
      "cell_type": "code",
      "execution_count": 250,
      "metadata": {
        "id": "pR3A-YR3HcTB"
      },
      "outputs": [],
      "source": [
        "def PermaDropout(rate):\n",
        "    return Lambda(lambda x: K.dropout(x, level=rate))"
      ]
    },
    {
      "cell_type": "code",
      "execution_count": null,
      "metadata": {
        "colab": {
          "base_uri": "https://localhost:8080/"
        },
        "outputId": "abec014c-03ba-487b-ad1d-196b6dbdb099",
        "id": "vEVSIZwjHcTB"
      },
      "outputs": [
        {
          "output_type": "stream",
          "name": "stdout",
          "text": [
            "Epoch 1/100\n",
            "451/451 [==============================] - 7s 14ms/step - loss: 0.9761 - accuracy: 0.8484 - val_loss: 0.3549 - val_accuracy: 0.8809\n",
            "Epoch 2/100\n",
            "451/451 [==============================] - 5s 11ms/step - loss: 0.3056 - accuracy: 0.8982 - val_loss: 0.3014 - val_accuracy: 0.9003\n",
            "Epoch 3/100\n",
            "451/451 [==============================] - 6s 12ms/step - loss: 0.2685 - accuracy: 0.9089 - val_loss: 0.2846 - val_accuracy: 0.9058\n",
            "Epoch 4/100\n",
            "451/451 [==============================] - 5s 11ms/step - loss: 0.2401 - accuracy: 0.9189 - val_loss: 0.2752 - val_accuracy: 0.9079\n",
            "Epoch 5/100\n",
            "451/451 [==============================] - 5s 11ms/step - loss: 0.2227 - accuracy: 0.9223 - val_loss: 0.2694 - val_accuracy: 0.9155\n",
            "Epoch 6/100\n",
            "451/451 [==============================] - 6s 12ms/step - loss: 0.2071 - accuracy: 0.9267 - val_loss: 0.2452 - val_accuracy: 0.9179\n",
            "Epoch 7/100\n",
            "451/451 [==============================] - 5s 11ms/step - loss: 0.1955 - accuracy: 0.9303 - val_loss: 0.2454 - val_accuracy: 0.9207\n",
            "Epoch 8/100\n",
            "451/451 [==============================] - 5s 11ms/step - loss: 0.1893 - accuracy: 0.9318 - val_loss: 0.2708 - val_accuracy: 0.9141\n",
            "Epoch 9/100\n",
            "451/451 [==============================] - 5s 11ms/step - loss: 0.1750 - accuracy: 0.9375 - val_loss: 0.2582 - val_accuracy: 0.9197\n",
            "Epoch 10/100\n",
            "451/451 [==============================] - 5s 11ms/step - loss: 0.1740 - accuracy: 0.9393 - val_loss: 0.2394 - val_accuracy: 0.9222\n",
            "Epoch 11/100\n",
            "451/451 [==============================] - 6s 12ms/step - loss: 0.1671 - accuracy: 0.9393 - val_loss: 0.2433 - val_accuracy: 0.9247\n",
            "Epoch 12/100\n",
            "451/451 [==============================] - 6s 13ms/step - loss: 0.1564 - accuracy: 0.9435 - val_loss: 0.2474 - val_accuracy: 0.9215\n",
            "Epoch 13/100\n",
            "451/451 [==============================] - 6s 13ms/step - loss: 0.1580 - accuracy: 0.9426 - val_loss: 0.2527 - val_accuracy: 0.9237\n",
            "Epoch 14/100\n",
            "451/451 [==============================] - 6s 12ms/step - loss: 0.1517 - accuracy: 0.9463 - val_loss: 0.2842 - val_accuracy: 0.9150\n",
            "Epoch 15/100\n",
            "451/451 [==============================] - 6s 12ms/step - loss: 0.1518 - accuracy: 0.9464 - val_loss: 0.2565 - val_accuracy: 0.9235\n",
            "Epoch 16/100\n",
            "451/451 [==============================] - 6s 12ms/step - loss: 0.1379 - accuracy: 0.9506 - val_loss: 0.2617 - val_accuracy: 0.9273\n",
            "Epoch 17/100\n",
            "451/451 [==============================] - 6s 13ms/step - loss: 0.1358 - accuracy: 0.9518 - val_loss: 0.2589 - val_accuracy: 0.9269\n",
            "Epoch 18/100\n",
            "451/451 [==============================] - 6s 13ms/step - loss: 0.1368 - accuracy: 0.9500 - val_loss: 0.2626 - val_accuracy: 0.9239\n",
            "Epoch 19/100\n",
            "451/451 [==============================] - 6s 13ms/step - loss: 0.1324 - accuracy: 0.9530 - val_loss: 0.2641 - val_accuracy: 0.9270\n",
            "Epoch 20/100\n",
            "451/451 [==============================] - 6s 12ms/step - loss: 0.1307 - accuracy: 0.9526 - val_loss: 0.2483 - val_accuracy: 0.9277\n",
            "Epoch 21/100\n",
            "451/451 [==============================] - 6s 13ms/step - loss: 0.1240 - accuracy: 0.9572 - val_loss: 0.2863 - val_accuracy: 0.9231\n",
            "Epoch 22/100\n",
            "451/451 [==============================] - 6s 13ms/step - loss: 0.1207 - accuracy: 0.9564 - val_loss: 0.2637 - val_accuracy: 0.9264\n",
            "Epoch 23/100\n",
            "451/451 [==============================] - 5s 12ms/step - loss: 0.1182 - accuracy: 0.9599 - val_loss: 0.2689 - val_accuracy: 0.9220\n",
            "Epoch 24/100\n",
            "451/451 [==============================] - 6s 13ms/step - loss: 0.1186 - accuracy: 0.9567 - val_loss: 0.2657 - val_accuracy: 0.9260\n",
            "Epoch 25/100\n",
            "451/451 [==============================] - 5s 12ms/step - loss: 0.1203 - accuracy: 0.9581 - val_loss: 0.2625 - val_accuracy: 0.9268\n",
            "Epoch 26/100\n",
            "451/451 [==============================] - 5s 12ms/step - loss: 0.1112 - accuracy: 0.9605 - val_loss: 0.2727 - val_accuracy: 0.9281\n",
            "Epoch 27/100\n",
            "451/451 [==============================] - 5s 12ms/step - loss: 0.1139 - accuracy: 0.9602 - val_loss: 0.2687 - val_accuracy: 0.9300\n",
            "Epoch 28/100\n",
            "451/451 [==============================] - 5s 11ms/step - loss: 0.1092 - accuracy: 0.9612 - val_loss: 0.2638 - val_accuracy: 0.9274\n",
            "Epoch 29/100\n",
            "451/451 [==============================] - 5s 12ms/step - loss: 0.1154 - accuracy: 0.9591 - val_loss: 0.2738 - val_accuracy: 0.9268\n",
            "Epoch 30/100\n",
            "451/451 [==============================] - 5s 11ms/step - loss: 0.1099 - accuracy: 0.9606 - val_loss: 0.2921 - val_accuracy: 0.9283\n",
            "Epoch 31/100\n",
            "451/451 [==============================] - 6s 13ms/step - loss: 0.1042 - accuracy: 0.9626 - val_loss: 0.2998 - val_accuracy: 0.9350\n",
            "Epoch 32/100\n",
            "451/451 [==============================] - 5s 12ms/step - loss: 0.0970 - accuracy: 0.9657 - val_loss: 0.3025 - val_accuracy: 0.9317\n",
            "Epoch 33/100\n",
            "451/451 [==============================] - 6s 13ms/step - loss: 0.1026 - accuracy: 0.9624 - val_loss: 0.3083 - val_accuracy: 0.9275\n",
            "Epoch 34/100\n",
            "451/451 [==============================] - 5s 11ms/step - loss: 0.1023 - accuracy: 0.9642 - val_loss: 0.2808 - val_accuracy: 0.9306\n",
            "Epoch 35/100\n",
            "451/451 [==============================] - 5s 11ms/step - loss: 0.0979 - accuracy: 0.9656 - val_loss: 0.3079 - val_accuracy: 0.9310\n",
            "Epoch 36/100\n",
            "451/451 [==============================] - 5s 11ms/step - loss: 0.0965 - accuracy: 0.9665 - val_loss: 0.3354 - val_accuracy: 0.9273\n",
            "Epoch 37/100\n",
            "451/451 [==============================] - 5s 12ms/step - loss: 0.0976 - accuracy: 0.9655 - val_loss: 0.3141 - val_accuracy: 0.9311\n",
            "Epoch 38/100\n",
            "451/451 [==============================] - 6s 12ms/step - loss: 0.0927 - accuracy: 0.9684 - val_loss: 0.3378 - val_accuracy: 0.9319\n",
            "Epoch 39/100\n",
            "451/451 [==============================] - 6s 13ms/step - loss: 0.0972 - accuracy: 0.9664 - val_loss: 0.3235 - val_accuracy: 0.9313\n",
            "Epoch 40/100\n",
            "451/451 [==============================] - 5s 12ms/step - loss: 0.0915 - accuracy: 0.9661 - val_loss: 0.3026 - val_accuracy: 0.9326\n",
            "Epoch 41/100\n",
            "451/451 [==============================] - 5s 12ms/step - loss: 0.0933 - accuracy: 0.9672 - val_loss: 0.3120 - val_accuracy: 0.9253\n",
            "Epoch 42/100\n",
            "213/451 [=============>................] - ETA: 2s - loss: 0.0903 - accuracy: 0.9690"
          ]
        }
      ],
      "source": [
        "#######HYPERPARAMATERS###########\n",
        "epochs = 100\n",
        "batch_size = 64\n",
        "learning_rate = 0.001\n",
        "#################################\n",
        "  \n",
        "model = Sequential()\n",
        "    \n",
        "model.add(Conv2D(32, kernel_size = (3,3), input_shape=(28,28,1), activation='relu'))\n",
        "model.add(Conv2D(64,(3,3), activation='relu'))\n",
        "model.add(MaxPooling2D(pool_size=2))\n",
        "model.add(PermaDropout(0.5))\n",
        "model.add(Flatten())\n",
        "model.add(Dense(128, activation='relu'))\n",
        "model.add(PermaDropout(0.5))\n",
        "model.add(Dense(10, activation='softmax'))\n",
        "adam = keras.optimizers.Adam(learning_rate)\n",
        "model.compile(optimizer = adam, loss = 'sparse_categorical_crossentropy', metrics = ['accuracy'])\n",
        "    \n",
        "# print(model.summary())\n",
        "\n",
        "lr_reducer = ReduceLROnPlateau(monitor='val_loss', factor=0.9, patience=3)\n",
        "early_stopper = EarlyStopping(monitor='val_accuracy', min_delta=0, patience=30, mode='auto')\n",
        "checkpointer = ModelCheckpoint('weights.hd5', monitor='val_loss', verbose=1, save_best_only=True)\n",
        "\n",
        "model.fit(\n",
        "          train_data,\n",
        "          train_labels,\n",
        "          epochs = epochs,\n",
        "          batch_size = batch_size,\n",
        "          validation_split = 0.3,\n",
        "          shuffle = True\n",
        "          )"
      ]
    },
    {
      "cell_type": "code",
      "execution_count": null,
      "metadata": {
        "id": "Kx6_dX_0HcTB"
      },
      "outputs": [],
      "source": [
        "model.save('/content/drive/MyDrive/파이썬스터디 프로젝트/labeling_cnn3.h5')"
      ]
    },
    {
      "cell_type": "code",
      "execution_count": null,
      "metadata": {
        "id": "7pZtl6HBHcTB"
      },
      "outputs": [],
      "source": [
        "model = keras.models.load_model('/content/drive/MyDrive/파이썬스터디 프로젝트/labeling_cnn3.h5')\n",
        "model_eval() #0.89xx"
      ]
    },
    {
      "cell_type": "code",
      "source": [
        ""
      ],
      "metadata": {
        "id": "BOMPGSiXHhbN"
      },
      "execution_count": null,
      "outputs": []
    }
  ],
  "metadata": {
    "accelerator": "GPU",
    "colab": {
      "name": "uncertainty 기반 labeling.ipynb",
      "provenance": [],
      "collapsed_sections": [],
      "authorship_tag": "ABX9TyMCqQQrHtu413r2tidwXZcq",
      "include_colab_link": true
    },
    "kernelspec": {
      "display_name": "Python 3",
      "name": "python3"
    },
    "language_info": {
      "name": "python"
    }
  },
  "nbformat": 4,
  "nbformat_minor": 0
}