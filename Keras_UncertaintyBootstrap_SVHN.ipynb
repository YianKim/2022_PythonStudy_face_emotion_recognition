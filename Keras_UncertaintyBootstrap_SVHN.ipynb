{
  "cells": [
    {
      "cell_type": "markdown",
      "metadata": {
        "id": "view-in-github",
        "colab_type": "text"
      },
      "source": [
        "<a href=\"https://colab.research.google.com/github/YianKim/2022_uncertainty_aware_semisupervise/blob/main/Keras_UncertaintyBootstrap_SVHN.ipynb\" target=\"_parent\"><img src=\"https://colab.research.google.com/assets/colab-badge.svg\" alt=\"Open In Colab\"/></a>"
      ]
    },
    {
      "cell_type": "code",
      "source": [
        "pip install tensorflow_addons"
      ],
      "metadata": {
        "colab": {
          "base_uri": "https://localhost:8080/"
        },
        "id": "gAyYZmY-fK6R",
        "outputId": "af54c9b9-3ff3-425f-daca-9c85183a0c52"
      },
      "execution_count": 1,
      "outputs": [
        {
          "output_type": "stream",
          "name": "stdout",
          "text": [
            "Looking in indexes: https://pypi.org/simple, https://us-python.pkg.dev/colab-wheels/public/simple/\n",
            "Collecting tensorflow_addons\n",
            "  Downloading tensorflow_addons-0.17.1-cp37-cp37m-manylinux_2_17_x86_64.manylinux2014_x86_64.whl (1.1 MB)\n",
            "\u001b[K     |████████████████████████████████| 1.1 MB 14.2 MB/s \n",
            "\u001b[?25hRequirement already satisfied: packaging in /usr/local/lib/python3.7/dist-packages (from tensorflow_addons) (21.3)\n",
            "Requirement already satisfied: typeguard>=2.7 in /usr/local/lib/python3.7/dist-packages (from tensorflow_addons) (2.7.1)\n",
            "Requirement already satisfied: pyparsing!=3.0.5,>=2.0.2 in /usr/local/lib/python3.7/dist-packages (from packaging->tensorflow_addons) (3.0.9)\n",
            "Installing collected packages: tensorflow-addons\n",
            "Successfully installed tensorflow-addons-0.17.1\n"
          ]
        }
      ]
    },
    {
      "cell_type": "code",
      "execution_count": 2,
      "metadata": {
        "id": "Ik7Qx5iO8lQ_"
      },
      "outputs": [],
      "source": [
        "import matplotlib.pyplot as plt\n",
        "from tensorflow import keras\n",
        "import numpy as np\n",
        "from sklearn.model_selection import train_test_split\n",
        "from tensorflow.keras.models import clone_model\n",
        "\n",
        "import PIL\n",
        "from PIL import Image\n",
        "\n",
        "import pickle\n",
        "import random\n",
        "from tqdm import tqdm\n",
        "from collections import Counter\n",
        "\n",
        "from keras.layers.core import Lambda\n",
        "from keras import backend as K\n",
        "\n",
        "from keras.models import Sequential\n",
        "from keras.layers import Conv2D\n",
        "from keras.layers import BatchNormalization\n",
        "from keras.regularizers import l2\n",
        "from keras.layers import Activation\n",
        "from keras.layers import Dropout\n",
        "from keras.layers import MaxPooling2D, AveragePooling2D\n",
        "from keras.layers import Flatten\n",
        "from keras.layers import Dense\n",
        "from keras.layers import Reshape\n",
        "from keras import optimizers\n",
        "from keras.callbacks import *\n",
        "from sklearn.metrics import *\n",
        "from keras.models import load_model\n",
        "import tensorflow_addons as tfa\n",
        "\n",
        "from torchvision import transforms\n",
        "\n",
        "import tensorflow as tf\n",
        "import tensorflow.keras.backend as backend\n",
        "import math\n",
        "import gc"
      ]
    },
    {
      "cell_type": "markdown",
      "metadata": {
        "id": "0Hmq32hTH-Jv"
      },
      "source": [
        "# SVHN"
      ]
    },
    {
      "cell_type": "code",
      "source": [
        "from google.colab import drive\n",
        "drive.mount('/content/drive')"
      ],
      "metadata": {
        "colab": {
          "base_uri": "https://localhost:8080/"
        },
        "id": "u1t_K15MfUe5",
        "outputId": "9d1ace23-db46-487d-a28c-1cf260f05302"
      },
      "execution_count": 3,
      "outputs": [
        {
          "output_type": "stream",
          "name": "stdout",
          "text": [
            "Mounted at /content/drive\n"
          ]
        }
      ]
    },
    {
      "cell_type": "code",
      "execution_count": 4,
      "metadata": {
        "id": "HUCvct_dH5m1"
      },
      "outputs": [],
      "source": [
        "from scipy.io import loadmat\n",
        "train_raw = loadmat('/content/drive/MyDrive/SVHN/train_32x32.mat')\n",
        "test_raw = loadmat('/content/drive/MyDrive/SVHN/test_32x32.mat')"
      ]
    },
    {
      "cell_type": "code",
      "execution_count": 5,
      "metadata": {
        "id": "XzWKzGmGtk2h"
      },
      "outputs": [],
      "source": [
        "def dummy_labels(labels):\n",
        "  zero_labels = np.zeros([labels.shape[0], 10], np.int8)  \n",
        "  for i in range(labels.shape[0]):\n",
        "    zero_labels[i][labels[i]] = 1\n",
        "  return(zero_labels)"
      ]
    },
    {
      "cell_type": "code",
      "execution_count": 6,
      "metadata": {
        "id": "65QFu6LVMxl9"
      },
      "outputs": [],
      "source": [
        "train_images = train_raw['X']\n",
        "train_labels = train_raw['y']\n",
        "\n",
        "test_images = test_raw['X']\n",
        "test_labels = dummy_labels(test_raw['y']-1)\n",
        "\n",
        "train_images = train_images.swapaxes(2,3).swapaxes(1,2).swapaxes(0,1)\n",
        "test_images = test_images.swapaxes(2,3).swapaxes(1,2).swapaxes(0,1)"
      ]
    },
    {
      "cell_type": "code",
      "execution_count": 7,
      "metadata": {
        "id": "fm_NgimXNonL"
      },
      "outputs": [],
      "source": [
        "temp = [0,0,0,0,0,0,0,0,0,0]\n",
        "label_indx = []\n",
        "unlabel_indx = []\n",
        "\n",
        "for i in range(73257) :\n",
        "  if temp[(train_labels).reshape([-1])[i]-1] < 25 :\n",
        "    temp[(train_labels).reshape([-1])[i]-1] += 1\n",
        "    label_indx.append(i)\n",
        "  else :\n",
        "    unlabel_indx.append(i)"
      ]
    },
    {
      "cell_type": "code",
      "execution_count": 8,
      "metadata": {
        "id": "3ZADJPIIOZD2"
      },
      "outputs": [],
      "source": [
        "lbl_train_images = train_images[label_indx]\n",
        "lbl_train_labels = dummy_labels(train_labels[label_indx]-1)"
      ]
    },
    {
      "cell_type": "code",
      "execution_count": 9,
      "metadata": {
        "id": "fHe18DTWUu3-"
      },
      "outputs": [],
      "source": [
        "ubl_train_images = train_images[unlabel_indx]\n",
        "ubl_train_labels = dummy_labels(train_labels[unlabel_indx]-1)"
      ]
    },
    {
      "cell_type": "markdown",
      "metadata": {
        "id": "Q7hfth6hMMxW"
      },
      "source": [
        "#MAin\n"
      ]
    },
    {
      "cell_type": "code",
      "execution_count": 10,
      "metadata": {
        "id": "iKyn6Njs7vqa"
      },
      "outputs": [],
      "source": [
        "class SGDR(Callback):\n",
        "\n",
        "    def __init__(self, min_lr=0.0, max_lr=0.03, base_epochs=20, mul_epochs=2):\n",
        "        super(SGDR, self).__init__()\n",
        "\n",
        "        self.min_lr = min_lr\n",
        "        self.max_lr = max_lr\n",
        "        self.base_epochs = base_epochs\n",
        "        self.mul_epochs = mul_epochs\n",
        "\n",
        "        self.cycles = 0.\n",
        "        self.cycle_iterations = 0.\n",
        "        self.trn_iterations = 0.\n",
        "\n",
        "        self._reset()\n",
        "\n",
        "    def _reset(self, new_min_lr=None, new_max_lr=None,\n",
        "               new_base_epochs=None, new_mul_epochs=None):\n",
        "        \"\"\"Resets cycle iterations.\"\"\"\n",
        "        \n",
        "        if new_min_lr != None:\n",
        "            self.min_lr = new_min_lr\n",
        "        if new_max_lr != None:\n",
        "            self.max_lr = new_max_lr\n",
        "        if new_base_epochs != None:\n",
        "            self.base_epochs = new_base_epochs\n",
        "        if new_mul_epochs != None:\n",
        "            self.mul_epochs = new_mul_epochs\n",
        "        self.cycles = 0.\n",
        "        self.cycle_iterations = 0.\n",
        "        \n",
        "    def sgdr(self):\n",
        "        \n",
        "        cycle_epochs = self.base_epochs * (self.mul_epochs ** self.cycles)\n",
        "        tide = ((self.cycles == 0) * 1) * (self.cycle_iterations*self.max_lr + (self.base_epochs - self.cycle_iterations)*self.min_lr) / self.base_epochs + ((self.cycles != 0) * 1)*(self.min_lr + 0.5 * (self.max_lr - self.min_lr) * (1 + np.cos(np.pi * (self.cycle_iterations + 1) / cycle_epochs)))\n",
        "        return tide\n",
        "        \n",
        "    def on_train_begin(self, logs=None):\n",
        "        \n",
        "        if self.cycle_iterations == 0:\n",
        "            K.set_value(self.model.optimizer.lr, self.max_lr)\n",
        "        else:\n",
        "            K.set_value(self.model.optimizer.lr, self.sgdr())\n",
        "            \n",
        "    def on_epoch_end(self, epoch, logs=None):\n",
        "        \n",
        "        logs = logs or {}\n",
        "        logs['lr'] = K.get_value(self.model.optimizer.lr)\n",
        "        \n",
        "        self.trn_iterations += 1\n",
        "        self.cycle_iterations += 1\n",
        "        if self.cycle_iterations >= self.base_epochs * (self.mul_epochs ** self.cycles):\n",
        "            self.cycles += 1\n",
        "            self.cycle_iterations = 0\n",
        "            K.set_value(self.model.optimizer.lr, self.max_lr)\n",
        "        else:\n",
        "            K.set_value(self.model.optimizer.lr, self.sgdr())"
      ]
    },
    {
      "cell_type": "code",
      "source": [
        "def PermaDropout(rate):\n",
        "    return Lambda(lambda x: K.dropout(x, level=rate))\n",
        "\n",
        "def create_cnn_1():\n",
        "  conv1a = Conv2D(32, (3,3), padding = 'same')\n",
        "  bn1a = BatchNormalization()\n",
        "  conv1b = Conv2D(32, (3,3), padding = 'same')\n",
        "  bn1b = BatchNormalization()\n",
        "  conv1c = Conv2D(32, (3,3), padding = 'same')\n",
        "  bn1c = BatchNormalization()\n",
        "  pl1 = MaxPooling2D(2, 2)\n",
        "  MCdrop1 = PermaDropout(0.4)\n",
        "\n",
        "  conv2a = Conv2D(64, (3,3), padding = 'same')\n",
        "  bn2a = BatchNormalization()\n",
        "  conv2b = Conv2D(64, (3,3), padding = 'same')\n",
        "  bn2b = BatchNormalization()\n",
        "  conv2c = Conv2D(64, (3,3), padding = 'same')\n",
        "  bn2c = BatchNormalization()\n",
        "  pl2 = MaxPooling2D(2, 2)\n",
        "  MCdrop2 = PermaDropout(0.4)\n",
        "\n",
        "  conv3a = Conv2D(128, (3,3))\n",
        "  bn3a = BatchNormalization()\n",
        "  conv3b = Conv2D(128, (3,3))\n",
        "  bn3b = BatchNormalization()\n",
        "  conv3c = Conv2D(128, (3,3))\n",
        "  bn3c = BatchNormalization()\n",
        "  pl3 = AveragePooling2D(4, 1)\n",
        "  MCdrop3 = PermaDropout(0.4)\n",
        "\n",
        "  fc1 = Dense(128)\n",
        "  fc2 = Dense(10)\n",
        "  activ = keras.layers.LeakyReLU(0.1)\n",
        "\n",
        "  model = Sequential([\n",
        "                      keras.Input(shape=(32, 32, 3)), \n",
        "                      tfa.layers.WeightNormalization(conv1a), bn1a, activ,\n",
        "                      tfa.layers.WeightNormalization(conv1b), bn1b, activ,\n",
        "                      # tfa.layers.WeightNormalization(conv1c), bn1c, activ,\n",
        "                      pl1, MCdrop1,\n",
        "\n",
        "                      tfa.layers.WeightNormalization(conv2a), bn2a, activ,\n",
        "                      tfa.layers.WeightNormalization(conv2b), bn2b, activ,\n",
        "                      # tfa.layers.WeightNormalization(conv2c), bn2c, activ,\n",
        "                      pl2, MCdrop2,\n",
        "\n",
        "                      tfa.layers.WeightNormalization(conv3a), bn3a, activ,\n",
        "                      tfa.layers.WeightNormalization(conv3b), bn3b, activ,\n",
        "                      # tfa.layers.WeightNormalization(conv3c), bn3c, activ,\n",
        "                      pl3, MCdrop3, Flatten(),\n",
        "                      \n",
        "                      fc1, activ, fc2\n",
        "                      ])\n",
        "  \n",
        "  return model\n",
        "\n",
        "def create_cnn_2():\n",
        "  conv1a = Conv2D(32, (3,3), padding = 'same')\n",
        "  bn1a = BatchNormalization()\n",
        "  conv1b = Conv2D(32, (3,3), padding = 'same')\n",
        "  bn1b = BatchNormalization()\n",
        "  conv1c = Conv2D(32, (3,3), padding = 'same')\n",
        "  bn1c = BatchNormalization()\n",
        "  pl1 = MaxPooling2D(2, 2)\n",
        "  MCdrop1 = PermaDropout(0.4)\n",
        "\n",
        "  conv2a = Conv2D(64, (3,3), padding = 'same')\n",
        "  bn2a = BatchNormalization()\n",
        "  conv2b = Conv2D(64, (3,3), padding = 'same')\n",
        "  bn2b = BatchNormalization()\n",
        "  conv2c = Conv2D(64, (3,3), padding = 'same')\n",
        "  bn2c = BatchNormalization()\n",
        "  pl2 = MaxPooling2D(2, 2)\n",
        "  MCdrop2 = PermaDropout(0.4)\n",
        "\n",
        "  conv3a = Conv2D(128, (3,3))\n",
        "  bn3a = BatchNormalization()\n",
        "  conv3b = Conv2D(128, (3,3))\n",
        "  bn3b = BatchNormalization()\n",
        "  conv3c = Conv2D(128, (3,3))\n",
        "  bn3c = BatchNormalization()\n",
        "  pl3 = AveragePooling2D()\n",
        "  MCdrop3 = PermaDropout(0.4)\n",
        "\n",
        "  fc1 = Dense(128)\n",
        "  fc2 = Dense(10)\n",
        "  activ = keras.layers.LeakyReLU(0.1)\n",
        "\n",
        "  model = Sequential([\n",
        "                      keras.Input(shape=(32, 32, 3)), \n",
        "                      tfa.layers.WeightNormalization(conv1a), bn1a, activ,\n",
        "                      tfa.layers.WeightNormalization(conv1b), bn1b, activ,\n",
        "                      tfa.layers.WeightNormalization(conv1c), bn1c, activ,\n",
        "                      pl1, MCdrop1,\n",
        "\n",
        "                      tfa.layers.WeightNormalization(conv2a), bn2a, activ,\n",
        "                      tfa.layers.WeightNormalization(conv2b), bn2b, activ,\n",
        "                      tfa.layers.WeightNormalization(conv2c), bn2c, activ,\n",
        "                      pl2, MCdrop2,\n",
        "\n",
        "                      tfa.layers.WeightNormalization(conv3a), bn3a, activ,\n",
        "                      tfa.layers.WeightNormalization(conv3b), bn3b, activ,\n",
        "                      tfa.layers.WeightNormalization(conv3c), bn3c, activ,\n",
        "                      pl3, MCdrop3, Flatten(),\n",
        "                      \n",
        "                      fc1, activ, fc2\n",
        "                      ])\n",
        "  \n",
        "  return model"
      ],
      "metadata": {
        "id": "9o26bJwvta8-"
      },
      "execution_count": 11,
      "outputs": []
    },
    {
      "cell_type": "code",
      "execution_count": 12,
      "metadata": {
        "id": "YRCDNliwfudJ"
      },
      "outputs": [],
      "source": [
        "def compile_cnn(model):\n",
        "\n",
        "  if control_lrschedule == 0 :\n",
        "    opt = keras.optimizers.Adam(0.001)\n",
        "  else :\n",
        "    opt = keras.optimizers.Adam(0.0005)\n",
        "\n",
        "  model.compile(\n",
        "    optimizer = opt,\n",
        "    loss=keras.losses.CategoricalCrossentropy(from_logits=True),\n",
        "    metrics=['accuracy']\n",
        "  )\n",
        "\n",
        "  return model\n",
        "\n",
        "def cnn_13():\n",
        "\n",
        "  if control_lrschedule == 0:\n",
        "    model = create_cnn_1()\n",
        "  if control_lrschedule == 1:\n",
        "    model = create_cnn_2()\n",
        "  model = compile_cnn(model)\n",
        "\n",
        "  return model\n",
        "\n",
        "def fit_and_labeling_cnn_13(Epoch, Batch):\n",
        "\n",
        "  lr_reducer = ReduceLROnPlateau(monitor='val_loss', factor=0.9, patience=3)\n",
        "  early_stopper = EarlyStopping(monitor='val_loss', min_delta=0, patience=30, mode='auto')\n",
        "  sgdr = SGDR(min_lr=0.0, max_lr=0.03, base_epochs=20) #스케줄러\n",
        "\n",
        "  model.fit(\n",
        "      x=X,\n",
        "      y=y,\n",
        "      epochs=Epoch,\n",
        "      verbose=0,\n",
        "      batch_size=Batch\n",
        "      )\n",
        "    \n",
        "  model_test_eval(model, test_images, test_labels)\n",
        "  T = 1\n",
        "\n",
        "  for predsamples in (range(10)):\n",
        "    if predsamples == 0 :\n",
        "      predictions = np.array(tf.nn.softmax(model.predict(ubl_train_images)/T))\n",
        "      predictions = predictions.reshape((1,) + predictions.shape)\n",
        "    else:\n",
        "      pred = np.array(tf.nn.softmax(model.predict(ubl_train_images)/T))\n",
        "      pred = pred.reshape((1,) + pred.shape)\n",
        "      predictions = np.concatenate((predictions, pred))\n",
        "\n",
        "  return predictions\n",
        "\n",
        "def model_test_eval(model, test_images, test_labels):\n",
        "  T = 1\n",
        "  pred = np.array(tf.nn.softmax(model.predict(test_images)/T))\n",
        "  for i in range(1,10):\n",
        "    pred += np.array(tf.nn.softmax(model.predict(test_images)))\n",
        "  acc = (np.argmax(pred,axis=1) == np.argmax(test_labels,axis=1))*1\n",
        "  acc = sum(acc)/len(acc)\n",
        "  print(\"test set 성능 : \" + str(acc))"
      ]
    },
    {
      "cell_type": "code",
      "execution_count": 13,
      "metadata": {
        "id": "Y72KJdy-evFy"
      },
      "outputs": [],
      "source": [
        "def basic_augmentation(imagearray):\n",
        "  image = Image.fromarray(imagearray)\n",
        "  tr2 = transforms.RandomRotation(10)\n",
        "  tr3 = transforms.ColorJitter(brightness=0.5, contrast=0.5, saturation=0.5, hue=0.5)\n",
        "  image = tr2(tr3(image))\n",
        "  return(np.array(image))\n",
        "\n",
        "def makeaugs(n, input):\n",
        "  augs = []\n",
        "  for j in range(n):\n",
        "    for i in input:\n",
        "      augs.append(basic_augmentation(np.array(i, np.uint8)))\n",
        "  return(np.array(augs))"
      ]
    },
    {
      "cell_type": "code",
      "execution_count": 14,
      "metadata": {
        "colab": {
          "base_uri": "https://localhost:8080/"
        },
        "id": "vz5CFL960tsP",
        "outputId": "d8f6b762-9ff3-413a-8104-0879814a5f41"
      },
      "outputs": [
        {
          "output_type": "stream",
          "name": "stdout",
          "text": [
            "< preparation evaluation >\n",
            "test set 성능 : 0.7110863552550707\n",
            "420.90519094467163\n"
          ]
        }
      ],
      "source": [
        "first = time.time()\n",
        "control_lrschedule = 0\n",
        "model = cnn_13()\n",
        "X = lbl_train_images\n",
        "y = lbl_train_labels\n",
        "\n",
        "X = np.concatenate([makeaugs(20, X), X])\n",
        "y = np.concatenate([y,y,y,y,y,\n",
        "                    y,y,y,y,y,\n",
        "                    y,y,y,y,y,\n",
        "                    y,y,y,y,y, y])\n",
        "\n",
        "print(\"< preparation evaluation >\")\n",
        "predictions = fit_and_labeling_cnn_13(300, 64)\n",
        "print(time.time() - first)"
      ]
    },
    {
      "cell_type": "code",
      "execution_count": null,
      "metadata": {
        "colab": {
          "base_uri": "https://localhost:8080/"
        },
        "id": "w4F_8DJWevFz",
        "outputId": "39e93eb0-d149-4d05-cba2-a52028062c5b"
      },
      "outputs": [
        {
          "output_type": "stream",
          "name": "stdout",
          "text": [
            "< iter 0 evaluation >\n"
          ]
        }
      ],
      "source": [
        "schedule = list(2**np.array(list(range(5)))/(2**5))\n",
        "schedule = [[i,i,i,i,i] for i in schedule]\n",
        "schedule = np.array(schedule).reshape([-1])\n",
        "\n",
        "alpha = 0.6\n",
        "control_lrschedule = 1\n",
        "\n",
        "model = cnn_13()\n",
        "epoch = 300\n",
        "\n",
        "for iter in range(len(schedule)):\n",
        "    pseudo = np.argmax(np.mean(predictions, axis=0), axis=1)\n",
        "    conf = np.max(np.mean(predictions, axis=0), axis=1)\n",
        "    uncert = np.std(predictions, axis=0)\n",
        "    uncert = np.array([uncert[i][pseudo[i]] for i in range(len(pseudo))])\n",
        "    cert = 1-uncert\n",
        "    \n",
        "    ubl_pseudo_labels = []\n",
        "    for i in pseudo:\n",
        "        temp = [0,0,0,0,0,0,0,0,0,0]\n",
        "        temp[i] = 1\n",
        "        ubl_pseudo_labels.append(temp)\n",
        "    ubl_pseudo_labels = np.array(ubl_pseudo_labels)\n",
        "\n",
        "    score = alpha*conf + (1-alpha)*cert\n",
        "    score = (score-min(score))/(max(score)-min(score))+0.0001\n",
        "    score = np.exp(score/schedule[iter])\n",
        "    score = score/sum(score)\n",
        "\n",
        "    indx = np.random.choice(len(score), 300000, p = score)\n",
        "\n",
        "    X = ubl_train_images[indx]\n",
        "    y = ubl_pseudo_labels[indx]\n",
        "\n",
        "    X = np.concatenate([lbl_train_images, X])\n",
        "    y = np.concatenate([lbl_train_labels, y])\n",
        "\n",
        "    augimage = makeaugs(1, X)\n",
        "    X = augimage\n",
        "\n",
        "    print(\"< iter \"+str(iter)+\" evaluation >\")\n",
        "    predictions = fit_and_labeling_cnn_13(epoch, 64)\n",
        "    print(time.time() - first)\n",
        "    \n",
        "    epoch = 50\n",
        "    del augimage, X, y\n",
        "    gc.collect()"
      ]
    },
    {
      "cell_type": "code",
      "source": [
        ""
      ],
      "metadata": {
        "id": "Pw61myYSit7W"
      },
      "execution_count": null,
      "outputs": []
    }
  ],
  "metadata": {
    "accelerator": "GPU",
    "colab": {
      "collapsed_sections": [],
      "name": "Keras_UncertaintyBootstrap_SVHN.ipynb",
      "provenance": [],
      "include_colab_link": true
    },
    "kernelspec": {
      "display_name": "Python 3 (ipykernel)",
      "language": "python",
      "name": "python3"
    },
    "language_info": {
      "codemirror_mode": {
        "name": "ipython",
        "version": 3
      },
      "file_extension": ".py",
      "mimetype": "text/x-python",
      "name": "python",
      "nbconvert_exporter": "python",
      "pygments_lexer": "ipython3",
      "version": "3.9.7"
    }
  },
  "nbformat": 4,
  "nbformat_minor": 0
}